{
 "cells": [
  {
   "cell_type": "code",
   "execution_count": 21,
   "metadata": {},
   "outputs": [],
   "source": [
    "import os\n",
    "import re"
   ]
  },
  {
   "cell_type": "markdown",
   "metadata": {},
   "source": [
    "Store texts in the following directory structure:\n",
    "\n",
    "    texts\n",
    "      Bon\n",
    "        file1.txt\n",
    "        file2.txt\n",
    "        ...\n",
    "      Nyingma\n",
    "        file1.txt\n",
    "        file2.txt\n",
    "        ..."
   ]
  },
  {
   "cell_type": "code",
   "execution_count": 40,
   "metadata": {},
   "outputs": [],
   "source": [
    "tsek = '་'\n",
    "vocab = [\"བྱང་ཆུབ་སེམས\",\n",
    "\"བྱང་ཆུབ་སྙིང་པོ\",\n",
    "\"ཆོས་ཉིད\",\n",
    "\"ཆོས་དབྱིངས\",\n",
    "\"ཆོས་སྐུ\",\n",
    "\"བོན་སྐུ\",\n",
    "\"ཡེ་ཤེས\",\n",
    "\"གཏི་མུག\",\n",
    "\"སྐུ་དང་ཡེ་ཤེས\",\n",
    "\"སེམས་ཉིད\",\n",
    "\"རིག་པ\",\n",
    "\"སྦྱོར་བ\",\n",
    "\"རྟོགས་པ\",\n",
    "\"སངས་རྒྱས་པ\",\n",
    "\"སྐུ་གསུང་ཐུགས\",\n",
    "\"གཉིས་མེད\",\n",
    "\"མི་འགྱུར\",\n",
    "\"ལས་འདས\",\n",
    "\"མི་རྟོག\",\n",
    "\"རང་འབྱུང\",\n",
    "\"ཐིག་ལེ་གཅིག\",\n",
    "\"བདེ་བ་ཆེན་པོ\",\n",
    "\"སེམས་ཉིད\",\n",
    "\"མཉམ་ཉིད\",\n",
    "\"སངས་རྒྱས\",\n",
    "\"ཁྱུང\",\n",
    "\"སེང་གེ\",\n",
    "\"ཐག་བཅད\",\n",
    "\"ངོ་བོ་ཉིད\",\n",
    "\"བསམ་གཏན\",\n",
    "\"ཞི་གནས\",\n",
    "\"ལྷག་མཐོང\",\n",
    "\"ཚུལ་ཁྲིམས\",\n",
    "\"གཤེན་ལྷ་འོད་དཀར\",\n",
    "\"རྡོ་རྗེ་སེམས་དཔའ\",\n",
    "\"དཀྱིལ་འཁོར\",\n",
    "\"བདུད་རྩི\"]\n",
    "\n",
    "def read_texts(text_dir):\n",
    "    fnames = []\n",
    "    texts = []\n",
    "    \n",
    "    for filename in sorted(os.listdir(text_dir)):\n",
    "        if \".txt\" in filename:\n",
    "            with open(os.path.join(text_dir, filename), 'r', encoding='utf-8-sig') as f:\n",
    "                fnames.append(filename)\n",
    "                texts.append(f.read())\n",
    "                \n",
    "    return texts, fnames"
   ]
  },
  {
   "cell_type": "code",
   "execution_count": 41,
   "metadata": {},
   "outputs": [],
   "source": [
    "bon_texts, bon_fnames = read_texts(\"texts/Bon\")\n",
    "nyingma_texts, nyingma_fnames = read_texts(\"texts/Nyingma\")\n",
    "bon_large_texts, bon_large_fnames = read_texts(\"texts/Bon-Large\")\n",
    "nyingma_large_texts, nyingma_large_fnames = read_texts(\"texts/Nyingma-Large\")"
   ]
  },
  {
   "cell_type": "code",
   "execution_count": 42,
   "metadata": {
    "scrolled": false
   },
   "outputs": [
    {
     "name": "stdout",
     "output_type": "stream",
     "text": [
      "6,0,6,0,19,1,0,8,13,7,26,0,12,0,17,0,234,2,2,241,1,13,8,8,1,10,1,1,0,0,0,3,2,0,0,0,0,2\n",
      "0,0,0,0,0,0,0,0,0,0,0,0,0,0,0,0,0,0,0,3,1,1,4,0,1,9,1,0,0,0,0,0,0,0,0,0,0,0\n",
      "0,0,0,0,0,0,0,0,0,0,0,0,0,0,0,0,0,0,3,175,2,1,5,1,1,3,6,0,0,0,0,0,1,0,0,1,0,2\n",
      "0,0,0,0,0,0,0,0,0,0,0,0,0,0,0,0,0,0,0,8,1,1,1,4,3,3,0,0,0,0,0,8,0,0,0,0,0,0\n",
      "0,0,0,0,0,0,0,0,0,0,0,0,0,0,0,0,0,0,1,30,6,1,2,0,0,2,2,4,1,0,0,0,0,1,0,1,0,0\n",
      "0,0,0,0,0,0,0,0,0,0,0,0,0,0,6,0,0,1,0,0,0,0,0,0,0,0,0,0,0,0,0,0,0,0,0,0,0,0\n",
      "50,13,2,30,76,0,0,5,4,4,19,1,13,21,40,65,478,25,24,245,25,4,16,3,6,12,10,0,0,1,3,2,4,0,0,2,0,0\n",
      "16,1,0,0,0,0,0,1,0,1,1,0,0,0,0,3,29,4,4,10,1,0,1,1,0,1,0,0,0,0,2,0,1,0,0,0,0,0\n",
      "0,0,0,0,0,0,0,0,0,0,2,0,0,0,2,2,2,0,0,2,0,0,2,0,0,0,0,0,0,0,0,0,0,0,0,0,0,0\n",
      "44,26,0,11,38,0,0,11,1,1,5,1,4,14,3,10,238,2,2,30,0,1,2,5,1,2,2,1,1,0,0,0,0,1,0,0,0,0\n",
      "9,1,12,13,109,0,1,11,8,3,19,2,8,4,15,12,234,11,14,38,11,0,1,3,4,0,0,4,0,1,0,0,0,0,0,1,0,0\n",
      "1,0,0,0,0,0,0,0,0,0,0,0,0,0,0,0,1,0,0,4,1,0,2,0,0,1,1,0,0,0,0,1,0,0,0,0,0,0\n",
      "25,10,1,2,45,1,0,9,1,0,9,0,8,2,9,10,384,5,5,37,3,3,5,1,2,3,2,2,0,1,0,0,1,0,0,0,0,2\n",
      "4,0,0,0,6,0,0,7,1,0,10,0,0,4,0,0,59,2,3,1,2,1,1,0,0,0,0,1,1,0,0,0,0,1,0,0,0,0\n",
      "1,0,0,0,2,0,0,1,0,0,0,0,0,0,0,10,4,0,0,25,4,0,1,0,0,3,1,0,0,0,1,6,0,0,0,0,0,0\n",
      "8,0,0,1,7,0,0,0,0,0,0,0,0,0,3,4,127,23,28,21,4,14,2,2,0,7,2,1,1,0,0,1,3,1,1,0,0,1\n",
      "16,5,1,4,24,0,0,2,0,1,4,2,2,1,2,9,125,15,18,48,2,2,5,6,0,2,1,1,0,2,0,0,1,0,1,1,0,0\n",
      "11,4,1,0,26,0,0,7,0,0,6,0,7,2,10,7,109,15,13,25,11,3,7,2,1,3,11,4,1,1,0,0,2,1,0,1,0,0\n",
      "11,0,0,1,7,0,0,1,0,1,3,0,0,6,0,1,41,12,10,102,6,3,7,4,1,5,2,0,0,3,0,0,1,0,0,0,0,0\n",
      "4,14,0,0,0,0,0,3,0,0,0,0,0,0,9,7,37,9,0,153,0,0,0,0,0,0,0,0,0,0,0,0,0,0,0,0,0,0\n",
      "4,0,1,4,13,0,0,0,0,0,0,0,0,2,0,1,28,8,10,0,1,0,1,0,0,0,0,0,0,0,0,0,0,0,0,0,0,0\n",
      "8,2,0,0,34,0,0,7,0,0,6,0,0,2,0,1,104,0,1,5,2,1,0,0,0,4,1,1,1,1,0,0,0,1,0,0,0,1\n",
      "44,26,0,11,38,0,0,11,1,1,5,1,4,14,3,10,238,2,2,30,0,1,2,5,1,2,2,1,1,0,0,0,0,1,0,0,0,0\n",
      "2,0,0,0,0,0,0,1,0,0,0,1,1,1,0,2,9,0,0,10,3,0,3,2,0,0,1,1,0,0,0,2,0,0,0,0,0,0\n",
      "4,0,0,2,10,1,0,7,1,0,10,1,1,4,11,0,80,20,43,204,21,17,26,0,1,12,1,3,3,5,0,1,2,3,0,0,1,0\n",
      "0,1,0,1,4,0,1,1,0,0,0,0,0,0,4,1,11,0,1,1,0,1,19,0,0,1,0,0,0,0,0,0,0,0,0,0,0,0\n",
      "4,1,0,0,0,0,0,1,0,0,0,0,0,1,3,0,7,0,0,2,2,0,2,0,0,0,0,0,0,0,0,0,0,0,0,0,0,0\n",
      "1,2,0,0,0,0,0,1,0,0,0,0,0,0,14,0,12,0,1,0,0,0,0,0,0,0,0,0,0,1,0,0,0,0,0,0,0,0\n",
      "0,0,0,0,0,0,0,0,0,0,0,0,0,0,0,1,0,9,10,4,4,2,4,0,0,0,0,0,0,0,0,0,0,0,0,0,0,0\n",
      "0,0,0,0,0,0,0,0,0,0,0,0,0,0,0,0,5,8,9,2,1,1,3,0,0,0,0,0,0,3,0,0,0,0,0,0,1,0\n",
      "1,1,0,0,0,0,0,1,0,0,0,0,0,0,0,0,3,0,0,2,1,0,0,0,0,1,0,0,0,0,0,0,0,0,0,0,0,0\n",
      "1,2,0,0,0,0,0,2,0,0,0,0,0,0,0,0,4,0,0,0,2,0,0,0,0,0,0,0,0,0,0,0,0,0,0,0,0,0\n",
      "0,0,0,0,0,0,0,0,0,0,0,0,0,0,0,0,0,1,1,5,2,0,1,2,0,0,0,1,0,0,0,0,0,0,0,0,0,0\n",
      "10,1,2,1,28,0,1,2,0,2,8,1,2,0,1,2,72,0,0,0,0,0,0,0,0,0,0,0,0,0,0,0,0,0,0,0,0,0\n",
      "0,0,0,0,0,0,0,0,0,0,0,0,0,0,0,0,0,0,0,3,5,3,3,2,1,2,1,1,1,0,0,0,0,1,0,0,0,0\n",
      "0,0,0,0,2,0,0,1,0,2,3,0,0,0,0,17,12,3,2,12,15,0,14,1,0,15,0,0,0,2,1,1,1,0,0,0,0,0\n",
      "3,0,0,1,4,0,0,0,0,0,0,0,0,0,0,4,71,4,4,3,0,0,6,2,0,1,0,0,0,0,1,1,1,0,0,1,0,0\n"
     ]
    }
   ],
   "source": [
    "M = np.zeros((len(vocab), len(bon_texts) + len(bon_large_texts) + len(nyingma_large_texts) + len(nyingma_texts)))\n",
    "for i, t in enumerate(bon_texts + bon_large_texts + nyingma_large_texts + nyingma_texts):\n",
    "    c = Counter(t)\n",
    "    for j, v in enumerate(vocab):\n",
    "        M[j, i] = len(re.findall(r\"{}\".format(v), t))\n",
    "\n",
    "for v in M:\n",
    "    print(','.join(map(str, list(v.astype(int))))) "
   ]
  },
  {
   "cell_type": "code",
   "execution_count": 43,
   "metadata": {},
   "outputs": [
    {
     "name": "stdout",
     "output_type": "stream",
     "text": [
      "01-SMDG-gser-lung-non-che.txt,02-SMDG-gser-lung-non-chung.txt,03-SMDG-sems-phran-rig-pa-khu-byug-sa-gcod.txt,04-SMDG-rig-pa-khu-byug-gzhung.txt,05-SMDG-rig-pa-khu-byug-grel.txt,06-SMDG-cog-bzhag-sa-gcod.txt,07-SMDG-cog-bzhag-gzhung.txt,08-SMDG-cog-bzhag-grel.txt,09a-SMDG-rgyun-thag-sa-gcod.-144-145docx.txt,09b-SMDG-rgyun-thag-gzhung-145-147.txt,09c-SMDG-rgyun-thag-grel-147-160.txt,10-SMDG-sems-lung-rgyun-thag.txt,11-SMDG-sems-lung-rgyun-thag-'grel.txt,12-SMDG-lhug-par-bzhag-pa.txt,13-ngang-thag_sems-smad-sde-dgu-TTN-v3.txt,14-SMDG-thig-le-dbyings-kyi-ti-ka-v2.txt,Kanjur-172-gab-pa-dgu་_pp.1-565.txt,kanjur-174-1_gser-gyi-rus-sbal.txt,gser-gyi-rus-sbal_vol8-p.520-558.txt,kun-byed-rgyal-po_vol8_p.7-183.txt,L1-rig-pa'i-khu-byug_p302-324.txt,L2-rtsal-chen_p436-447་.txt,L3-khyung-chen_p447-468.txt,L4_byang-sems-bsgom-rdo-la-gser-zhun-p416-425.txt,L5_nam-mkha'-che-rgyas-pa-yi-ge-med-pa_V8-p.468-473.txt,LL01_L14_rtse-mo-byung-rgyal_vol8-p480-491.txt,LL02_་nam-mkha'-rgyal-po_vol8-v475-480.txt,LL03_L16_bde-ba-phra-bkod_V8-p.495-498.txt,LL04_byang-chub-sems-tig.txt,LL05_spyi-bcings-spyi-chings_Liljenberg-p268ff.txt,LL06_L15_bde-ba-rab-'byams_vol8-p.473-475-not-sure.txt,LL07_L10_srog-gi-'khor-lo_v8.p491-494.txt,LL08_thig-le-drug-pa-NGB-vol33.txt,LL09_spyi-gcod_vol8_p.498.txt,LL10_yid-bzhin-nor-bu-431.txt,LL11_kun-'dus-NGB-mtshams-brag-vol1-624-626་.txt,LL12_rje-btsan-dam-pa_NGB-vol34-p63-64.txt,LL13-sgom-pa-don-grubdocx.txt\n"
     ]
    }
   ],
   "source": [
    "print(','.join(bon_fnames + bon_large_fnames + nyingma_large_fnames + nyingma_fnames))"
   ]
  },
  {
   "cell_type": "code",
   "execution_count": null,
   "metadata": {},
   "outputs": [],
   "source": []
  }
 ],
 "metadata": {
  "kernelspec": {
   "display_name": "Python 3",
   "language": "python",
   "name": "python3"
  },
  "language_info": {
   "codemirror_mode": {
    "name": "ipython",
    "version": 3
   },
   "file_extension": ".py",
   "mimetype": "text/x-python",
   "name": "python",
   "nbconvert_exporter": "python",
   "pygments_lexer": "ipython3",
   "version": "3.6.5"
  }
 },
 "nbformat": 4,
 "nbformat_minor": 2
}
