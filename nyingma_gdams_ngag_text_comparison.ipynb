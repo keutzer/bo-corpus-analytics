{
 "cells": [
  {
   "cell_type": "code",
   "execution_count": 1,
   "metadata": {},
   "outputs": [],
   "source": [
    "from collections import Counter\n",
    "from gensim.corpora import Dictionary\n",
    "from nltk import ngrams\n",
    "from scipy import stats\n",
    "\n",
    "import itertools\n",
    "import numpy as np\n",
    "import os\n",
    "import pybo\n",
    "\n",
    "import matplotlib.pyplot as plt\n",
    "%matplotlib inline"
   ]
  },
  {
   "cell_type": "markdown",
   "metadata": {},
   "source": [
    "Store texts in the following directory structure:\n",
    "\n",
    "    texts\n",
    "      Nyingma-GN\n",
    "        file1.txt\n",
    "        file2.txt\n",
    "        ...\n",
    "      Nyingma\n",
    "        file1.txt\n",
    "        file2.txt\n",
    "        ..."
   ]
  },
  {
   "cell_type": "code",
   "execution_count": 2,
   "metadata": {
    "scrolled": true
   },
   "outputs": [
    {
     "name": "stdout",
     "output_type": "stream",
     "text": [
      "Loading Trie...\n",
      "Time: 5.875126838684082\n"
     ]
    }
   ],
   "source": [
    "tok = pybo.BoTokenizer('POS')"
   ]
  },
  {
   "cell_type": "markdown",
   "metadata": {},
   "source": [
    "Assumptions here:\n",
    "1. Drop all non-bo text\n",
    "2. Drop all phrase delimiters (shad)\n",
    "3. Reduce words to lemmas\n",
    "4. Strip beginning and ending tseks from lemmas"
   ]
  },
  {
   "cell_type": "code",
   "execution_count": 18,
   "metadata": {},
   "outputs": [],
   "source": [
    "tsek = '་'\n",
    "\n",
    "# Create dictionary to map document index back to filename\n",
    "GN_idx2fname = {}\n",
    "GN_texts = []\n",
    "for filename in sorted(os.listdir(\"texts/Nyingma-GN\")):\n",
    "    if \".txt\" in filename:\n",
    "        with open(\"texts/Nyingma-GN/\" + filename, 'r', encoding='utf-8-sig') as f:\n",
    "            GN_idx2fname[len(GN_texts)] = filename\n",
    "            tokens = [t for t in tok.tokenize(f.read()) if t.type != \"non-bo\" and t.pos != \"punct\"]\n",
    "            lemmas = [t.lemma.strip(tsek) if t.lemma else t.content.strip(tsek) for t in tokens]\n",
    "            GN_texts.append(lemmas)\n",
    "            \n",
    "# Now process nyingma\n",
    "idx2fname = {}\n",
    "texts = []\n",
    "for filename in sorted(os.listdir(\"texts/Nyingma-tmp\")):\n",
    "    if \".txt\" in filename:\n",
    "        with open(\"texts/Nyingma-tmp/\" + filename, 'r', encoding='utf-8-sig') as f:\n",
    "            idx2fname[len(texts)] = filename\n",
    "            tokens = [t for t in tok.tokenize(f.read()) if t.type != \"non-bo\" and t.pos != \"punct\"]\n",
    "            lemmas = [t.lemma.strip(tsek) if t.lemma else t.content.strip(tsek) for t in tokens]\n",
    "            texts.append(lemmas)"
   ]
  },
  {
   "cell_type": "markdown",
   "metadata": {},
   "source": [
    "## Part 1: Pairwise cosine similarity of term frequency vectors (filtered)"
   ]
  },
  {
   "cell_type": "code",
   "execution_count": 19,
   "metadata": {},
   "outputs": [],
   "source": [
    "filter_list = ['གི','ལ','གིས','དང','ནི','ནས','པ','གོ','ཀྱང','དུ','ཀྱིས','དེ','ཏེ','མ','སྟེ','སུ','ཀྱི','གྱིས','ན','ཅེས','འདི','གྱི','ཅི','བ','པར','ཡིས','ཅིང','མོ','ཅེས་པ','རྣམས','ཏུ']\n",
    "\n",
    "GN_texts_f = []\n",
    "for t in GN_texts:\n",
    "    t_f = [x for x in t if x not in filter_list]\n",
    "    GN_texts_f.append(t_f)\n",
    "\n",
    "texts_f = []\n",
    "for t in texts:\n",
    "    t_f = [x for x in t if x not in filter_list]\n",
    "    texts_f.append(t_f)\n",
    "\n",
    "dct_f = Dictionary(GN_texts_f + texts_f)\n",
    "\n",
    "GN_bows_f = []\n",
    "for t in GN_texts_f:\n",
    "    GN_bows_f.append(dct_f.doc2bow(t))\n",
    "    \n",
    "bows_f = []\n",
    "for t in texts_f:\n",
    "    bows_f.append(dct_f.doc2bow(t))\n",
    "    \n",
    "GN_tfs_f = []\n",
    "for t in GN_bows_f:\n",
    "    vec = np.zeros(len(dct_f))\n",
    "    for k, v in t:\n",
    "        vec[k] = v\n",
    "    GN_tfs_f.append(vec)\n",
    "    \n",
    "tfs_f = []\n",
    "for t in bows_f:\n",
    "    vec = np.zeros(len(dct_f))\n",
    "    for k, v in t:\n",
    "        vec[k] = v\n",
    "    tfs_f.append(vec)"
   ]
  },
  {
   "cell_type": "code",
   "execution_count": 20,
   "metadata": {},
   "outputs": [
    {
     "name": "stdout",
     "output_type": "stream",
     "text": [
      "GN self similarity\n"
     ]
    },
    {
     "data": {
      "image/png": "[encoded data removed]",
      "text/plain": [
       "<matplotlib.figure.Figure at 0x118f19be0>"
      ]
     },
     "metadata": {},
     "output_type": "display_data"
    },
    {
     "name": "stdout",
     "output_type": "stream",
     "text": [
      "Nyingma similarity\n"
     ]
    },
    {
     "data": {
      "image/png": "[encoded data removed]",
      "text/plain": [
       "<matplotlib.figure.Figure at 0x11c59ef28>"
      ]
     },
     "metadata": {},
     "output_type": "display_data"
    },
    {
     "name": "stdout",
     "output_type": "stream",
     "text": [
      "Cross similarity\n"
     ]
    },
    {
     "data": {
      "image/png": "[encoded data removed]",
      "text/plain": [
       "<matplotlib.figure.Figure at 0x117cbe518>"
      ]
     },
     "metadata": {},
     "output_type": "display_data"
    }
   ],
   "source": [
    "print(\"GN self similarity\")\n",
    "cos_sims_f = np.zeros((len(GN_tfs_f), len(GN_tfs_f)))\n",
    "\n",
    "for i in range(len(GN_tfs_f)):\n",
    "    for j in range(len(GN_tfs_f)):\n",
    "        u = GN_tfs_f[i]\n",
    "        v = GN_tfs_f[j]\n",
    "        cos_sims_f[i,j] = (u / np.linalg.norm(u)).dot(v / np.linalg.norm(v))\n",
    "        \n",
    "plt.imshow(cos_sims_f, cmap='hot', interpolation='nearest')\n",
    "plt.xlabel('GN Texts')\n",
    "plt.ylabel('GN Texts')\n",
    "plt.show()\n",
    "\n",
    "print(\"Nyingma similarity\")\n",
    "cos_sims_f = np.zeros((len(tfs_f), len(tfs_f)))\n",
    "\n",
    "for i in range(len(tfs_f)):\n",
    "    for j in range(len(tfs_f)):\n",
    "        u = tfs_f[i]\n",
    "        v = tfs_f[j]\n",
    "        cos_sims_f[i,j] = (u / np.linalg.norm(u)).dot(v / np.linalg.norm(v))\n",
    "        \n",
    "plt.imshow(cos_sims_f, cmap='hot', interpolation='nearest')\n",
    "plt.xlabel('Nyingma Texts')\n",
    "plt.ylabel('Nyingma Texts')\n",
    "plt.show()\n",
    "\n",
    "print(\"Cross similarity\")\n",
    "cos_sims_f = np.zeros((len(GN_tfs_f), len(tfs_f)))\n",
    "\n",
    "for i in range(len(GN_tfs_f)):\n",
    "    for j in range(len(tfs_f)):\n",
    "        u = GN_tfs_f[i]\n",
    "        v = tfs_f[j]\n",
    "        cos_sims_f[i,j] = (u / np.linalg.norm(u)).dot(v / np.linalg.norm(v))\n",
    "        \n",
    "plt.imshow(cos_sims_f, cmap='hot', interpolation='nearest')\n",
    "plt.xlabel('Nyingma Texts')\n",
    "plt.ylabel('GN Texts')\n",
    "plt.show()"
   ]
  },
  {
   "cell_type": "code",
   "execution_count": 21,
   "metadata": {},
   "outputs": [
    {
     "data": {
      "text/plain": [
       "{0: 'L1_GN2-rig-pa-khu-byug.txt',\n",
       " 1: 'L2_G5-rtsal-chen.txt',\n",
       " 2: 'L3_GN1-khyung-chen.txt',\n",
       " 3: 'L4_GN6-sems-sgom.txt',\n",
       " 4: 'L5_GN3-nam-mkha-che.txt',\n",
       " 5: 'LL01-GN-rtse-mo.txt',\n",
       " 6: \"LL02-GN_namkha'i-rgyal-po.txt\",\n",
       " 7: 'LL03-GN-12_bde-ba-phra-bkod.txt',\n",
       " 8: 'LL04-GN11_spyi-chings.txt',\n",
       " 9: \"LL06_GN16-bde-ba-rab-'byams.txt\",\n",
       " 10: \"LL07-GN13-srog-gi-'khor-lo.txt\",\n",
       " 11: 'LL08_GN4-thig-le-drug.txt',\n",
       " 12: 'LL09_GN10-spyi-gcod.txt',\n",
       " 13: 'LL10_GN8-yid-bzhin-nor-bu.txt',\n",
       " 14: \"LL11-GN14-kun-'dus.txt\",\n",
       " 15: 'LL12-GN18-rje-btsan-dam-pa.txt'}"
      ]
     },
     "execution_count": 21,
     "metadata": {},
     "output_type": "execute_result"
    }
   ],
   "source": [
    "GN_idx2fname"
   ]
  },
  {
   "cell_type": "code",
   "execution_count": 22,
   "metadata": {},
   "outputs": [
    {
     "data": {
      "text/plain": [
       "{0: \"L1-rig-pa'i-khu-byug_p302-324.txt\",\n",
       " 1: 'L2-rtsal-chen_p436-447་.txt',\n",
       " 2: 'L3-khyung-chen_p447-468.txt',\n",
       " 3: 'L4_byang-sems-bsgom-rdo-la-gser-zhun-p416-425.txt',\n",
       " 4: \"L5_nam-mkha'-che-rgyas-pa-yi-ge-med-pa_V8-p.468-473.txt\",\n",
       " 5: 'LL01_L14_rtse-mo-byung-rgyal_vol8-p480-491.txt',\n",
       " 6: \"LL02_་nam-mkha'-rgyal-po_vol8-v475-480.txt\",\n",
       " 7: 'LL03_L16_bde-ba-phra-bkod_V8-p.495-498.txt',\n",
       " 8: 'LL05_spyi-bcings-spyi-chings_Liljenberg-p268ff.txt',\n",
       " 9: \"LL06_L15_bde-ba-rab-'byams_vol8-p.473-475-not-sure.txt\",\n",
       " 10: \"LL07_L10_srog-gi-'khor-lo_v8.p491-494.txt\",\n",
       " 11: 'LL08_thig-le-drug-pa-NGB-vol33.txt',\n",
       " 12: 'LL09_spyi-gcod_vol8_p.498.txt',\n",
       " 13: 'LL10_yid-bzhin-nor-bu-431.txt',\n",
       " 14: \"LL11_kun-'dus-NGB-mtshams-brag-vol1-624-626་.txt\",\n",
       " 15: 'LL12_rje-btsan-dam-pa_NGB-vol34-p63-64.txt'}"
      ]
     },
     "execution_count": 22,
     "metadata": {},
     "output_type": "execute_result"
    }
   ],
   "source": [
    "idx2fname"
   ]
  },
  {
   "cell_type": "markdown",
   "metadata": {},
   "source": [
    "## Part 2: Pairwise cosine similarity of bigram frequency vectors (filtered)"
   ]
  },
  {
   "cell_type": "code",
   "execution_count": 24,
   "metadata": {
    "scrolled": true
   },
   "outputs": [
    {
     "name": "stdout",
     "output_type": "stream",
     "text": [
      "GN self similarity\n"
     ]
    },
    {
     "data": {
      "image/png": "[encoded data removed]",
      "text/plain": [
       "<matplotlib.figure.Figure at 0x1293f57b8>"
      ]
     },
     "metadata": {},
     "output_type": "display_data"
    },
    {
     "name": "stdout",
     "output_type": "stream",
     "text": [
      "Nyingma self similarity\n"
     ]
    },
    {
     "data": {
      "image/png": "[encoded data removed]",
      "text/plain": [
       "<matplotlib.figure.Figure at 0x11f32c198>"
      ]
     },
     "metadata": {},
     "output_type": "display_data"
    },
    {
     "name": "stdout",
     "output_type": "stream",
     "text": [
      "Cross similarity\n"
     ]
    },
    {
     "data": {
      "image/png": "[encoded data removed]",
      "text/plain": [
       "<matplotlib.figure.Figure at 0x11f32c6a0>"
      ]
     },
     "metadata": {},
     "output_type": "display_data"
    }
   ],
   "source": [
    "GN_bigrams_f = []\n",
    "for t in GN_texts:\n",
    "    grams = [tsek.join(x) for x in ngrams(t, 2) if not set(x).intersection(filter_list)]\n",
    "    GN_bigrams_f.append(grams)\n",
    "    \n",
    "bigrams_f = []\n",
    "for t in texts:\n",
    "    grams = [tsek.join(x) for x in ngrams(t, 2) if not set(x).intersection(filter_list)]\n",
    "    bigrams_f.append(grams)\n",
    "    \n",
    "dct_bigrams_f = Dictionary(GN_bigrams_f + bigrams_f)\n",
    "\n",
    "GN_bows_bigrams_f = []\n",
    "for t in GN_bigrams_f:\n",
    "    GN_bows_bigrams_f.append(dct_bigrams_f.doc2bow(t))\n",
    "    \n",
    "bows_bigrams_f = []\n",
    "for t in bigrams_f:\n",
    "    bows_bigrams_f.append(dct_bigrams_f.doc2bow(t))\n",
    "    \n",
    "GN_tfs_bigrams_f = []\n",
    "for t in GN_bows_bigrams_f:\n",
    "    vec = np.zeros(len(dct_bigrams_f))\n",
    "    for k, v in t:\n",
    "        vec[k] = v\n",
    "    GN_tfs_bigrams_f.append(vec)\n",
    "    \n",
    "tfs_bigrams_f = []\n",
    "for t in bows_bigrams_f:\n",
    "    vec = np.zeros(len(dct_bigrams_f))\n",
    "    for k, v in t:\n",
    "        vec[k] = v\n",
    "    tfs_bigrams_f.append(vec)\n",
    "\n",
    "print(\"GN self similarity\")\n",
    "cos_sims_bigrams_f = np.zeros((len(GN_tfs_bigrams_f), len(GN_tfs_bigrams_f)))\n",
    "\n",
    "for i in range(len(GN_tfs_bigrams_f)):\n",
    "    for j in range(len(GN_tfs_bigrams_f)):\n",
    "        u = GN_tfs_bigrams_f[i]\n",
    "        v = GN_tfs_bigrams_f[j]\n",
    "        cos_sims_bigrams_f[i,j] = (u / np.linalg.norm(u)).dot(v / np.linalg.norm(v))\n",
    "\n",
    "plt.imshow(cos_sims_bigrams_f, cmap='hot', interpolation='nearest')\n",
    "plt.xlabel('GN Texts')\n",
    "plt.ylabel('GN Texts')\n",
    "plt.show()\n",
    "\n",
    "print(\"Nyingma self similarity\")\n",
    "cos_sims_bigrams_f = np.zeros((len(tfs_bigrams_f), len(tfs_bigrams_f)))\n",
    "\n",
    "for i in range(len(tfs_bigrams_f)):\n",
    "    for j in range(len(tfs_bigrams_f)):\n",
    "        u = tfs_bigrams_f[i]\n",
    "        v = tfs_bigrams_f[j]\n",
    "        cos_sims_bigrams_f[i,j] = (u / np.linalg.norm(u)).dot(v / np.linalg.norm(v))\n",
    "\n",
    "plt.imshow(cos_sims_bigrams_f, cmap='hot', interpolation='nearest')\n",
    "plt.xlabel('Nyingma Texts')\n",
    "plt.ylabel('Nyingma Texts')\n",
    "plt.show()\n",
    "\n",
    "print(\"Cross similarity\")\n",
    "cos_sims_bigrams_f = np.zeros((len(GN_tfs_bigrams_f), len(tfs_bigrams_f)))\n",
    "\n",
    "for i in range(len(GN_tfs_bigrams_f)):\n",
    "    for j in range(len(tfs_bigrams_f)):\n",
    "        u = GN_tfs_bigrams_f[i]\n",
    "        v = tfs_bigrams_f[j]\n",
    "        cos_sims_bigrams_f[i,j] = (u / np.linalg.norm(u)).dot(v / np.linalg.norm(v))\n",
    "\n",
    "plt.imshow(cos_sims_bigrams_f, cmap='hot', interpolation='nearest')\n",
    "plt.xlabel('Nyingma Texts')\n",
    "plt.ylabel('GN Texts')\n",
    "plt.show()"
   ]
  },
  {
   "cell_type": "code",
   "execution_count": 25,
   "metadata": {},
   "outputs": [
    {
     "data": {
      "text/plain": [
       "{0: 'L1_GN2-rig-pa-khu-byug.txt',\n",
       " 1: 'L2_G5-rtsal-chen.txt',\n",
       " 2: 'L3_GN1-khyung-chen.txt',\n",
       " 3: 'L4_GN6-sems-sgom.txt',\n",
       " 4: 'L5_GN3-nam-mkha-che.txt',\n",
       " 5: 'LL01-GN-rtse-mo.txt',\n",
       " 6: \"LL02-GN_namkha'i-rgyal-po.txt\",\n",
       " 7: 'LL03-GN-12_bde-ba-phra-bkod.txt',\n",
       " 8: 'LL04-GN11_spyi-chings.txt',\n",
       " 9: \"LL06_GN16-bde-ba-rab-'byams.txt\",\n",
       " 10: \"LL07-GN13-srog-gi-'khor-lo.txt\",\n",
       " 11: 'LL08_GN4-thig-le-drug.txt',\n",
       " 12: 'LL09_GN10-spyi-gcod.txt',\n",
       " 13: 'LL10_GN8-yid-bzhin-nor-bu.txt',\n",
       " 14: \"LL11-GN14-kun-'dus.txt\",\n",
       " 15: 'LL12-GN18-rje-btsan-dam-pa.txt'}"
      ]
     },
     "execution_count": 25,
     "metadata": {},
     "output_type": "execute_result"
    }
   ],
   "source": [
    "GN_idx2fname"
   ]
  },
  {
   "cell_type": "code",
   "execution_count": 26,
   "metadata": {},
   "outputs": [
    {
     "data": {
      "text/plain": [
       "{0: \"L1-rig-pa'i-khu-byug_p302-324.txt\",\n",
       " 1: 'L2-rtsal-chen_p436-447་.txt',\n",
       " 2: 'L3-khyung-chen_p447-468.txt',\n",
       " 3: 'L4_byang-sems-bsgom-rdo-la-gser-zhun-p416-425.txt',\n",
       " 4: \"L5_nam-mkha'-che-rgyas-pa-yi-ge-med-pa_V8-p.468-473.txt\",\n",
       " 5: 'LL01_L14_rtse-mo-byung-rgyal_vol8-p480-491.txt',\n",
       " 6: \"LL02_་nam-mkha'-rgyal-po_vol8-v475-480.txt\",\n",
       " 7: 'LL03_L16_bde-ba-phra-bkod_V8-p.495-498.txt',\n",
       " 8: 'LL05_spyi-bcings-spyi-chings_Liljenberg-p268ff.txt',\n",
       " 9: \"LL06_L15_bde-ba-rab-'byams_vol8-p.473-475-not-sure.txt\",\n",
       " 10: \"LL07_L10_srog-gi-'khor-lo_v8.p491-494.txt\",\n",
       " 11: 'LL08_thig-le-drug-pa-NGB-vol33.txt',\n",
       " 12: 'LL09_spyi-gcod_vol8_p.498.txt',\n",
       " 13: 'LL10_yid-bzhin-nor-bu-431.txt',\n",
       " 14: \"LL11_kun-'dus-NGB-mtshams-brag-vol1-624-626་.txt\",\n",
       " 15: 'LL12_rje-btsan-dam-pa_NGB-vol34-p63-64.txt'}"
      ]
     },
     "execution_count": 26,
     "metadata": {},
     "output_type": "execute_result"
    }
   ],
   "source": [
    "idx2fname"
   ]
  },
  {
   "cell_type": "markdown",
   "metadata": {},
   "source": [
    "## Part 3: Pairwise cosine similarity of word + bigram frequency vectors (filtered)"
   ]
  },
  {
   "cell_type": "code",
   "execution_count": 30,
   "metadata": {},
   "outputs": [
    {
     "name": "stdout",
     "output_type": "stream",
     "text": [
      "GN self similarity\n"
     ]
    },
    {
     "data": {
      "image/png": "[encoded data removed]",
      "text/plain": [
       "<matplotlib.figure.Figure at 0x11b2e3860>"
      ]
     },
     "metadata": {},
     "output_type": "display_data"
    },
    {
     "name": "stdout",
     "output_type": "stream",
     "text": [
      "Nyingma self similarity\n"
     ]
    },
    {
     "data": {
      "image/png": "[encoded data removed]",
      "text/plain": [
       "<matplotlib.figure.Figure at 0x1242fb470>"
      ]
     },
     "metadata": {},
     "output_type": "display_data"
    },
    {
     "name": "stdout",
     "output_type": "stream",
     "text": [
      "Cross similarity\n"
     ]
    },
    {
     "data": {
      "image/png": "[encoded data removed]",
      "text/plain": [
       "<matplotlib.figure.Figure at 0x11f3a9f98>"
      ]
     },
     "metadata": {},
     "output_type": "display_data"
    }
   ],
   "source": [
    "GN_words_bigrams_f = []\n",
    "for t1, t2 in zip(GN_texts_f, GN_bigrams_f):\n",
    "    GN_words_bigrams_f.append(t1 + t2)\n",
    "    \n",
    "words_bigrams_f = []\n",
    "for t1, t2 in zip(texts_f, bigrams_f):\n",
    "    words_bigrams_f.append(t1 + t2)\n",
    "    \n",
    "dct_words_bigrams_f = Dictionary(GN_words_bigrams_f + words_bigrams_f)\n",
    "\n",
    "GN_bows_words_bigrams_f = []\n",
    "for t in GN_words_bigrams_f:\n",
    "    GN_bows_words_bigrams_f.append(dct_words_bigrams_f.doc2bow(t))\n",
    "    \n",
    "bows_words_bigrams_f = []\n",
    "for t in words_bigrams_f:\n",
    "    bows_words_bigrams_f.append(dct_words_bigrams_f.doc2bow(t))\n",
    "    \n",
    "GN_tfs_words_bigrams_f = []\n",
    "for t in GN_bows_words_bigrams_f:\n",
    "    vec = np.zeros(len(dct_words_bigrams_f))\n",
    "    for k, v in t:\n",
    "        vec[k] = v\n",
    "    GN_tfs_words_bigrams_f.append(vec)\n",
    "    \n",
    "tfs_words_bigrams_f = []\n",
    "for t in bows_words_bigrams_f:\n",
    "    vec = np.zeros(len(dct_words_bigrams_f))\n",
    "    for k, v in t:\n",
    "        vec[k] = v\n",
    "    tfs_words_bigrams_f.append(vec)\n",
    "\n",
    "    \n",
    "print(\"GN self similarity\")\n",
    "cos_sims_words_bigrams_f = np.zeros((len(GN_tfs_words_bigrams_f), len(GN_tfs_words_bigrams_f)))\n",
    "\n",
    "for i in range(len(GN_tfs_words_bigrams_f)):\n",
    "    for j in range(len(GN_tfs_words_bigrams_f)):\n",
    "        u = GN_tfs_words_bigrams_f[i]\n",
    "        v = GN_tfs_words_bigrams_f[j]\n",
    "        cos_sims_words_bigrams_f[i,j] = (u / np.linalg.norm(u)).dot(v / np.linalg.norm(v))\n",
    "\n",
    "plt.imshow(cos_sims_words_bigrams_f, cmap='hot', interpolation='nearest')\n",
    "plt.xlabel('GN Texts')\n",
    "plt.ylabel('GN Texts')\n",
    "plt.show()\n",
    "\n",
    "\n",
    "print(\"Nyingma self similarity\")\n",
    "cos_sims_words_bigrams_f = np.zeros((len(tfs_words_bigrams_f), len(tfs_words_bigrams_f)))\n",
    "\n",
    "for i in range(len(tfs_words_bigrams_f)):\n",
    "    for j in range(len(tfs_words_bigrams_f)):\n",
    "        u = tfs_words_bigrams_f[i]\n",
    "        v = tfs_words_bigrams_f[j]\n",
    "        cos_sims_words_bigrams_f[i,j] = (u / np.linalg.norm(u)).dot(v / np.linalg.norm(v))\n",
    "\n",
    "plt.imshow(cos_sims_words_bigrams_f, cmap='hot', interpolation='nearest')\n",
    "plt.xlabel('Nyingma Texts')\n",
    "plt.ylabel('Nyingma Texts')\n",
    "plt.show()\n",
    "\n",
    "\n",
    "print(\"Cross similarity\")\n",
    "cos_sims_words_bigrams_f = np.zeros((len(GN_tfs_words_bigrams_f), len(tfs_words_bigrams_f)))\n",
    "\n",
    "for i in range(len(GN_tfs_words_bigrams_f)):\n",
    "    for j in range(len(tfs_words_bigrams_f)):\n",
    "        u = GN_tfs_words_bigrams_f[i]\n",
    "        v = tfs_words_bigrams_f[j]\n",
    "        cos_sims_words_bigrams_f[i,j] = (u / np.linalg.norm(u)).dot(v / np.linalg.norm(v))\n",
    "\n",
    "plt.imshow(cos_sims_words_bigrams_f, cmap='hot', interpolation='nearest')\n",
    "plt.xlabel('Nyingma Texts')\n",
    "plt.ylabel('GN Texts')\n",
    "plt.show()"
   ]
  },
  {
   "cell_type": "code",
   "execution_count": 31,
   "metadata": {
    "scrolled": true
   },
   "outputs": [
    {
     "data": {
      "text/plain": [
       "{0: 'L1_GN2-rig-pa-khu-byug.txt',\n",
       " 1: 'L2_G5-rtsal-chen.txt',\n",
       " 2: 'L3_GN1-khyung-chen.txt',\n",
       " 3: 'L4_GN6-sems-sgom.txt',\n",
       " 4: 'L5_GN3-nam-mkha-che.txt',\n",
       " 5: 'LL01-GN-rtse-mo.txt',\n",
       " 6: \"LL02-GN_namkha'i-rgyal-po.txt\",\n",
       " 7: 'LL03-GN-12_bde-ba-phra-bkod.txt',\n",
       " 8: 'LL04-GN11_spyi-chings.txt',\n",
       " 9: \"LL06_GN16-bde-ba-rab-'byams.txt\",\n",
       " 10: \"LL07-GN13-srog-gi-'khor-lo.txt\",\n",
       " 11: 'LL08_GN4-thig-le-drug.txt',\n",
       " 12: 'LL09_GN10-spyi-gcod.txt',\n",
       " 13: 'LL10_GN8-yid-bzhin-nor-bu.txt',\n",
       " 14: \"LL11-GN14-kun-'dus.txt\",\n",
       " 15: 'LL12-GN18-rje-btsan-dam-pa.txt'}"
      ]
     },
     "execution_count": 31,
     "metadata": {},
     "output_type": "execute_result"
    }
   ],
   "source": [
    "GN_idx2fname"
   ]
  },
  {
   "cell_type": "code",
   "execution_count": 32,
   "metadata": {},
   "outputs": [
    {
     "data": {
      "text/plain": [
       "{0: \"L1-rig-pa'i-khu-byug_p302-324.txt\",\n",
       " 1: 'L2-rtsal-chen_p436-447་.txt',\n",
       " 2: 'L3-khyung-chen_p447-468.txt',\n",
       " 3: 'L4_byang-sems-bsgom-rdo-la-gser-zhun-p416-425.txt',\n",
       " 4: \"L5_nam-mkha'-che-rgyas-pa-yi-ge-med-pa_V8-p.468-473.txt\",\n",
       " 5: 'LL01_L14_rtse-mo-byung-rgyal_vol8-p480-491.txt',\n",
       " 6: \"LL02_་nam-mkha'-rgyal-po_vol8-v475-480.txt\",\n",
       " 7: 'LL03_L16_bde-ba-phra-bkod_V8-p.495-498.txt',\n",
       " 8: 'LL05_spyi-bcings-spyi-chings_Liljenberg-p268ff.txt',\n",
       " 9: \"LL06_L15_bde-ba-rab-'byams_vol8-p.473-475-not-sure.txt\",\n",
       " 10: \"LL07_L10_srog-gi-'khor-lo_v8.p491-494.txt\",\n",
       " 11: 'LL08_thig-le-drug-pa-NGB-vol33.txt',\n",
       " 12: 'LL09_spyi-gcod_vol8_p.498.txt',\n",
       " 13: 'LL10_yid-bzhin-nor-bu-431.txt',\n",
       " 14: \"LL11_kun-'dus-NGB-mtshams-brag-vol1-624-626་.txt\",\n",
       " 15: 'LL12_rje-btsan-dam-pa_NGB-vol34-p63-64.txt'}"
      ]
     },
     "execution_count": 32,
     "metadata": {},
     "output_type": "execute_result"
    }
   ],
   "source": [
    "idx2fname"
   ]
  },
  {
   "cell_type": "markdown",
   "metadata": {},
   "source": [
    "## Part 4: Pairwise Spearman Rank Correlation of common words and 2-grams (filtered)"
   ]
  },
  {
   "cell_type": "code",
   "execution_count": 33,
   "metadata": {},
   "outputs": [],
   "source": [
    "ctr_words_f = Counter()\n",
    "for t in GN_texts_f + texts_f:\n",
    "    ctr_words_f.update(t)\n",
    "    \n",
    "ctr_bigrams_f = Counter()\n",
    "for t in GN_bigrams_f + bigrams_f:\n",
    "    ctr_bigrams_f.update(t)"
   ]
  },
  {
   "cell_type": "code",
   "execution_count": 34,
   "metadata": {},
   "outputs": [],
   "source": [
    "token2id = dct_words_bigrams_f.token2id\n",
    "top_100_words = {token2id[x[0]] for x in ctr_words_f.most_common(100)}\n",
    "top_1000_bigrams = {token2id[x[0]] for x in ctr_bigrams_f.most_common(1000)}\n",
    "\n",
    "GN_trun_freq = []\n",
    "for b in GN_bows_words_bigrams_f:\n",
    "    vec = np.zeros(1100)\n",
    "    i = 0\n",
    "    for k, v in b:\n",
    "        if k in top_100_words or k in top_1000_bigrams:\n",
    "            vec[i] = v\n",
    "            i += 1\n",
    "    GN_trun_freq.append(vec)\n",
    "            \n",
    "trun_freq = []\n",
    "for b in bows_words_bigrams_f:\n",
    "    vec = np.zeros(1100)\n",
    "    i = 0\n",
    "    for k, v in b:\n",
    "        if k in top_100_words or k in top_1000_bigrams:\n",
    "            vec[i] = v\n",
    "            i += 1\n",
    "    trun_freq.append(vec)"
   ]
  },
  {
   "cell_type": "code",
   "execution_count": 36,
   "metadata": {},
   "outputs": [
    {
     "name": "stdout",
     "output_type": "stream",
     "text": [
      "GN self similarity\n"
     ]
    },
    {
     "data": {
      "image/png": "[encoded data removed]",
      "text/plain": [
       "<matplotlib.figure.Figure at 0x120f8b860>"
      ]
     },
     "metadata": {},
     "output_type": "display_data"
    },
    {
     "name": "stdout",
     "output_type": "stream",
     "text": [
      "Nyingma self similarity\n"
     ]
    },
    {
     "data": {
      "image/png": "[encoded data removed]",
      "text/plain": [
       "<matplotlib.figure.Figure at 0x1262b8940>"
      ]
     },
     "metadata": {},
     "output_type": "display_data"
    },
    {
     "name": "stdout",
     "output_type": "stream",
     "text": [
      "Cross similarity\n"
     ]
    },
    {
     "data": {
      "image/png": "[encoded data removed]",
      "text/plain": [
       "<matplotlib.figure.Figure at 0x10eaa3e10>"
      ]
     },
     "metadata": {},
     "output_type": "display_data"
    }
   ],
   "source": [
    "print(\"GN self similarity\")\n",
    "r_matrix = np.zeros((len(GN_texts), len(GN_texts)))\n",
    "\n",
    "for i in range(len(GN_texts)):\n",
    "    for j in range(len(GN_texts)):\n",
    "        t, _ = stats.spearmanr(GN_trun_freq[i], GN_trun_freq[j])\n",
    "        r_matrix[i, j] = t\n",
    "\n",
    "plt.imshow(r_matrix, cmap='hot', interpolation='nearest')\n",
    "plt.xlabel('GN Texts')\n",
    "plt.ylabel('GN Texts')\n",
    "plt.show()  \n",
    "\n",
    "\n",
    "print(\"Nyingma self similarity\")\n",
    "r_matrix = np.zeros((len(texts), len(texts)))\n",
    "\n",
    "for i in range(len(texts)):\n",
    "    for j in range(len(texts)):\n",
    "        t, _ = stats.spearmanr(trun_freq[i], trun_freq[j])\n",
    "        r_matrix[i, j] = t\n",
    "\n",
    "plt.imshow(r_matrix, cmap='hot', interpolation='nearest')\n",
    "plt.xlabel('Nyingma Texts')\n",
    "plt.ylabel('Nyingma Texts')\n",
    "plt.show()  \n",
    "\n",
    "\n",
    "print(\"Cross similarity\")\n",
    "r_matrix = np.zeros((len(GN_texts), len(texts)))\n",
    "\n",
    "for i in range(len(GN_texts)):\n",
    "    for j in range(len(texts)):\n",
    "        t, _ = stats.spearmanr(GN_trun_freq[i], trun_freq[j])\n",
    "        r_matrix[i, j] = t\n",
    "\n",
    "plt.imshow(r_matrix, cmap='hot', interpolation='nearest')\n",
    "plt.xlabel('Nyingma Texts')\n",
    "plt.ylabel('GN Texts')\n",
    "plt.show()     "
   ]
  },
  {
   "cell_type": "code",
   "execution_count": null,
   "metadata": {},
   "outputs": [],
   "source": []
  },
  {
   "cell_type": "code",
   "execution_count": null,
   "metadata": {},
   "outputs": [],
   "source": []
  }
 ],
 "metadata": {
  "kernelspec": {
   "display_name": "Python 3",
   "language": "python",
   "name": "python3"
  },
  "language_info": {
   "codemirror_mode": {
    "name": "ipython",
    "version": 3
   },
   "file_extension": ".py",
   "mimetype": "text/x-python",
   "name": "python",
   "nbconvert_exporter": "python",
   "pygments_lexer": "ipython3",
   "version": "3.6.5"
  }
 },
 "nbformat": 4,
 "nbformat_minor": 2
}
