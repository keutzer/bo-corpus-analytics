{
 "cells": [
  {
   "cell_type": "code",
   "execution_count": 1,
   "metadata": {},
   "outputs": [],
   "source": [
    "import os\n",
    "import re"
   ]
  },
  {
   "cell_type": "code",
   "execution_count": 2,
   "metadata": {
    "scrolled": false
   },
   "outputs": [
    {
     "ename": "FileNotFoundError",
     "evalue": "[Errno 2] No such file or directory: 'Corpora/Nanhai/CORPUS_TEXT_UTF8SIG'",
     "output_type": "error",
     "traceback": [
      "\u001b[0;31m---------------------------------------------------------------------------\u001b[0m",
      "\u001b[0;31mFileNotFoundError\u001b[0m                         Traceback (most recent call last)",
      "\u001b[0;32m<ipython-input-2-14d6fceba7e2>\u001b[0m in \u001b[0;36m<module>\u001b[0;34m()\u001b[0m\n\u001b[1;32m      1\u001b[0m \u001b[0mraw_texts\u001b[0m \u001b[0;34m=\u001b[0m \u001b[0;34m[\u001b[0m\u001b[0;34m]\u001b[0m\u001b[0;34m\u001b[0m\u001b[0m\n\u001b[0;32m----> 2\u001b[0;31m \u001b[0;32mfor\u001b[0m \u001b[0mfname\u001b[0m \u001b[0;32min\u001b[0m \u001b[0mos\u001b[0m\u001b[0;34m.\u001b[0m\u001b[0mlistdir\u001b[0m\u001b[0;34m(\u001b[0m\u001b[0;34m\"Corpora/Nanhai/CORPUS_TEXT_UTF8SIG\"\u001b[0m\u001b[0;34m)\u001b[0m\u001b[0;34m:\u001b[0m\u001b[0;34m\u001b[0m\u001b[0m\n\u001b[0m\u001b[1;32m      3\u001b[0m     \u001b[0;32mwith\u001b[0m \u001b[0mopen\u001b[0m\u001b[0;34m(\u001b[0m\u001b[0;34m\"Corpora/Nanhai/CORPUS_TEXT_UTF8SIG/\"\u001b[0m\u001b[0;34m+\u001b[0m\u001b[0mfname\u001b[0m\u001b[0;34m,\u001b[0m \u001b[0;34m'r'\u001b[0m\u001b[0;34m,\u001b[0m \u001b[0mencoding\u001b[0m\u001b[0;34m=\u001b[0m\u001b[0;34m'utf-8-sig'\u001b[0m\u001b[0;34m)\u001b[0m \u001b[0;32mas\u001b[0m \u001b[0mf\u001b[0m\u001b[0;34m:\u001b[0m\u001b[0;34m\u001b[0m\u001b[0m\n\u001b[1;32m      4\u001b[0m         \u001b[0mraw_texts\u001b[0m\u001b[0;34m.\u001b[0m\u001b[0mappend\u001b[0m\u001b[0;34m(\u001b[0m\u001b[0mf\u001b[0m\u001b[0;34m.\u001b[0m\u001b[0mread\u001b[0m\u001b[0;34m(\u001b[0m\u001b[0;34m)\u001b[0m\u001b[0;34m)\u001b[0m\u001b[0;34m\u001b[0m\u001b[0m\n",
      "\u001b[0;31mFileNotFoundError\u001b[0m: [Errno 2] No such file or directory: 'Corpora/Nanhai/CORPUS_TEXT_UTF8SIG'"
     ]
    }
   ],
   "source": [
    "raw_texts = []\n",
    "for fname in os.listdir(\"CORPUS_TEXT_UTF8SIG\"):\n",
    "    with open(\"CORPUS_TEXT_UTF8SIG/\"+fname, 'r', encoding='utf-8-sig') as f:\n",
    "        raw_texts.append(f.read())"
   ]
  },
  {
   "cell_type": "code",
   "execution_count": 3,
   "metadata": {},
   "outputs": [],
   "source": [
    "tsheg = \"་\"\n",
    "double_tsheg = \"：\"\n",
    "shad = \"།\"\n",
    "sbrul_shad = \"༈\"\n",
    "yig_mgo = \"༄༅\"\n",
    "gter_ma = \"༔\"\n",
    "visarga = \"ཿ\""
   ]
  },
  {
   "cell_type": "code",
   "execution_count": 122,
   "metadata": {},
   "outputs": [],
   "source": [
    "all_sents = []\n",
    "joined_sents = []\n",
    "for t in raw_texts:\n",
    "    sent_arr = t.split(shad)\n",
    "    joined_arr = []\n",
    "    for i in range(len(sent_arr)):\n",
    "        s = sent_arr[i]\n",
    "        # Strip out urls\n",
    "        s = re.sub(r'http\\S+', '', s) \n",
    "        # Strip out English characters\n",
    "        s = re.sub(r'[a-zA-Z]', '', s)\n",
    "        # Strip out numbers\n",
    "        s = re.sub(r'\\d', '', s)\n",
    "        # Strip out punctuation\n",
    "        s = re.sub(r'[\\.\"\\(\\)《》#%&\\'+,-/:;<=>?@\\[\\]_\\{\\}«»°]', '', s)\n",
    "        # Strip out weird spaces\n",
    "        s = re.sub(r'[\\ufeff\\xa0\\u200b]', '', s)\n",
    "        # Strip out other characters\n",
    "        s = re.sub(r'[\\—‘’‚“”•…⁃℃①②③④⑤⑥⑦⑧⑨⑩⑪⑫⑬○善四基川师广慈播根父组织藏语金会﹙﹚﹪＂％（）、，－：～äéê]', '', s)\n",
    "        # Strip out Tibetan punctuation \n",
    "        s = s.strip()\n",
    "        sent_arr[i] = s\n",
    "        t = s.split()\n",
    "        t = tsheg.join(t)\n",
    "        joined_arr.append(t)\n",
    "    joined_sents.extend(joined_arr)\n",
    "    all_sents.extend(sent_arr)\n",
    "\n",
    "all_sents = [x for x in all_sents if x != '']\n",
    "joined_sents = [x for x in joined_sents if x != '']"
   ]
  },
  {
   "cell_type": "code",
   "execution_count": 109,
   "metadata": {},
   "outputs": [],
   "source": [
    "from collections import Counter\n",
    "s = ''.join(all_sents)\n",
    "c_clean = Counter(s)\n",
    "c_raw = Counter(''.join(raw_texts))"
   ]
  },
  {
   "cell_type": "code",
   "execution_count": 80,
   "metadata": {},
   "outputs": [],
   "source": [
    "def find(ch):\n",
    "    i = s.find(ch)\n",
    "    print(s[i-10:i+10])"
   ]
  },
  {
   "cell_type": "code",
   "execution_count": 113,
   "metadata": {
    "scrolled": true
   },
   "outputs": [
    {
     "data": {
      "text/plain": [
       "Counter({' ': 1118992,\n",
       "         'ༀ': 3,\n",
       "         '༄': 225,\n",
       "         '༅': 225,\n",
       "         '་': 632337,\n",
       "         '༌': 1490,\n",
       "         '༎': 7,\n",
       "         '༑': 16,\n",
       "         '༔': 62,\n",
       "         '༛': 1,\n",
       "         '༸': 60,\n",
       "         '༼': 170,\n",
       "         '༽': 226,\n",
       "         'ཀ': 50129,\n",
       "         'ཁ': 60718,\n",
       "         'ག': 374444,\n",
       "         'ང': 245372,\n",
       "         'ཅ': 34336,\n",
       "         'ཆ': 45427,\n",
       "         'ཇ': 8769,\n",
       "         'ཉ': 23862,\n",
       "         'ཊ': 248,\n",
       "         'ཋ': 1,\n",
       "         'ཌ': 66,\n",
       "         'ཎ': 401,\n",
       "         'ཏ': 25678,\n",
       "         'ཐ': 34116,\n",
       "         'ད': 381844,\n",
       "         'ན': 223304,\n",
       "         'པ': 121858,\n",
       "         'ཕ': 28850,\n",
       "         'བ': 261763,\n",
       "         'བྷ': 6,\n",
       "         'མ': 181396,\n",
       "         'ཙ': 13259,\n",
       "         'ཚ': 50675,\n",
       "         'ཛ': 9350,\n",
       "         'ཛྷ': 1,\n",
       "         'ཝ': 797,\n",
       "         'ཞ': 55961,\n",
       "         'ཟ': 24039,\n",
       "         'འ': 179858,\n",
       "         'ཡ': 83403,\n",
       "         'ར': 255913,\n",
       "         'ལ': 161316,\n",
       "         'ཤ': 29574,\n",
       "         'ཥ': 8,\n",
       "         'ས': 480395,\n",
       "         'ཧ': 4367,\n",
       "         'ཨ': 10996,\n",
       "         'ཀྵ': 4,\n",
       "         'ཪ': 13,\n",
       "         'ཱ': 968,\n",
       "         'ི': 350707,\n",
       "         'ུ': 202637,\n",
       "         'ཱུ': 1,\n",
       "         'ེ': 224085,\n",
       "         'ཻ': 11,\n",
       "         'ོ': 337257,\n",
       "         'ཽ': 2,\n",
       "         'ཾ': 69,\n",
       "         'ཿ': 4,\n",
       "         'ྀ': 21,\n",
       "         'ྂ': 4,\n",
       "         'ྃ': 4,\n",
       "         '྄': 6,\n",
       "         'ྋ': 1,\n",
       "         'ྐ': 30321,\n",
       "         'ྒ': 50383,\n",
       "         'ྔ': 8108,\n",
       "         'ྕ': 1025,\n",
       "         'ྗ': 9168,\n",
       "         'ྙ': 7155,\n",
       "         'ྚ': 19,\n",
       "         'ྜ': 44,\n",
       "         'ྞ': 1,\n",
       "         'ྟ': 31324,\n",
       "         'ྠ': 2,\n",
       "         'ྡ': 16277,\n",
       "         'ྣ': 9816,\n",
       "         'ྤ': 13542,\n",
       "         'ྥ': 259,\n",
       "         'ྦ': 5306,\n",
       "         'ྨ': 4579,\n",
       "         'ྩ': 12434,\n",
       "         'ྪ': 3,\n",
       "         'ྫ': 3215,\n",
       "         'ྭ': 4846,\n",
       "         'ྰ': 46,\n",
       "         'ྱ': 177751,\n",
       "         'ྲ': 91449,\n",
       "         'ླ': 26592,\n",
       "         'ྴ': 1,\n",
       "         'ྵ': 2,\n",
       "         'ྷ': 7177,\n",
       "         '᪠': 1,\n",
       "         '–': 8})"
      ]
     },
     "execution_count": 113,
     "metadata": {},
     "output_type": "execute_result"
    }
   ],
   "source": [
    "c_clean"
   ]
  },
  {
   "cell_type": "code",
   "execution_count": 131,
   "metadata": {},
   "outputs": [],
   "source": [
    "all_targets = []\n",
    "for sent in all_sents:\n",
    "    targets = []\n",
    "    for word in sent.split():\n",
    "        for i, syllable in enumerate(word.split(tsheg)):\n",
    "            if i == 0:\n",
    "                targets.append('1')\n",
    "            else:\n",
    "                targets.append('0')\n",
    "    all_targets.append(targets)"
   ]
  },
  {
   "cell_type": "code",
   "execution_count": 132,
   "metadata": {},
   "outputs": [
    {
     "data": {
      "text/plain": [
       "122111"
      ]
     },
     "execution_count": 132,
     "metadata": {},
     "output_type": "execute_result"
    }
   ],
   "source": [
    "len(all_targets)"
   ]
  },
  {
   "cell_type": "code",
   "execution_count": 133,
   "metadata": {},
   "outputs": [
    {
     "data": {
      "text/plain": [
       "['1',\n",
       " '0',\n",
       " '0',\n",
       " '0',\n",
       " '1',\n",
       " '1',\n",
       " '0',\n",
       " '1',\n",
       " '1',\n",
       " '0',\n",
       " '1',\n",
       " '0',\n",
       " '1',\n",
       " '1',\n",
       " '0',\n",
       " '1',\n",
       " '0',\n",
       " '1',\n",
       " '0']"
      ]
     },
     "execution_count": 133,
     "metadata": {},
     "output_type": "execute_result"
    }
   ],
   "source": [
    "all_targets[0] "
   ]
  },
  {
   "cell_type": "code",
   "execution_count": 134,
   "metadata": {},
   "outputs": [
    {
     "data": {
      "text/plain": [
       "'སྟག་ལུང་བཀའ་རྒྱུད ཀྱི མ་དགོན ཁྲ འཁྱིལ་མ ལྷ་ཁང གི ཉམས་བཟོ ལེགས་འགྲུབ བྱུང་བ'"
      ]
     },
     "execution_count": 134,
     "metadata": {},
     "output_type": "execute_result"
    }
   ],
   "source": [
    "all_sents[0]"
   ]
  },
  {
   "cell_type": "code",
   "execution_count": 135,
   "metadata": {},
   "outputs": [],
   "source": [
    "all_targets = [' '.join(t) for t in all_targets]"
   ]
  },
  {
   "cell_type": "code",
   "execution_count": 136,
   "metadata": {},
   "outputs": [],
   "source": [
    "train_text = joined_sents[:100000]\n",
    "train_target = all_targets[:100000]\n",
    "val_text = joined_sents[100000:112111]\n",
    "val_target = all_targets[100000:112111]\n",
    "test_text = joined_sents[112111:]\n",
    "test_target = all_targets[112111:]"
   ]
  },
  {
   "cell_type": "code",
   "execution_count": 137,
   "metadata": {},
   "outputs": [],
   "source": [
    "with open(\"Corpora/Nanhai/data/train_text.txt\", \"w\", encoding='utf-8-sig') as f:\n",
    "    f.write('\\n'.join(train_text))\n",
    "with open(\"Corpora/Nanhai/data/train_target.txt\", \"w\", encoding='utf-8-sig') as f:\n",
    "    f.write('\\n'.join(train_target))\n",
    "with open(\"Corpora/Nanhai/data/val_text.txt\", \"w\", encoding='utf-8-sig') as f:\n",
    "    f.write('\\n'.join(val_text))\n",
    "with open(\"Corpora/Nanhai/data/val_target.txt\", \"w\", encoding='utf-8-sig') as f:\n",
    "    f.write('\\n'.join(val_target))\n",
    "with open(\"Corpora/Nanhai/data/test_text.txt\", \"w\", encoding='utf-8-sig') as f:\n",
    "    f.write('\\n'.join(test_text))\n",
    "with open(\"Corpora/Nanhai/data/test_target.txt\", \"w\", encoding='utf-8-sig') as f:\n",
    "    f.write('\\n'.join(test_target))"
   ]
  },
  {
   "cell_type": "code",
   "execution_count": null,
   "metadata": {},
   "outputs": [],
   "source": []
  }
 ],
 "metadata": {
  "kernelspec": {
   "display_name": "Python 3",
   "language": "python",
   "name": "python3"
  },
  "language_info": {
   "codemirror_mode": {
    "name": "ipython",
    "version": 3
   },
   "file_extension": ".py",
   "mimetype": "text/x-python",
   "name": "python",
   "nbconvert_exporter": "python",
   "pygments_lexer": "ipython3",
   "version": "3.6.5"
  }
 },
 "nbformat": 4,
 "nbformat_minor": 2
}
