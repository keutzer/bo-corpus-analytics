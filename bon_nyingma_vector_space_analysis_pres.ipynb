{
 "cells": [
  {
   "cell_type": "markdown",
   "metadata": {},
   "source": [
    "## Introduction\n",
    "\n",
    "The goal of this analysis is to find a vectorization of Bon and Nyingma texts such that dimensionality reduction techniques (PCA, t-SNE) allow us to visually distinguish between the two groups of texts\n",
    "\n",
    "\n",
    "## Prologue: Tokenizing Tibetan texts and setting up dimensionality reduction framework"
   ]
  },
  {
   "cell_type": "code",
   "execution_count": 1,
   "metadata": {},
   "outputs": [],
   "source": [
    "from collections import Counter\n",
    "from nltk import ngrams\n",
    "\n",
    "from sklearn.decomposition import PCA\n",
    "from sklearn.manifold import TSNE\n",
    "from sklearn.preprocessing import StandardScaler\n",
    "\n",
    "from gensim.corpora import Dictionary\n",
    "from gensim.models import LsiModel, TfidfModel\n",
    "\n",
    "import itertools\n",
    "import gensim\n",
    "import numpy as np\n",
    "import os\n",
    "import pybo\n",
    "\n",
    "import matplotlib.pyplot as plt\n",
    "%matplotlib inline"
   ]
  },
  {
   "cell_type": "markdown",
   "metadata": {},
   "source": [
    "Store texts in the following directory structure:\n",
    "\n",
    "    texts\n",
    "      Bon\n",
    "        file1.txt\n",
    "        file2.txt\n",
    "        ...\n",
    "      Nyingma\n",
    "        file1.txt\n",
    "        file2.txt\n",
    "        ..."
   ]
  },
  {
   "cell_type": "code",
   "execution_count": 2,
   "metadata": {},
   "outputs": [
    {
     "name": "stdout",
     "output_type": "stream",
     "text": [
      "Loading Trie...\n",
      "Time: 4.909692049026489\n"
     ]
    }
   ],
   "source": [
    "tok = pybo.BoTokenizer('POS')"
   ]
  },
  {
   "cell_type": "markdown",
   "metadata": {},
   "source": [
    "Assumptions here:\n",
    "1. Drop all non-bo text\n",
    "2. Drop all phrase delimiters (shad)\n",
    "3. Reduce words to lemmas\n",
    "4. Strip beginning and ending tseks from lemmas"
   ]
  },
  {
   "cell_type": "code",
   "execution_count": 3,
   "metadata": {},
   "outputs": [],
   "source": [
    "tsek = '་'\n",
    "\n",
    "# Create dictionary to map document index back to filename\n",
    "bon_idx2fname = {}\n",
    "bon_texts = []\n",
    "for filename in os.listdir(\"texts/Bon\"):\n",
    "    if \".txt\" in filename:\n",
    "        with open(\"texts/Bon/\" + filename, 'r', encoding='utf-8-sig') as f:\n",
    "            bon_idx2fname[len(bon_texts)] = filename\n",
    "            lemmas = [t.lemma.strip(tsek) for t in tok.tokenize(f.read()) if t.type != \"non-bo\" and t.pos != \"punct\"]\n",
    "            bon_texts.append(lemmas)\n",
    "            \n",
    "# Now process nyingma\n",
    "nyingma_idx2fname = {}\n",
    "nyingma_texts = []\n",
    "for filename in os.listdir(\"texts/Nyingma\"):\n",
    "    if \".txt\" in filename:\n",
    "        with open(\"texts/Nyingma/\" + filename, 'r', encoding='utf-8-sig') as f:\n",
    "            nyingma_idx2fname[len(nyingma_texts)] = filename\n",
    "            lemmas = [t.lemma.strip(tsek) for t in tok.tokenize(f.read()) if t.type != \"non-bo\" and t.pos != \"punct\"]\n",
    "            nyingma_texts.append(lemmas)"
   ]
  },
  {
   "cell_type": "markdown",
   "metadata": {},
   "source": [
    "Helper functions to run PCA, t-SNE, PCA + t-SNE on set of vectors and then plot with matplotlib.\n",
    "\n",
    "PCA + t-SNE first runs PCA to a medium-dimensionality space (default to 50D) and then runs t-SNE on these intermediate vectors."
   ]
  },
  {
   "cell_type": "code",
   "execution_count": 4,
   "metadata": {},
   "outputs": [],
   "source": [
    "# Expects X as array of vectors and colors as array of characters 'r' or 'b'\n",
    "# If normalize is set to True, use StandardScaler to normalize inputs\n",
    "def visualize_pca(X, colors=None, normalize=False):\n",
    "    pca = PCA(n_components=2)\n",
    "    if normalize:\n",
    "        scale = StandardScaler()\n",
    "        X = scale.fit_transform(X)\n",
    "    pca_X = pca.fit_transform(X)\n",
    "    plt.clf()\n",
    "    plt.scatter(pca_X[:,0], pca_X[:,1], c=colors)\n",
    "    plt.show()\n",
    "\n",
    "# Perplexity is a parameter of tsne usually set to a value in [5, 50] with higher values for larger datasets\n",
    "def visualize_tsne(X, perplexity=10, colors=None, normalize=False):\n",
    "    if normalize:\n",
    "        scale = StandardScaler()\n",
    "        X = scale.fit_transform(X)\n",
    "    tsne = TSNE(n_components=2, init='random',\n",
    "                         random_state=0, perplexity=perplexity)\n",
    "    tsne_X = tsne.fit_transform(X)\n",
    "    plt.clf()\n",
    "    plt.scatter(tsne_X[:,0], tsne_X[:,1], c=colors)\n",
    "    plt.show()\n",
    "\n",
    "# K is the number of intermediate PCA dimensions to project X into before t-SNE\n",
    "def visualize_pca_tsne(X, K=50, perplexity=10, colors=None, normalize=False):\n",
    "    pca = PCA(n_components=K)\n",
    "    if normalize:\n",
    "        scale = StandardScaler()\n",
    "        X = scale.fit_transform(X)\n",
    "    pca_X = pca.fit_transform(X)\n",
    "    \n",
    "    tsne = TSNE(n_components=2, init='random',\n",
    "                         random_state=0, perplexity=perplexity)\n",
    "    tsne_X = tsne.fit_transform(pca_X)\n",
    "    plt.clf()\n",
    "    plt.scatter(tsne_X[:,0], tsne_X[:,1], c=colors)\n",
    "    plt.show()"
   ]
  },
  {
   "cell_type": "markdown",
   "metadata": {},
   "source": [
    "## Part 1: Word Frequency Analysis\n",
    "\n",
    "We can now easily compute the most frequent words"
   ]
  },
  {
   "cell_type": "code",
   "execution_count": 5,
   "metadata": {},
   "outputs": [],
   "source": [
    "all_bon = list(itertools.chain(*bon_texts))\n",
    "all_nyingma = list(itertools.chain(*nyingma_texts))\n",
    "\n",
    "bon_words = Counter(all_bon)\n",
    "nyingma_words = Counter(all_nyingma)"
   ]
  },
  {
   "cell_type": "code",
   "execution_count": 6,
   "metadata": {},
   "outputs": [
    {
     "name": "stdout",
     "output_type": "stream",
     "text": [
      "10 most common words in Bon texts\n",
      "('གི', 5345)\n",
      "('ལ', 4650)\n",
      "('གིས', 2594)\n",
      "('ལས', 2205)\n",
      "('དང', 2137)\n",
      "('ནི', 2064)\n",
      "('ནས', 1769)\n",
      "('པ', 1606)\n",
      "('གོ', 1517)\n",
      "('ཀྱང', 1465)\n",
      "\n",
      "10 most common words in Nyingma texts\n",
      "('གི', 1498)\n",
      "('ལ', 1192)\n",
      "('དང', 574)\n",
      "('གིས', 522)\n",
      "('གོ', 467)\n",
      "('མི', 452)\n",
      "('དུ', 447)\n",
      "('མེད', 444)\n",
      "('ཀྱི', 415)\n",
      "('ནི', 360)\n"
     ]
    }
   ],
   "source": [
    "print(\"10 most common words in Bon texts\")\n",
    "for p in bon_words.most_common(10):\n",
    "    print(p)\n",
    "    \n",
    "print(\"\\n10 most common words in Nyingma texts\")\n",
    "for p in nyingma_words.most_common(10):\n",
    "    print(p)"
   ]
  },
  {
   "cell_type": "markdown",
   "metadata": {},
   "source": [
    "## Part 1b: 2 to 5-gram Frequency\n",
    "\n",
    "We can easily extend this analysis to 2, 3, 4, 5-gram frequency"
   ]
  },
  {
   "cell_type": "code",
   "execution_count": 7,
   "metadata": {},
   "outputs": [
    {
     "name": "stdout",
     "output_type": "stream",
     "text": [
      "10 most common 2-grams in Bon texts\n",
      "(('པ', 'གི'), 554)\n",
      "(('མེད་པ', 'གི'), 441)\n",
      "(('གི', 'དོན'), 361)\n",
      "(('དེ', 'ལ'), 274)\n",
      "(('དེ', 'ནི'), 267)\n",
      "(('ལ', 'ཀྱང'), 256)\n",
      "(('བོན', 'ཉིད'), 244)\n",
      "(('བྱང་ཆུབ', 'ཀྱིས'), 236)\n",
      "(('བྱ', 'གོ'), 235)\n",
      "(('ཀྱིས', 'སེམས'), 233)\n",
      "\n",
      "10 most common 2-grams in Nyingma texts\n",
      "(('རྨད', 'དུ'), 132)\n",
      "(('དུ', 'བྱུང་བ'), 132)\n",
      "(('ཀུན', 'ཏུ'), 100)\n",
      "(('བྱང་ཆུབ', 'སེམས'), 94)\n",
      "(('མེད་པ', 'གི'), 82)\n",
      "(('གི', 'ཆོས'), 77)\n",
      "(('ཀུན', 'གྱི'), 69)\n",
      "(('ལ', 'ཀྱང'), 69)\n",
      "(('ཡིན', 'གོ'), 67)\n",
      "(('པ', 'གི'), 64)\n"
     ]
    }
   ],
   "source": [
    "N=2\n",
    "\n",
    "bon_ngrams = Counter(ngrams(all_bon, N))\n",
    "nyingma_ngrams = Counter(ngrams(all_nyingma, N))\n",
    "\n",
    "print(\"10 most common {}-grams in Bon texts\".format(N))\n",
    "for p in bon_ngrams.most_common(10):\n",
    "    print(p)\n",
    "    \n",
    "print(\"\\n10 most common {}-grams in Nyingma texts\".format(N))\n",
    "for p in nyingma_ngrams.most_common(10):\n",
    "    print(p)"
   ]
  },
  {
   "cell_type": "code",
   "execution_count": 8,
   "metadata": {},
   "outputs": [
    {
     "name": "stdout",
     "output_type": "stream",
     "text": [
      "10 most common 3-grams in Bon texts\n",
      "(('བྱང་ཆུབ', 'ཀྱིས', 'སེམས'), 204)\n",
      "(('ཅེས', 'བྱ', 'གོ'), 141)\n",
      "(('ཅི', 'ལ', 'ཀྱང'), 126)\n",
      "(('འབྲུ', 'ཏིག', 'སྟེ'), 124)\n",
      "(('ལ', 'བསྒོམ', 'མོ'), 122)\n",
      "(('ཏིག', 'སྟེ', 'ངོས'), 116)\n",
      "(('དེ', 'ལ', 'བྱ'), 114)\n",
      "(('བཅའ', 'ལ', 'ཏེ'), 113)\n",
      "(('འཕྲུལ', 'གྱི', 'ལྡེ་མིག'), 112)\n",
      "(('ལ', 'ཏེ', 'བཤད'), 108)\n",
      "\n",
      "10 most common 3-grams in Nyingma texts\n",
      "(('རྨད', 'དུ', 'བྱུང་བ'), 130)\n",
      "(('བྱང་ཆུབ', 'ཀྱི', 'སེམས'), 56)\n",
      "(('གི', 'ལེའུ', 'སྟེ'), 52)\n",
      "(('དུ', 'བྱུང་བ', 'ཉིད'), 44)\n",
      "(('ཀུན', 'ཏུ', 'བཟང་པོ'), 40)\n",
      "(('དཔལ', 'ཀུན', 'ཏུ'), 38)\n",
      "(('ཆེན་པོ', 'རྨད', 'དུ'), 34)\n",
      "(('བཅོམ་ལྡན་འདས', 'དཔལ', 'ཀུན'), 33)\n",
      "(('གོ', 'དེ་ནས', 'བཅོམ་ལྡན་འདས'), 32)\n",
      "(('ཅི', 'ལ', 'ཀྱང'), 31)\n"
     ]
    }
   ],
   "source": [
    "N=3\n",
    "\n",
    "bon_ngrams = Counter(ngrams(all_bon, N))\n",
    "nyingma_ngrams = Counter(ngrams(all_nyingma, N))\n",
    "\n",
    "print(\"10 most common {}-grams in Bon texts\".format(N))\n",
    "for p in bon_ngrams.most_common(10):\n",
    "    print(p)\n",
    "    \n",
    "print(\"\\n10 most common {}-grams in Nyingma texts\".format(N))\n",
    "for p in nyingma_ngrams.most_common(10):\n",
    "    print(p)"
   ]
  },
  {
   "cell_type": "code",
   "execution_count": 9,
   "metadata": {},
   "outputs": [
    {
     "name": "stdout",
     "output_type": "stream",
     "text": [
      "10 most common 4-grams in Bon texts\n",
      "(('འབྲུ', 'ཏིག', 'སྟེ', 'ངོས'), 116)\n",
      "(('བཅའ', 'ལ', 'ཏེ', 'བཤད'), 108)\n",
      "(('ཀྱང', 'དེ', 'ལ', 'བྱ'), 105)\n",
      "(('གི', 'དམར', 'ཐག', 'དང'), 105)\n",
      "(('ཅེས', 'ཀྱང', 'དེ', 'ལ'), 101)\n",
      "(('གི', 'སྒྲར', 'འབྲུ', 'ཏིག'), 97)\n",
      "(('སྒྲར', 'འབྲུ', 'ཏིག', 'སྟེ'), 95)\n",
      "(('ཏིག', 'སྟེ', 'ངོས', 'གཟུངས'), 90)\n",
      "(('སྟེ', 'ངོས', 'གཟུངས', 'གོ'), 90)\n",
      "(('འབྲུ', 'ལ', 'བཅའ', 'ལ'), 73)\n",
      "\n",
      "10 most common 4-grams in Nyingma texts\n",
      "(('རྨད', 'དུ', 'བྱུང་བ', 'ཉིད'), 44)\n",
      "(('ཆེན་པོ', 'རྨད', 'དུ', 'བྱུང་བ'), 34)\n",
      "(('བཅོམ་ལྡན་འདས', 'དཔལ', 'ཀུན', 'ཏུ'), 33)\n",
      "(('གོ', 'དེ་ནས', 'བཅོམ་ལྡན་འདས', 'དཔལ'), 24)\n",
      "(('ཆོས', 'ཆེན་པོ', 'རྨད', 'དུ'), 23)\n",
      "(('སྟོང་གསུམ', 'གྱི', 'སྟོང', 'ཆེན་པོ'), 22)\n",
      "(('བྱུང་བ', 'ཉིད', 'ཡིན', 'གོ'), 22)\n",
      "(('གསང་བ', 'རྨད', 'དུ', 'བྱུང་བ'), 22)\n",
      "(('དེ་ནས', 'བཅོམ་ལྡན་འདས', 'དཔལ', 'ཀུན'), 21)\n",
      "(('རྨད', 'དུ', 'བྱུང་བ', 'ལས'), 21)\n"
     ]
    }
   ],
   "source": [
    "N=4\n",
    "\n",
    "bon_ngrams = Counter(ngrams(all_bon, N))\n",
    "nyingma_ngrams = Counter(ngrams(all_nyingma, N))\n",
    "\n",
    "print(\"10 most common {}-grams in Bon texts\".format(N))\n",
    "for p in bon_ngrams.most_common(10):\n",
    "    print(p)\n",
    "    \n",
    "print(\"\\n10 most common {}-grams in Nyingma texts\".format(N))\n",
    "for p in nyingma_ngrams.most_common(10):\n",
    "    print(p)"
   ]
  },
  {
   "cell_type": "code",
   "execution_count": 10,
   "metadata": {},
   "outputs": [
    {
     "name": "stdout",
     "output_type": "stream",
     "text": [
      "10 most common 5-grams in Bon texts\n",
      "(('ཅེས', 'ཀྱང', 'དེ', 'ལ', 'བྱ'), 101)\n",
      "(('གི', 'སྒྲར', 'འབྲུ', 'ཏིག', 'སྟེ'), 91)\n",
      "(('འབྲུ', 'ཏིག', 'སྟེ', 'ངོས', 'གཟུངས'), 90)\n",
      "(('ཏིག', 'སྟེ', 'ངོས', 'གཟུངས', 'གོ'), 90)\n",
      "(('སྒྲར', 'འབྲུ', 'ཏིག', 'སྟེ', 'ངོས'), 88)\n",
      "(('བཅའ', 'ལ', 'ཏེ', 'བཤད', 'ན'), 69)\n",
      "(('འབྲུ', 'ལ', 'བཅའ', 'ལ', 'ཏེ'), 65)\n",
      "(('ལ', 'བཅའ', 'ལ', 'ཏེ', 'བཤད'), 64)\n",
      "(('ལུང', 'བརྣན', 'ལ', 'བསྒོམ', 'མོ'), 64)\n",
      "(('དེ', 'འབྱེད', 'འཕྲུལ', 'གྱི', 'ལྡེ་མིག'), 57)\n",
      "\n",
      "10 most common 5-grams in Nyingma texts\n",
      "(('ཆོས', 'ཆེན་པོ', 'རྨད', 'དུ', 'བྱུང་བ'), 23)\n",
      "(('དེ་ནས', 'བཅོམ་ལྡན་འདས', 'དཔལ', 'ཀུན', 'ཏུ'), 21)\n",
      "(('རྨད', 'དུ', 'བྱུང་བ', 'ཉིད', 'ཡིན'), 21)\n",
      "(('དུ', 'བྱུང་བ', 'ཉིད', 'ཡིན', 'གོ'), 21)\n",
      "(('རྨད', 'དུ', 'བྱུང་བ', 'ཉིད', 'གོ'), 19)\n",
      "(('བཅོམ་ལྡན་འདས', 'དཔལ', 'ཀུན', 'ཏུ', 'བཟང་པོས'), 17)\n",
      "(('ཆེན་པོ', 'རྨད', 'དུ', 'བྱུང་བ', 'ལས'), 17)\n",
      "(('གོ', 'དེ་ནས', 'བཅོམ་ལྡན་འདས', 'དཔལ', 'ཀུན'), 16)\n",
      "(('བཅོམ་ལྡན་འདས', 'དཔལ', 'ཀུན', 'ཏུ', 'བཟང་པོ'), 15)\n",
      "(('བྱང་ཆུབ', 'ཀྱི', 'སེམས', 'རྨད', 'དུ'), 14)\n"
     ]
    }
   ],
   "source": [
    "N=5\n",
    "\n",
    "bon_ngrams = Counter(ngrams(all_bon, N))\n",
    "nyingma_ngrams = Counter(ngrams(all_nyingma, N))\n",
    "\n",
    "print(\"10 most common {}-grams in Bon texts\".format(N))\n",
    "for p in bon_ngrams.most_common(10):\n",
    "    print(p)\n",
    "    \n",
    "print(\"\\n10 most common {}-grams in Nyingma texts\".format(N))\n",
    "for p in nyingma_ngrams.most_common(10):\n",
    "    print(p)"
   ]
  },
  {
   "cell_type": "markdown",
   "metadata": {},
   "source": [
    "## Part 2: tf-idf vectorization\n",
    "\n",
    "tf-idf vectorization weights the frequency of terms by idf (inverse document frequency), i.e. the less frequently it appears across documents the more highly it is weighted.\n",
    "\n",
    "There exist several variants for calculating tf, idf, and also several ways of normalizing vectors to avoid biasing toward short documents, etc. We stick with the defaults for now."
   ]
  },
  {
   "cell_type": "code",
   "execution_count": 11,
   "metadata": {},
   "outputs": [],
   "source": [
    "dct = Dictionary(bon_texts + nyingma_texts)\n",
    "bon_bows = [dct.doc2bow(t) for t in bon_texts]\n",
    "nyingma_bows = [dct.doc2bow(t) for t in nyingma_texts]"
   ]
  },
  {
   "cell_type": "code",
   "execution_count": 12,
   "metadata": {},
   "outputs": [],
   "source": [
    "tfidf_model = TfidfModel(bon_bows + nyingma_bows)"
   ]
  },
  {
   "cell_type": "markdown",
   "metadata": {},
   "source": [
    "Now we convert these vectors to np arrays and visualize using PCA and TSNE"
   ]
  },
  {
   "cell_type": "code",
   "execution_count": 14,
   "metadata": {},
   "outputs": [],
   "source": [
    "bon_tfidfs = []\n",
    "for t in bon_bows:\n",
    "    vec = np.zeros(len(dct))\n",
    "    for k, v in tfidf_model[t]:\n",
    "        vec[k] = v\n",
    "    bon_tfidfs.append(vec)\n",
    "    \n",
    "nyingma_tfidfs = []\n",
    "for t in nyingma_bows:\n",
    "    vec = np.zeros(len(dct))\n",
    "    for k, v in tfidf_model[t]:\n",
    "        vec[k] = v\n",
    "    nyingma_tfidfs.append(vec)"
   ]
  },
  {
   "cell_type": "code",
   "execution_count": 15,
   "metadata": {},
   "outputs": [
    {
     "data": {
      "image/png": "[encoded data removed]",
      "text/plain": [
       "<matplotlib.figure.Figure at 0x1142ddc50>"
      ]
     },
     "metadata": {},
     "output_type": "display_data"
    },
    {
     "data": {
      "image/png": "[encoded data removed]",
      "text/plain": [
       "<matplotlib.figure.Figure at 0x111ac7f60>"
      ]
     },
     "metadata": {},
     "output_type": "display_data"
    },
    {
     "data": {
      "image/png": "[encoded data removed]",
      "text/plain": [
       "<matplotlib.figure.Figure at 0x124047828>"
      ]
     },
     "metadata": {},
     "output_type": "display_data"
    }
   ],
   "source": [
    "colors = ['r' for _ in range(len(bon_tfidfs))] + ['b' for _ in range(len(nyingma_tfidfs))]\n",
    "visualize_pca(bon_tfidfs + nyingma_tfidfs, colors=colors)\n",
    "visualize_tsne(bon_tfidfs + nyingma_tfidfs, perplexity=5, colors=colors)\n",
    "visualize_pca_tsne(bon_tfidfs + nyingma_tfidfs, K=50, perplexity=5, colors=colors)"
   ]
  },
  {
   "cell_type": "markdown",
   "metadata": {},
   "source": [
    "## Part 2b: tf-idf with n-grams\n",
    "\n",
    "We augment the dictionary now with n-grams (up to 10) and run the same analysis"
   ]
  },
  {
   "cell_type": "code",
   "execution_count": 16,
   "metadata": {},
   "outputs": [],
   "source": [
    "ngram_lexicons = [set() for _ in range(10)]\n",
    "bon_texts_ngrams = []\n",
    "for t in bon_texts:\n",
    "    text = []\n",
    "    for n in range(1, 11):\n",
    "        grams = [''.join(x) for x in ngrams(t, n)]\n",
    "        text.extend(grams)\n",
    "        ngram_lexicons[n-1].update(grams)\n",
    "    bon_texts_ngrams.append(text)\n",
    "    \n",
    "nyingma_texts_ngrams = []\n",
    "for t in nyingma_texts:\n",
    "    text = []\n",
    "    for n in range(1, 11):\n",
    "        grams = [''.join(x) for x in ngrams(t, n)]\n",
    "        text.extend(grams)\n",
    "        ngram_lexicons[n-1].update(grams)\n",
    "    nyingma_texts_ngrams.append(text)"
   ]
  },
  {
   "cell_type": "code",
   "execution_count": 17,
   "metadata": {},
   "outputs": [],
   "source": [
    "dct_ngrams = Dictionary(bon_texts_ngrams + nyingma_texts_ngrams)\n",
    "bon_bows_ngrams = [dct_ngrams.doc2bow(t) for t in bon_texts_ngrams]\n",
    "nyingma_bows_ngrams = [dct_ngrams.doc2bow(t) for t in nyingma_texts_ngrams]"
   ]
  },
  {
   "cell_type": "code",
   "execution_count": 18,
   "metadata": {},
   "outputs": [],
   "source": [
    "tfidf_model_ngrams = TfidfModel(bon_bows_ngrams + nyingma_bows_ngrams)"
   ]
  },
  {
   "cell_type": "code",
   "execution_count": 19,
   "metadata": {},
   "outputs": [],
   "source": [
    "bon_tfidfs_ngrams = []\n",
    "for t in bon_bows_ngrams:\n",
    "    vec = np.zeros(len(dct_ngrams))\n",
    "    for k, v in tfidf_model_ngrams[t]:\n",
    "        vec[k] = v\n",
    "    bon_tfidfs_ngrams.append(vec)\n",
    "    \n",
    "nyingma_tfidfs_ngrams = []\n",
    "for t in nyingma_bows_ngrams:\n",
    "    vec = np.zeros(len(dct_ngrams))\n",
    "    for k, v in tfidf_model_ngrams[t]:\n",
    "        vec[k] = v\n",
    "    nyingma_tfidfs_ngrams.append(vec)"
   ]
  },
  {
   "cell_type": "code",
   "execution_count": 20,
   "metadata": {},
   "outputs": [
    {
     "data": {
      "image/png": "[encoded data removed]",
      "text/plain": [
       "<matplotlib.figure.Figure at 0x11f238e10>"
      ]
     },
     "metadata": {},
     "output_type": "display_data"
    },
    {
     "data": {
      "image/png": "[encoded data removed]",
      "text/plain": [
       "<matplotlib.figure.Figure at 0x12aa96ba8>"
      ]
     },
     "metadata": {},
     "output_type": "display_data"
    },
    {
     "data": {
      "image/png": "[encoded data removed]",
      "text/plain": [
       "<matplotlib.figure.Figure at 0x125e21e48>"
      ]
     },
     "metadata": {},
     "output_type": "display_data"
    }
   ],
   "source": [
    "visualize_pca(bon_tfidfs_ngrams + nyingma_tfidfs_ngrams, colors=colors)\n",
    "visualize_tsne(bon_tfidfs_ngrams + nyingma_tfidfs_ngrams, perplexity=5, colors=colors)\n",
    "visualize_pca_tsne(bon_tfidfs_ngrams + nyingma_tfidfs_ngrams, K=50, perplexity=5, colors=colors)"
   ]
  },
  {
   "cell_type": "markdown",
   "metadata": {},
   "source": [
    "## Part 2c: tf-idf with n-grams with weighting\n",
    "\n",
    "We repeat the previous analysis but now we upweight the vector indices corresponding to n-grams by $e^{0.5n}$ or $2n$"
   ]
  },
  {
   "cell_type": "code",
   "execution_count": 21,
   "metadata": {},
   "outputs": [],
   "source": [
    "ngram_lens = [len(s) for s in ngram_lexicons]\n",
    "ngram_idxs = [sum(ngram_lens[:i]) for i in range(len(ngram_lens)+1)]"
   ]
  },
  {
   "cell_type": "code",
   "execution_count": 22,
   "metadata": {},
   "outputs": [
    {
     "data": {
      "text/plain": [
       "[4638, 43022, 84133, 104336, 114887, 121376, 125715, 128820, 131019, 132611]"
      ]
     },
     "execution_count": 22,
     "metadata": {},
     "output_type": "execute_result"
    }
   ],
   "source": [
    "ngram_lens"
   ]
  },
  {
   "cell_type": "code",
   "execution_count": 23,
   "metadata": {},
   "outputs": [
    {
     "data": {
      "text/plain": [
       "[0,\n",
       " 4638,\n",
       " 47660,\n",
       " 131793,\n",
       " 236129,\n",
       " 351016,\n",
       " 472392,\n",
       " 598107,\n",
       " 726927,\n",
       " 857946,\n",
       " 990557]"
      ]
     },
     "execution_count": 23,
     "metadata": {},
     "output_type": "execute_result"
    }
   ],
   "source": [
    "ngram_idxs"
   ]
  },
  {
   "cell_type": "code",
   "execution_count": 24,
   "metadata": {},
   "outputs": [],
   "source": [
    "bon_tfidfs_ngrams_exp = []\n",
    "for v in bon_tfidfs_ngrams:\n",
    "    v = np.copy(v)\n",
    "    for n in range(10):\n",
    "        v[ngram_idxs[n]:ngram_idxs[n+1]] *= np.exp((n+1) / 2)\n",
    "    bon_tfidfs_ngrams_exp.append(v)\n",
    "    \n",
    "nyingma_tfidfs_ngrams_exp = []\n",
    "for v in nyingma_tfidfs_ngrams:\n",
    "    v = np.copy(v)\n",
    "    for n in range(10):\n",
    "        v[ngram_idxs[n]:ngram_idxs[n+1]] *= np.exp((n+1) / 2)\n",
    "    nyingma_tfidfs_ngrams_exp.append(v)"
   ]
  },
  {
   "cell_type": "code",
   "execution_count": 25,
   "metadata": {},
   "outputs": [
    {
     "data": {
      "image/png": "[encoded data removed]",
      "text/plain": [
       "<matplotlib.figure.Figure at 0x137a08f60>"
      ]
     },
     "metadata": {},
     "output_type": "display_data"
    },
    {
     "data": {
      "image/png": "[encoded data removed]",
      "text/plain": [
       "<matplotlib.figure.Figure at 0x137961b38>"
      ]
     },
     "metadata": {},
     "output_type": "display_data"
    },
    {
     "data": {
      "image/png": "[encoded data removed]",
      "text/plain": [
       "<matplotlib.figure.Figure at 0x137ce85f8>"
      ]
     },
     "metadata": {},
     "output_type": "display_data"
    }
   ],
   "source": [
    "visualize_pca(bon_tfidfs_ngrams_exp + nyingma_tfidfs_ngrams_exp, colors=colors)\n",
    "visualize_tsne(bon_tfidfs_ngrams_exp + nyingma_tfidfs_ngrams_exp, perplexity=5, colors=colors)\n",
    "visualize_pca_tsne(bon_tfidfs_ngrams_exp + nyingma_tfidfs_ngrams_exp, K=50, perplexity=5, colors=colors)"
   ]
  },
  {
   "cell_type": "code",
   "execution_count": 26,
   "metadata": {},
   "outputs": [],
   "source": [
    "bon_tfidfs_ngrams_lin = []\n",
    "for v in bon_tfidfs_ngrams:\n",
    "    v = np.copy(v)\n",
    "    for n in range(10):\n",
    "        v[ngram_idxs[n]:ngram_idxs[n+1]] *= 2*(n+1)\n",
    "    bon_tfidfs_ngrams_lin.append(v)\n",
    "    \n",
    "nyingma_tfidfs_ngrams_lin = []\n",
    "for v in nyingma_tfidfs_ngrams:\n",
    "    v = np.copy(v)\n",
    "    for n in range(10):\n",
    "        v[ngram_idxs[n]:ngram_idxs[n+1]] *= 2*(n+1)\n",
    "    nyingma_tfidfs_ngrams_lin.append(v)"
   ]
  },
  {
   "cell_type": "code",
   "execution_count": 30,
   "metadata": {},
   "outputs": [
    {
     "data": {
      "image/png": "[encoded data removed]",
      "text/plain": [
       "<matplotlib.figure.Figure at 0x13b5456a0>"
      ]
     },
     "metadata": {},
     "output_type": "display_data"
    },
    {
     "data": {
      "image/png": "[encoded data removed]",
      "text/plain": [
       "<matplotlib.figure.Figure at 0x13b5596a0>"
      ]
     },
     "metadata": {},
     "output_type": "display_data"
    },
    {
     "data": {
      "image/png": "[encoded data removed]",
      "text/plain": [
       "<matplotlib.figure.Figure at 0x137d5cba8>"
      ]
     },
     "metadata": {},
     "output_type": "display_data"
    }
   ],
   "source": [
    "visualize_pca(bon_tfidfs_ngrams_lin + nyingma_tfidfs_ngrams_lin, colors=colors)\n",
    "visualize_tsne(bon_tfidfs_ngrams_lin + nyingma_tfidfs_ngrams_lin, perplexity=5, colors=colors)\n",
    "visualize_pca_tsne(bon_tfidfs_ngrams_lin + nyingma_tfidfs_ngrams_lin, K=50, perplexity=5, colors=colors)"
   ]
  },
  {
   "cell_type": "code",
   "execution_count": null,
   "metadata": {},
   "outputs": [],
   "source": []
  }
 ],
 "metadata": {
  "kernelspec": {
   "display_name": "Python 3",
   "language": "python",
   "name": "python3"
  },
  "language_info": {
   "codemirror_mode": {
    "name": "ipython",
    "version": 3
   },
   "file_extension": ".py",
   "mimetype": "text/x-python",
   "name": "python",
   "nbconvert_exporter": "python",
   "pygments_lexer": "ipython3",
   "version": "3.6.5"
  }
 },
 "nbformat": 4,
 "nbformat_minor": 2
}
