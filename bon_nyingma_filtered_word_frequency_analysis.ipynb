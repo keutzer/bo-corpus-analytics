{
 "cells": [
  {
   "cell_type": "code",
   "execution_count": 1,
   "metadata": {},
   "outputs": [],
   "source": [
    "from collections import Counter\n",
    "from gensim.corpora import Dictionary\n",
    "from nltk import ngrams\n",
    "from scipy import stats\n",
    "\n",
    "import itertools\n",
    "import numpy as np\n",
    "import os\n",
    "import pybo\n",
    "\n",
    "import matplotlib.pyplot as plt\n",
    "%matplotlib inline"
   ]
  },
  {
   "cell_type": "markdown",
   "metadata": {},
   "source": [
    "Store texts in the following directory structure:\n",
    "\n",
    "    texts\n",
    "      Bon\n",
    "        file1.txt\n",
    "        file2.txt\n",
    "        ...\n",
    "      Nyingma\n",
    "        file1.txt\n",
    "        file2.txt\n",
    "        ..."
   ]
  },
  {
   "cell_type": "code",
   "execution_count": 2,
   "metadata": {
    "scrolled": true
   },
   "outputs": [
    {
     "name": "stdout",
     "output_type": "stream",
     "text": [
      "Loading Trie...\n",
      "Time: 4.852675199508667\n"
     ]
    }
   ],
   "source": [
    "tok = pybo.BoTokenizer('POS')"
   ]
  },
  {
   "cell_type": "markdown",
   "metadata": {},
   "source": [
    "Assumptions here:\n",
    "1. Drop all non-bo text\n",
    "2. Drop all phrase delimiters (shad)\n",
    "3. Reduce words to lemmas\n",
    "4. Strip beginning and ending tseks from lemmas"
   ]
  },
  {
   "cell_type": "code",
   "execution_count": 3,
   "metadata": {},
   "outputs": [],
   "source": [
    "tsek = '་'\n",
    "\n",
    "# Create dictionary to map document index back to filename\n",
    "bon_idx2fname = {}\n",
    "bon_texts = []\n",
    "for filename in sorted(os.listdir(\"texts/Bon\")):\n",
    "    if \".txt\" in filename:\n",
    "        with open(\"texts/Bon/\" + filename, 'r', encoding='utf-8-sig') as f:\n",
    "            bon_idx2fname[len(bon_texts)] = filename\n",
    "            tokens = [t for t in tok.tokenize(f.read()) if t.type != \"non-bo\" and t.pos != \"punct\"]\n",
    "            lemmas = [t.lemma.strip(tsek) if t.lemma else t.content.strip(tsek) for t in tokens]\n",
    "            bon_texts.append(lemmas)\n",
    "            \n",
    "# Now process nyingma\n",
    "nyingma_idx2fname = {}\n",
    "nyingma_texts = []\n",
    "for filename in sorted(os.listdir(\"texts/Nyingma\")):\n",
    "    if \".txt\" in filename:\n",
    "        with open(\"texts/Nyingma/\" + filename, 'r', encoding='utf-8-sig') as f:\n",
    "            nyingma_idx2fname[len(nyingma_texts)] = filename\n",
    "            tokens = [t for t in tok.tokenize(f.read()) if t.type != \"non-bo\" and t.pos != \"punct\"]\n",
    "            lemmas = [t.lemma.strip(tsek) if t.lemma else t.content.strip(tsek) for t in tokens]\n",
    "            nyingma_texts.append(lemmas)\n",
    "            \n",
    "# Now process contrast\n",
    "contrast_idx2fname = {}\n",
    "contrast_texts = []\n",
    "for filename in sorted(os.listdir(\"texts/Contrast\")):\n",
    "    if \".txt\" in filename:\n",
    "        with open(\"texts/Contrast/\" + filename, 'r', encoding='utf-8-sig') as f:\n",
    "            contrast_idx2fname[len(contrast_texts)] = filename\n",
    "            tokens = [t for t in tok.tokenize(f.read()) if t.type != \"non-bo\" and t.pos != \"punct\"]\n",
    "            lemmas = [t.lemma.strip(tsek) if t.lemma else t.content.strip(tsek) for t in tokens]\n",
    "            contrast_texts.append(lemmas)"
   ]
  },
  {
   "cell_type": "markdown",
   "metadata": {},
   "source": [
    "## Part 1a: Pairwise cosine similarity of term frequency vectors"
   ]
  },
  {
   "cell_type": "code",
   "execution_count": 4,
   "metadata": {},
   "outputs": [],
   "source": [
    "dct = Dictionary(bon_texts + nyingma_texts + contrast_texts)"
   ]
  },
  {
   "cell_type": "code",
   "execution_count": 5,
   "metadata": {},
   "outputs": [],
   "source": [
    "bon_bows = []\n",
    "for t in bon_texts:\n",
    "    bon_bows.append(dct.doc2bow(t))\n",
    "    \n",
    "nyingma_bows = []\n",
    "for t in nyingma_texts:\n",
    "    nyingma_bows.append(dct.doc2bow(t))\n",
    "    \n",
    "contrast_bows = []\n",
    "for t in contrast_texts:\n",
    "    contrast_bows.append(dct.doc2bow(t))"
   ]
  },
  {
   "cell_type": "code",
   "execution_count": 6,
   "metadata": {},
   "outputs": [],
   "source": [
    "bon_tfs = []\n",
    "for t in bon_bows:\n",
    "    vec = np.zeros(len(dct))\n",
    "    for k, v in t:\n",
    "        vec[k] = v\n",
    "    bon_tfs.append(vec)\n",
    "    \n",
    "nyingma_tfs = []\n",
    "for t in nyingma_bows:\n",
    "    vec = np.zeros(len(dct))\n",
    "    for k, v in t:\n",
    "        vec[k] = v\n",
    "    nyingma_tfs.append(vec)\n",
    "    \n",
    "contrast_tfs = []\n",
    "for t in contrast_bows:\n",
    "    vec = np.zeros(len(dct))\n",
    "    for k, v in t:\n",
    "        vec[k] = v\n",
    "    contrast_tfs.append(vec)"
   ]
  },
  {
   "cell_type": "code",
   "execution_count": 7,
   "metadata": {},
   "outputs": [
    {
     "name": "stdout",
     "output_type": "stream",
     "text": [
      "Bon self similarity\n"
     ]
    },
    {
     "data": {
      "image/png": "[encoded data removed]",
      "text/plain": [
       "<matplotlib.figure.Figure at 0x11a445160>"
      ]
     },
     "metadata": {},
     "output_type": "display_data"
    },
    {
     "name": "stdout",
     "output_type": "stream",
     "text": [
      "Nyingma self similarity\n"
     ]
    },
    {
     "data": {
      "image/png": "[encoded data removed]",
      "text/plain": [
       "<matplotlib.figure.Figure at 0x11bc17a20>"
      ]
     },
     "metadata": {},
     "output_type": "display_data"
    },
    {
     "name": "stdout",
     "output_type": "stream",
     "text": [
      "Cross similarity\n"
     ]
    },
    {
     "data": {
      "image/png": "[encoded data removed]",
      "text/plain": [
       "<matplotlib.figure.Figure at 0x12dd337f0>"
      ]
     },
     "metadata": {},
     "output_type": "display_data"
    }
   ],
   "source": [
    "print(\"Bon self similarity\")\n",
    "b = bon_tfs + contrast_tfs\n",
    "n = nyingma_tfs + contrast_tfs\n",
    "cos_sims = np.zeros((len(b), len(b)))\n",
    "\n",
    "for i in range(len(b)):\n",
    "    for j in range(len(b)):\n",
    "        u = b[i]\n",
    "        v = b[j]\n",
    "        cos_sims[i,j] = (u / np.linalg.norm(u)).dot(v / np.linalg.norm(v))\n",
    "\n",
    "plt.imshow(cos_sims, cmap='hot', interpolation='nearest')\n",
    "plt.xlabel('Bon Texts + Contrast Texts')\n",
    "plt.ylabel('Bon Texts + Contrast Texts')\n",
    "plt.show()\n",
    "\n",
    "\n",
    "print(\"Nyingma self similarity\")\n",
    "cos_sims = np.zeros((len(n), len(n)))\n",
    "\n",
    "for i in range(len(n)):\n",
    "    for j in range(len(n)):\n",
    "        u = n[i]\n",
    "        v = n[j]\n",
    "        cos_sims[i,j] = (u / np.linalg.norm(u)).dot(v / np.linalg.norm(v))\n",
    "\n",
    "plt.imshow(cos_sims, cmap='hot', interpolation='nearest')\n",
    "plt.xlabel('Nyingma Texts + Contrast Texts')\n",
    "plt.ylabel('Nyingma Texts + Contrast Texts')\n",
    "plt.show()\n",
    "\n",
    "print(\"Cross similarity\")\n",
    "cos_sims = np.zeros((len(b), len(n)))\n",
    "\n",
    "for i in range(len(b)):\n",
    "    for j in range(len(n)):\n",
    "        u = b[i]\n",
    "        v = n[j]\n",
    "        cos_sims[i,j] = (u / np.linalg.norm(u)).dot(v / np.linalg.norm(v))\n",
    "\n",
    "plt.imshow(cos_sims, cmap='hot', interpolation='nearest')\n",
    "plt.xlabel('Nyingma Texts + Contrast Texts')\n",
    "plt.ylabel('Bon Texts + Contrast Texts')\n",
    "plt.show()"
   ]
  },
  {
   "cell_type": "markdown",
   "metadata": {},
   "source": [
    "Legend:"
   ]
  },
  {
   "cell_type": "code",
   "execution_count": 8,
   "metadata": {},
   "outputs": [
    {
     "data": {
      "text/plain": [
       "{0: '01-SMDG-gser-lung-non-che.txt',\n",
       " 1: '02-SMDG-gser-lung-non-chung.txt',\n",
       " 2: '03-SMDG-sems-phran-rig-pa-khu-byug-sa-gcod.txt',\n",
       " 3: '04-SMDG-rig-pa-khu-byug-gzhung.txt',\n",
       " 4: '05-SMDG-rig-pa-khu-byug-grel.txt',\n",
       " 5: '06-SMDG-cog-bzhag-sa-gcod.txt',\n",
       " 6: '07-SMDG-cog-bzhag-gzhung.txt',\n",
       " 7: '08-SMDG-cog-bzhag-grel.txt',\n",
       " 8: '09-SMDG-rgyun-thag-sa-gcod-gzhung-grel.txt',\n",
       " 9: '10-SMDG-sems-lung-rgyun-thag.txt',\n",
       " 10: '11-SMDG-snang-dngos-med-mdzub-tshugs.txt',\n",
       " 11: '12-SMDG-sgron-ma-gsal-ba.txt',\n",
       " 12: \"13-ngang-thag-bskal-pa'i-sgron-ma_TTN-175-195.txt\",\n",
       " 13: '14-SMDG-thig-le-dbyings-kyi-ti-ka.txt'}"
      ]
     },
     "execution_count": 8,
     "metadata": {},
     "output_type": "execute_result"
    }
   ],
   "source": [
    "bon_idx2fname"
   ]
  },
  {
   "cell_type": "code",
   "execution_count": 9,
   "metadata": {},
   "outputs": [
    {
     "data": {
      "text/plain": [
       "{0: \"L1-rig-pa'i-khu-byug_p302-324.txt\",\n",
       " 1: 'L2-rtsal-chen_p436-447་.txt',\n",
       " 2: 'L3-khyung-chen_p447-468.txt',\n",
       " 3: 'L4_byang-sems-bsgom-rdo-la-gser-zhun-p416-425.txt',\n",
       " 4: \"L5_nam-mkha'-che-rgyas-pa-yi-ge-med-pa_V8-p.468-473.txt\",\n",
       " 5: 'LL01_L14_rtse-mo-byung-rgyal_vol8-p480-491.txt',\n",
       " 6: \"LL02_་nam-mkha'-rgyal-po_vol8-v475-480.txt\",\n",
       " 7: 'LL03_L16_bde-ba-phra-bkod_V8-p.495-498.txt',\n",
       " 8: 'LL04_byang-chub-sems-tig.txt',\n",
       " 9: 'LL05_spyi-bcings-spyi-chings_Liljenberg-p268ff.txt',\n",
       " 10: \"LL06_L15_bde-ba-rab-'byams_vol8-p.473-475-not-sure.txt\",\n",
       " 11: \"LL07_L10_srog-gi-'khor-lo_v8.p491-494.txt\",\n",
       " 12: 'LL08_thig-le-drug-pa-NGB-vol33.txt',\n",
       " 13: 'LL09_spyi-gcod_vol8_p.498.txt',\n",
       " 14: 'LL10_yid-bzhin-nor-bu-431.txt',\n",
       " 15: \"LL11_kun-'dus-NGB-mtshams-brag-vol1-624-626་.txt\",\n",
       " 16: 'LL12_rje-btsan-dam-pa_NGB-vol34-p63-64.txt',\n",
       " 17: 'LL13-sgom-pa-don-grubdocx.txt'}"
      ]
     },
     "execution_count": 9,
     "metadata": {},
     "output_type": "execute_result"
    }
   ],
   "source": [
    "nyingma_idx2fname"
   ]
  },
  {
   "cell_type": "code",
   "execution_count": 10,
   "metadata": {},
   "outputs": [
    {
     "data": {
      "text/plain": [
       "{0: 'C-D-DL-A-KY-01.txt', 1: 'C-D-DL-A-KY-02.txt', 2: 'C-D-DL-A-KY-03.txt'}"
      ]
     },
     "execution_count": 10,
     "metadata": {},
     "output_type": "execute_result"
    }
   ],
   "source": [
    "contrast_idx2fname"
   ]
  },
  {
   "cell_type": "markdown",
   "metadata": {},
   "source": [
    "## Part 1b: Pairwise cosine similarity of term frequency vectors (filtered)"
   ]
  },
  {
   "cell_type": "code",
   "execution_count": 11,
   "metadata": {},
   "outputs": [],
   "source": [
    "filter_list = ['གི','ལ','གིས','དང','ནི','ནས','པ','གོ','ཀྱང','དུ','ཀྱིས','དེ','ཏེ','མ','སྟེ','སུ','ཀྱི','གྱིས','ན','ཅེས','འདི','གྱི','ཅི','བ','པར','ཡིས','ཅིང','མོ','ཅེས་པ','རྣམས','ཏུ']\n",
    "\n",
    "bon_texts_f = []\n",
    "for t in bon_texts:\n",
    "    t_f = [x for x in t if x not in filter_list]\n",
    "    bon_texts_f.append(t_f)\n",
    "\n",
    "nyingma_texts_f = []\n",
    "for t in nyingma_texts:\n",
    "    t_f = [x for x in t if x not in filter_list]\n",
    "    nyingma_texts_f.append(t_f)\n",
    "    \n",
    "contrast_texts_f = []\n",
    "for t in contrast_texts:\n",
    "    t_f = [x for x in t if x not in filter_list]\n",
    "    contrast_texts_f.append(t_f)"
   ]
  },
  {
   "cell_type": "code",
   "execution_count": 12,
   "metadata": {},
   "outputs": [],
   "source": [
    "dct_f = Dictionary(bon_texts_f + nyingma_texts_f + contrast_texts_f)"
   ]
  },
  {
   "cell_type": "code",
   "execution_count": 13,
   "metadata": {},
   "outputs": [],
   "source": [
    "bon_bows_f = []\n",
    "for t in bon_texts_f:\n",
    "    bon_bows_f.append(dct_f.doc2bow(t))\n",
    "    \n",
    "nyingma_bows_f = []\n",
    "for t in nyingma_texts_f:\n",
    "    nyingma_bows_f.append(dct_f.doc2bow(t))\n",
    "    \n",
    "contrast_bows_f = []\n",
    "for t in contrast_texts_f:\n",
    "    contrast_bows_f.append(dct_f.doc2bow(t))"
   ]
  },
  {
   "cell_type": "code",
   "execution_count": 14,
   "metadata": {},
   "outputs": [],
   "source": [
    "bon_tfs_f = []\n",
    "for t in bon_bows_f:\n",
    "    vec = np.zeros(len(dct_f))\n",
    "    for k, v in t:\n",
    "        vec[k] = v\n",
    "    bon_tfs_f.append(vec)\n",
    "    \n",
    "nyingma_tfs_f = []\n",
    "for t in nyingma_bows_f:\n",
    "    vec = np.zeros(len(dct_f))\n",
    "    for k, v in t:\n",
    "        vec[k] = v\n",
    "    nyingma_tfs_f.append(vec)\n",
    "    \n",
    "contrast_tfs_f = []\n",
    "for t in contrast_bows_f:\n",
    "    vec = np.zeros(len(dct_f))\n",
    "    for k, v in t:\n",
    "        vec[k] = v\n",
    "    contrast_tfs_f.append(vec)"
   ]
  },
  {
   "cell_type": "code",
   "execution_count": 15,
   "metadata": {},
   "outputs": [
    {
     "name": "stdout",
     "output_type": "stream",
     "text": [
      "Bon self similarity\n"
     ]
    },
    {
     "data": {
      "image/png": "[encoded data removed]",
      "text/plain": [
       "<matplotlib.figure.Figure at 0x115930320>"
      ]
     },
     "metadata": {},
     "output_type": "display_data"
    },
    {
     "name": "stdout",
     "output_type": "stream",
     "text": [
      "Nyingma similarity\n"
     ]
    },
    {
     "data": {
      "image/png": "[encoded data removed]",
      "text/plain": [
       "<matplotlib.figure.Figure at 0x116782e80>"
      ]
     },
     "metadata": {},
     "output_type": "display_data"
    },
    {
     "name": "stdout",
     "output_type": "stream",
     "text": [
      "Cross similarity\n"
     ]
    },
    {
     "data": {
      "image/png": "[encoded data removed]",
      "text/plain": [
       "<matplotlib.figure.Figure at 0x114589908>"
      ]
     },
     "metadata": {},
     "output_type": "display_data"
    }
   ],
   "source": [
    "b = bon_tfs_f + contrast_tfs_f\n",
    "n = nyingma_tfs_f + contrast_tfs_f\n",
    "\n",
    "print(\"Bon self similarity\")\n",
    "cos_sims_f = np.zeros((len(b), len(b)))\n",
    "\n",
    "for i in range(len(b)):\n",
    "    for j in range(len(b)):\n",
    "        u = b[i]\n",
    "        v = b[j]\n",
    "        cos_sims_f[i,j] = (u / np.linalg.norm(u)).dot(v / np.linalg.norm(v))\n",
    "        \n",
    "plt.imshow(cos_sims_f, cmap='hot', interpolation='nearest')\n",
    "plt.xlabel('Bon Texts + Contrast Texts')\n",
    "plt.ylabel('Bon Texts + Contrast Texts')\n",
    "plt.show()\n",
    "\n",
    "print(\"Nyingma similarity\")\n",
    "cos_sims_f = np.zeros((len(n), len(n)))\n",
    "\n",
    "for i in range(len(n)):\n",
    "    for j in range(len(n)):\n",
    "        u = n[i]\n",
    "        v = n[j]\n",
    "        cos_sims_f[i,j] = (u / np.linalg.norm(u)).dot(v / np.linalg.norm(v))\n",
    "        \n",
    "plt.imshow(cos_sims_f, cmap='hot', interpolation='nearest')\n",
    "plt.xlabel('Nyingma Texts + Contrast Texts')\n",
    "plt.ylabel('Nyingma Texts + Contrast Texts')\n",
    "plt.show()\n",
    "\n",
    "print(\"Cross similarity\")\n",
    "cos_sims_f = np.zeros((len(b), len(n)))\n",
    "\n",
    "for i in range(len(b)):\n",
    "    for j in range(len(n)):\n",
    "        u = b[i]\n",
    "        v = n[j]\n",
    "        cos_sims_f[i,j] = (u / np.linalg.norm(u)).dot(v / np.linalg.norm(v))\n",
    "        \n",
    "plt.imshow(cos_sims_f, cmap='hot', interpolation='nearest')\n",
    "plt.xlabel('Nyingma Texts + Contrast Texts')\n",
    "plt.ylabel('Bon Texts + Contrast Texts')\n",
    "plt.show()"
   ]
  },
  {
   "cell_type": "markdown",
   "metadata": {},
   "source": [
    "Legend:"
   ]
  },
  {
   "cell_type": "code",
   "execution_count": 16,
   "metadata": {},
   "outputs": [
    {
     "data": {
      "text/plain": [
       "{0: '01-SMDG-gser-lung-non-che.txt',\n",
       " 1: '02-SMDG-gser-lung-non-chung.txt',\n",
       " 2: '03-SMDG-sems-phran-rig-pa-khu-byug-sa-gcod.txt',\n",
       " 3: '04-SMDG-rig-pa-khu-byug-gzhung.txt',\n",
       " 4: '05-SMDG-rig-pa-khu-byug-grel.txt',\n",
       " 5: '06-SMDG-cog-bzhag-sa-gcod.txt',\n",
       " 6: '07-SMDG-cog-bzhag-gzhung.txt',\n",
       " 7: '08-SMDG-cog-bzhag-grel.txt',\n",
       " 8: '09-SMDG-rgyun-thag-sa-gcod-gzhung-grel.txt',\n",
       " 9: '10-SMDG-sems-lung-rgyun-thag.txt',\n",
       " 10: '11-SMDG-snang-dngos-med-mdzub-tshugs.txt',\n",
       " 11: '12-SMDG-sgron-ma-gsal-ba.txt',\n",
       " 12: \"13-ngang-thag-bskal-pa'i-sgron-ma_TTN-175-195.txt\",\n",
       " 13: '14-SMDG-thig-le-dbyings-kyi-ti-ka.txt'}"
      ]
     },
     "execution_count": 16,
     "metadata": {},
     "output_type": "execute_result"
    }
   ],
   "source": [
    "bon_idx2fname"
   ]
  },
  {
   "cell_type": "code",
   "execution_count": 17,
   "metadata": {},
   "outputs": [
    {
     "data": {
      "text/plain": [
       "{0: \"L1-rig-pa'i-khu-byug_p302-324.txt\",\n",
       " 1: 'L2-rtsal-chen_p436-447་.txt',\n",
       " 2: 'L3-khyung-chen_p447-468.txt',\n",
       " 3: 'L4_byang-sems-bsgom-rdo-la-gser-zhun-p416-425.txt',\n",
       " 4: \"L5_nam-mkha'-che-rgyas-pa-yi-ge-med-pa_V8-p.468-473.txt\",\n",
       " 5: 'LL01_L14_rtse-mo-byung-rgyal_vol8-p480-491.txt',\n",
       " 6: \"LL02_་nam-mkha'-rgyal-po_vol8-v475-480.txt\",\n",
       " 7: 'LL03_L16_bde-ba-phra-bkod_V8-p.495-498.txt',\n",
       " 8: 'LL04_byang-chub-sems-tig.txt',\n",
       " 9: 'LL05_spyi-bcings-spyi-chings_Liljenberg-p268ff.txt',\n",
       " 10: \"LL06_L15_bde-ba-rab-'byams_vol8-p.473-475-not-sure.txt\",\n",
       " 11: \"LL07_L10_srog-gi-'khor-lo_v8.p491-494.txt\",\n",
       " 12: 'LL08_thig-le-drug-pa-NGB-vol33.txt',\n",
       " 13: 'LL09_spyi-gcod_vol8_p.498.txt',\n",
       " 14: 'LL10_yid-bzhin-nor-bu-431.txt',\n",
       " 15: \"LL11_kun-'dus-NGB-mtshams-brag-vol1-624-626་.txt\",\n",
       " 16: 'LL12_rje-btsan-dam-pa_NGB-vol34-p63-64.txt',\n",
       " 17: 'LL13-sgom-pa-don-grubdocx.txt'}"
      ]
     },
     "execution_count": 17,
     "metadata": {},
     "output_type": "execute_result"
    }
   ],
   "source": [
    "nyingma_idx2fname"
   ]
  },
  {
   "cell_type": "code",
   "execution_count": 18,
   "metadata": {},
   "outputs": [
    {
     "data": {
      "text/plain": [
       "{0: 'C-D-DL-A-KY-01.txt', 1: 'C-D-DL-A-KY-02.txt', 2: 'C-D-DL-A-KY-03.txt'}"
      ]
     },
     "execution_count": 18,
     "metadata": {},
     "output_type": "execute_result"
    }
   ],
   "source": [
    "contrast_idx2fname"
   ]
  },
  {
   "cell_type": "markdown",
   "metadata": {},
   "source": [
    "## Part 2a: Pairwise cosine similarity of 2-gram frequency vectors"
   ]
  },
  {
   "cell_type": "code",
   "execution_count": 19,
   "metadata": {},
   "outputs": [],
   "source": [
    "bon_bigrams = []\n",
    "for t in bon_texts:\n",
    "    grams = [tsek.join(x) for x in ngrams(t, 2)]\n",
    "    bon_bigrams.append(grams)\n",
    "    \n",
    "nyingma_bigrams = []\n",
    "for t in nyingma_texts:\n",
    "    grams = [tsek.join(x) for x in ngrams(t, 2)]\n",
    "    nyingma_bigrams.append(grams)\n",
    "    \n",
    "contrast_bigrams = []\n",
    "for t in contrast_texts:\n",
    "    grams = [tsek.join(x) for x in ngrams(t, 2)]\n",
    "    contrast_bigrams.append(grams)"
   ]
  },
  {
   "cell_type": "code",
   "execution_count": 20,
   "metadata": {},
   "outputs": [],
   "source": [
    "dct_bigrams = Dictionary(bon_bigrams + nyingma_bigrams + contrast_bigrams)"
   ]
  },
  {
   "cell_type": "code",
   "execution_count": 21,
   "metadata": {},
   "outputs": [],
   "source": [
    "bon_bows_bigrams = []\n",
    "for t in bon_bigrams:\n",
    "    bon_bows_bigrams.append(dct_bigrams.doc2bow(t))\n",
    "    \n",
    "nyingma_bows_bigrams = []\n",
    "for t in nyingma_bigrams:\n",
    "    nyingma_bows_bigrams.append(dct_bigrams.doc2bow(t))\n",
    "    \n",
    "contrast_bows_bigrams = []\n",
    "for t in contrast_bigrams:\n",
    "    contrast_bows_bigrams.append(dct_bigrams.doc2bow(t))"
   ]
  },
  {
   "cell_type": "code",
   "execution_count": 22,
   "metadata": {},
   "outputs": [],
   "source": [
    "bon_tfs_bigrams = []\n",
    "for t in bon_bows_bigrams:\n",
    "    vec = np.zeros(len(dct_bigrams))\n",
    "    for k, v in t:\n",
    "        vec[k] = v\n",
    "    bon_tfs_bigrams.append(vec)\n",
    "    \n",
    "nyingma_tfs_bigrams = []\n",
    "for t in nyingma_bows_bigrams:\n",
    "    vec = np.zeros(len(dct_bigrams))\n",
    "    for k, v in t:\n",
    "        vec[k] = v\n",
    "    nyingma_tfs_bigrams.append(vec)\n",
    "    \n",
    "contrast_tfs_bigrams = []\n",
    "for t in contrast_bows_bigrams:\n",
    "    vec = np.zeros(len(dct_bigrams))\n",
    "    for k, v in t:\n",
    "        vec[k] = v\n",
    "    contrast_tfs_bigrams.append(vec)"
   ]
  },
  {
   "cell_type": "code",
   "execution_count": 23,
   "metadata": {},
   "outputs": [
    {
     "name": "stdout",
     "output_type": "stream",
     "text": [
      "Bon self similarity\n"
     ]
    },
    {
     "data": {
      "image/png": "[encoded data removed]",
      "text/plain": [
       "<matplotlib.figure.Figure at 0x1289e09b0>"
      ]
     },
     "metadata": {},
     "output_type": "display_data"
    },
    {
     "name": "stdout",
     "output_type": "stream",
     "text": [
      "Nyingma similarity\n"
     ]
    },
    {
     "data": {
      "image/png": "[encoded data removed]",
      "text/plain": [
       "<matplotlib.figure.Figure at 0x117be7b00>"
      ]
     },
     "metadata": {},
     "output_type": "display_data"
    },
    {
     "name": "stdout",
     "output_type": "stream",
     "text": [
      "Cross similarity\n"
     ]
    },
    {
     "data": {
      "image/png": "[encoded data removed]",
      "text/plain": [
       "<matplotlib.figure.Figure at 0x11b7a4518>"
      ]
     },
     "metadata": {},
     "output_type": "display_data"
    }
   ],
   "source": [
    "b = bon_tfs_bigrams + contrast_tfs_bigrams\n",
    "n = nyingma_tfs_bigrams + contrast_tfs_bigrams\n",
    "\n",
    "print(\"Bon self similarity\")\n",
    "cos_sims_f = np.zeros((len(b), len(b)))\n",
    "\n",
    "for i in range(len(b)):\n",
    "    for j in range(len(b)):\n",
    "        u = b[i]\n",
    "        v = b[j]\n",
    "        cos_sims_f[i,j] = (u / np.linalg.norm(u)).dot(v / np.linalg.norm(v))\n",
    "        \n",
    "plt.imshow(cos_sims_f, cmap='hot', interpolation='nearest')\n",
    "plt.xlabel('Bon Texts + Contrast Texts')\n",
    "plt.ylabel('Bon Texts + Contrast Texts')\n",
    "plt.show()\n",
    "\n",
    "print(\"Nyingma similarity\")\n",
    "cos_sims_f = np.zeros((len(n), len(n)))\n",
    "\n",
    "for i in range(len(n)):\n",
    "    for j in range(len(n)):\n",
    "        u = n[i]\n",
    "        v = n[j]\n",
    "        cos_sims_f[i,j] = (u / np.linalg.norm(u)).dot(v / np.linalg.norm(v))\n",
    "        \n",
    "plt.imshow(cos_sims_f, cmap='hot', interpolation='nearest')\n",
    "plt.xlabel('Nyingma Texts + Contrast Texts')\n",
    "plt.ylabel('Nyingma Texts + Contrast Texts')\n",
    "plt.show()\n",
    "\n",
    "print(\"Cross similarity\")\n",
    "cos_sims_f = np.zeros((len(b), len(n)))\n",
    "\n",
    "for i in range(len(b)):\n",
    "    for j in range(len(n)):\n",
    "        u = b[i]\n",
    "        v = n[j]\n",
    "        cos_sims_f[i,j] = (u / np.linalg.norm(u)).dot(v / np.linalg.norm(v))\n",
    "        \n",
    "plt.imshow(cos_sims_f, cmap='hot', interpolation='nearest')\n",
    "plt.xlabel('Nyingma Texts + Contrast Texts')\n",
    "plt.ylabel('Bon Texts + Contrast Texts')\n",
    "plt.show()"
   ]
  },
  {
   "cell_type": "markdown",
   "metadata": {},
   "source": [
    "Legend:"
   ]
  },
  {
   "cell_type": "code",
   "execution_count": 24,
   "metadata": {},
   "outputs": [
    {
     "data": {
      "text/plain": [
       "{0: '01-SMDG-gser-lung-non-che.txt',\n",
       " 1: '02-SMDG-gser-lung-non-chung.txt',\n",
       " 2: '03-SMDG-sems-phran-rig-pa-khu-byug-sa-gcod.txt',\n",
       " 3: '04-SMDG-rig-pa-khu-byug-gzhung.txt',\n",
       " 4: '05-SMDG-rig-pa-khu-byug-grel.txt',\n",
       " 5: '06-SMDG-cog-bzhag-sa-gcod.txt',\n",
       " 6: '07-SMDG-cog-bzhag-gzhung.txt',\n",
       " 7: '08-SMDG-cog-bzhag-grel.txt',\n",
       " 8: '09-SMDG-rgyun-thag-sa-gcod-gzhung-grel.txt',\n",
       " 9: '10-SMDG-sems-lung-rgyun-thag.txt',\n",
       " 10: '11-SMDG-snang-dngos-med-mdzub-tshugs.txt',\n",
       " 11: '12-SMDG-sgron-ma-gsal-ba.txt',\n",
       " 12: \"13-ngang-thag-bskal-pa'i-sgron-ma_TTN-175-195.txt\",\n",
       " 13: '14-SMDG-thig-le-dbyings-kyi-ti-ka.txt'}"
      ]
     },
     "execution_count": 24,
     "metadata": {},
     "output_type": "execute_result"
    }
   ],
   "source": [
    "bon_idx2fname"
   ]
  },
  {
   "cell_type": "code",
   "execution_count": 25,
   "metadata": {},
   "outputs": [
    {
     "data": {
      "text/plain": [
       "{0: \"L1-rig-pa'i-khu-byug_p302-324.txt\",\n",
       " 1: 'L2-rtsal-chen_p436-447་.txt',\n",
       " 2: 'L3-khyung-chen_p447-468.txt',\n",
       " 3: 'L4_byang-sems-bsgom-rdo-la-gser-zhun-p416-425.txt',\n",
       " 4: \"L5_nam-mkha'-che-rgyas-pa-yi-ge-med-pa_V8-p.468-473.txt\",\n",
       " 5: 'LL01_L14_rtse-mo-byung-rgyal_vol8-p480-491.txt',\n",
       " 6: \"LL02_་nam-mkha'-rgyal-po_vol8-v475-480.txt\",\n",
       " 7: 'LL03_L16_bde-ba-phra-bkod_V8-p.495-498.txt',\n",
       " 8: 'LL04_byang-chub-sems-tig.txt',\n",
       " 9: 'LL05_spyi-bcings-spyi-chings_Liljenberg-p268ff.txt',\n",
       " 10: \"LL06_L15_bde-ba-rab-'byams_vol8-p.473-475-not-sure.txt\",\n",
       " 11: \"LL07_L10_srog-gi-'khor-lo_v8.p491-494.txt\",\n",
       " 12: 'LL08_thig-le-drug-pa-NGB-vol33.txt',\n",
       " 13: 'LL09_spyi-gcod_vol8_p.498.txt',\n",
       " 14: 'LL10_yid-bzhin-nor-bu-431.txt',\n",
       " 15: \"LL11_kun-'dus-NGB-mtshams-brag-vol1-624-626་.txt\",\n",
       " 16: 'LL12_rje-btsan-dam-pa_NGB-vol34-p63-64.txt',\n",
       " 17: 'LL13-sgom-pa-don-grubdocx.txt'}"
      ]
     },
     "execution_count": 25,
     "metadata": {},
     "output_type": "execute_result"
    }
   ],
   "source": [
    "nyingma_idx2fname"
   ]
  },
  {
   "cell_type": "code",
   "execution_count": 26,
   "metadata": {},
   "outputs": [
    {
     "data": {
      "text/plain": [
       "{0: 'C-D-DL-A-KY-01.txt', 1: 'C-D-DL-A-KY-02.txt', 2: 'C-D-DL-A-KY-03.txt'}"
      ]
     },
     "execution_count": 26,
     "metadata": {},
     "output_type": "execute_result"
    }
   ],
   "source": [
    "contrast_idx2fname"
   ]
  },
  {
   "cell_type": "markdown",
   "metadata": {},
   "source": [
    "## Part 2b: Pairwise cosine similarity of 2-gram frequency vectors (filtered)"
   ]
  },
  {
   "cell_type": "code",
   "execution_count": 27,
   "metadata": {},
   "outputs": [
    {
     "name": "stdout",
     "output_type": "stream",
     "text": [
      "Bon self similarity\n"
     ]
    },
    {
     "data": {
      "image/png": "[encoded data removed]",
      "text/plain": [
       "<matplotlib.figure.Figure at 0x1129ba438>"
      ]
     },
     "metadata": {},
     "output_type": "display_data"
    },
    {
     "name": "stdout",
     "output_type": "stream",
     "text": [
      "Nyingma similarity\n"
     ]
    },
    {
     "data": {
      "image/png": "[encoded data removed]",
      "text/plain": [
       "<matplotlib.figure.Figure at 0x121585ba8>"
      ]
     },
     "metadata": {},
     "output_type": "display_data"
    },
    {
     "name": "stdout",
     "output_type": "stream",
     "text": [
      "Cross similarity\n"
     ]
    },
    {
     "data": {
      "image/png": "[encoded data removed]",
      "text/plain": [
       "<matplotlib.figure.Figure at 0x120863c18>"
      ]
     },
     "metadata": {},
     "output_type": "display_data"
    }
   ],
   "source": [
    "bon_bigrams_f = []\n",
    "for t in bon_texts:\n",
    "    grams = [tsek.join(x) for x in ngrams(t, 2) if not set(x).intersection(filter_list)]\n",
    "    bon_bigrams_f.append(grams)\n",
    "    \n",
    "nyingma_bigrams_f = []\n",
    "for t in nyingma_texts:\n",
    "    grams = [tsek.join(x) for x in ngrams(t, 2) if not set(x).intersection(filter_list)]\n",
    "    nyingma_bigrams_f.append(grams)\n",
    "    \n",
    "contrast_bigrams_f = []\n",
    "for t in contrast_texts:\n",
    "    grams = [tsek.join(x) for x in ngrams(t, 2) if not set(x).intersection(filter_list)]\n",
    "    contrast_bigrams_f.append(grams)\n",
    "    \n",
    "dct_bigrams_f = Dictionary(bon_bigrams_f + nyingma_bigrams_f + contrast_bigrams_f)\n",
    "\n",
    "bon_bows_bigrams_f = []\n",
    "for t in bon_bigrams_f:\n",
    "    bon_bows_bigrams_f.append(dct_bigrams_f.doc2bow(t))\n",
    "    \n",
    "nyingma_bows_bigrams_f = []\n",
    "for t in nyingma_bigrams_f:\n",
    "    nyingma_bows_bigrams_f.append(dct_bigrams_f.doc2bow(t))\n",
    "    \n",
    "contrast_bows_bigrams_f = []\n",
    "for t in contrast_bigrams_f:\n",
    "    contrast_bows_bigrams_f.append(dct_bigrams_f.doc2bow(t))\n",
    "    \n",
    "bon_tfs_bigrams_f = []\n",
    "for t in bon_bows_bigrams_f:\n",
    "    vec = np.zeros(len(dct_bigrams_f))\n",
    "    for k, v in t:\n",
    "        vec[k] = v\n",
    "    bon_tfs_bigrams_f.append(vec)\n",
    "    \n",
    "nyingma_tfs_bigrams_f = []\n",
    "for t in nyingma_bows_bigrams_f:\n",
    "    vec = np.zeros(len(dct_bigrams_f))\n",
    "    for k, v in t:\n",
    "        vec[k] = v\n",
    "    nyingma_tfs_bigrams_f.append(vec)\n",
    "\n",
    "contrast_tfs_bigrams_f = []\n",
    "for t in contrast_bows_bigrams_f:\n",
    "    vec = np.zeros(len(dct_bigrams_f))\n",
    "    for k, v in t:\n",
    "        vec[k] = v\n",
    "    contrast_tfs_bigrams_f.append(vec)\n",
    "\n",
    "b = bon_tfs_bigrams_f + contrast_tfs_bigrams_f\n",
    "n = nyingma_tfs_bigrams_f + contrast_tfs_bigrams_f\n",
    "\n",
    "print(\"Bon self similarity\")\n",
    "cos_sims_f = np.zeros((len(b), len(b)))\n",
    "\n",
    "for i in range(len(b)):\n",
    "    for j in range(len(b)):\n",
    "        u = b[i]\n",
    "        v = b[j]\n",
    "        cos_sims_f[i,j] = (u / np.linalg.norm(u)).dot(v / np.linalg.norm(v))\n",
    "        \n",
    "plt.imshow(cos_sims_f, cmap='hot', interpolation='nearest')\n",
    "plt.xlabel('Bon Texts + Contrast Texts')\n",
    "plt.ylabel('Bon Texts + Contrast Texts')\n",
    "plt.show()\n",
    "\n",
    "print(\"Nyingma similarity\")\n",
    "cos_sims_f = np.zeros((len(n), len(n)))\n",
    "\n",
    "for i in range(len(n)):\n",
    "    for j in range(len(n)):\n",
    "        u = n[i]\n",
    "        v = n[j]\n",
    "        cos_sims_f[i,j] = (u / np.linalg.norm(u)).dot(v / np.linalg.norm(v))\n",
    "        \n",
    "plt.imshow(cos_sims_f, cmap='hot', interpolation='nearest')\n",
    "plt.xlabel('Nyingma Texts + Contrast Texts')\n",
    "plt.ylabel('Nyingma Texts + Contrast Texts')\n",
    "plt.show()\n",
    "\n",
    "print(\"Cross similarity\")\n",
    "cos_sims_f = np.zeros((len(b), len(n)))\n",
    "\n",
    "for i in range(len(b)):\n",
    "    for j in range(len(n)):\n",
    "        u = b[i]\n",
    "        v = n[j]\n",
    "        cos_sims_f[i,j] = (u / np.linalg.norm(u)).dot(v / np.linalg.norm(v))\n",
    "        \n",
    "plt.imshow(cos_sims_f, cmap='hot', interpolation='nearest')\n",
    "plt.xlabel('Nyingma Texts + Contrast Texts')\n",
    "plt.ylabel('Bon Texts + Contrast Texts')\n",
    "plt.show()"
   ]
  },
  {
   "cell_type": "code",
   "execution_count": 28,
   "metadata": {
    "scrolled": true
   },
   "outputs": [
    {
     "data": {
      "text/plain": [
       "{0: '01-SMDG-gser-lung-non-che.txt',\n",
       " 1: '02-SMDG-gser-lung-non-chung.txt',\n",
       " 2: '03-SMDG-sems-phran-rig-pa-khu-byug-sa-gcod.txt',\n",
       " 3: '04-SMDG-rig-pa-khu-byug-gzhung.txt',\n",
       " 4: '05-SMDG-rig-pa-khu-byug-grel.txt',\n",
       " 5: '06-SMDG-cog-bzhag-sa-gcod.txt',\n",
       " 6: '07-SMDG-cog-bzhag-gzhung.txt',\n",
       " 7: '08-SMDG-cog-bzhag-grel.txt',\n",
       " 8: '09-SMDG-rgyun-thag-sa-gcod-gzhung-grel.txt',\n",
       " 9: '10-SMDG-sems-lung-rgyun-thag.txt',\n",
       " 10: '11-SMDG-snang-dngos-med-mdzub-tshugs.txt',\n",
       " 11: '12-SMDG-sgron-ma-gsal-ba.txt',\n",
       " 12: \"13-ngang-thag-bskal-pa'i-sgron-ma_TTN-175-195.txt\",\n",
       " 13: '14-SMDG-thig-le-dbyings-kyi-ti-ka.txt'}"
      ]
     },
     "execution_count": 28,
     "metadata": {},
     "output_type": "execute_result"
    }
   ],
   "source": [
    "bon_idx2fname"
   ]
  },
  {
   "cell_type": "code",
   "execution_count": 29,
   "metadata": {},
   "outputs": [
    {
     "data": {
      "text/plain": [
       "{0: \"L1-rig-pa'i-khu-byug_p302-324.txt\",\n",
       " 1: 'L2-rtsal-chen_p436-447་.txt',\n",
       " 2: 'L3-khyung-chen_p447-468.txt',\n",
       " 3: 'L4_byang-sems-bsgom-rdo-la-gser-zhun-p416-425.txt',\n",
       " 4: \"L5_nam-mkha'-che-rgyas-pa-yi-ge-med-pa_V8-p.468-473.txt\",\n",
       " 5: 'LL01_L14_rtse-mo-byung-rgyal_vol8-p480-491.txt',\n",
       " 6: \"LL02_་nam-mkha'-rgyal-po_vol8-v475-480.txt\",\n",
       " 7: 'LL03_L16_bde-ba-phra-bkod_V8-p.495-498.txt',\n",
       " 8: 'LL04_byang-chub-sems-tig.txt',\n",
       " 9: 'LL05_spyi-bcings-spyi-chings_Liljenberg-p268ff.txt',\n",
       " 10: \"LL06_L15_bde-ba-rab-'byams_vol8-p.473-475-not-sure.txt\",\n",
       " 11: \"LL07_L10_srog-gi-'khor-lo_v8.p491-494.txt\",\n",
       " 12: 'LL08_thig-le-drug-pa-NGB-vol33.txt',\n",
       " 13: 'LL09_spyi-gcod_vol8_p.498.txt',\n",
       " 14: 'LL10_yid-bzhin-nor-bu-431.txt',\n",
       " 15: \"LL11_kun-'dus-NGB-mtshams-brag-vol1-624-626་.txt\",\n",
       " 16: 'LL12_rje-btsan-dam-pa_NGB-vol34-p63-64.txt',\n",
       " 17: 'LL13-sgom-pa-don-grubdocx.txt'}"
      ]
     },
     "execution_count": 29,
     "metadata": {},
     "output_type": "execute_result"
    }
   ],
   "source": [
    "nyingma_idx2fname"
   ]
  },
  {
   "cell_type": "code",
   "execution_count": 30,
   "metadata": {},
   "outputs": [
    {
     "data": {
      "text/plain": [
       "{0: 'C-D-DL-A-KY-01.txt', 1: 'C-D-DL-A-KY-02.txt', 2: 'C-D-DL-A-KY-03.txt'}"
      ]
     },
     "execution_count": 30,
     "metadata": {},
     "output_type": "execute_result"
    }
   ],
   "source": [
    "contrast_idx2fname"
   ]
  },
  {
   "cell_type": "markdown",
   "metadata": {},
   "source": [
    "## Part 3a: Pairwise cosine similarity of word + 2-gram frequency"
   ]
  },
  {
   "cell_type": "code",
   "execution_count": 31,
   "metadata": {},
   "outputs": [
    {
     "name": "stdout",
     "output_type": "stream",
     "text": [
      "Bon self similarity\n"
     ]
    },
    {
     "data": {
      "image/png": "[encoded data removed]",
      "text/plain": [
       "<matplotlib.figure.Figure at 0x12092a0b8>"
      ]
     },
     "metadata": {},
     "output_type": "display_data"
    },
    {
     "name": "stdout",
     "output_type": "stream",
     "text": [
      "Nyingma similarity\n"
     ]
    },
    {
     "data": {
      "image/png": "[encoded data removed]",
      "text/plain": [
       "<matplotlib.figure.Figure at 0x12094ea58>"
      ]
     },
     "metadata": {},
     "output_type": "display_data"
    },
    {
     "name": "stdout",
     "output_type": "stream",
     "text": [
      "Cross similarity\n"
     ]
    },
    {
     "data": {
      "image/png": "[encoded data removed]",
      "text/plain": [
       "<matplotlib.figure.Figure at 0x1216bd320>"
      ]
     },
     "metadata": {},
     "output_type": "display_data"
    }
   ],
   "source": [
    "bon_words_bigrams = []\n",
    "for t1, t2 in zip(bon_texts, bon_bigrams):\n",
    "    bon_words_bigrams.append(t1 + t2)\n",
    "    \n",
    "nyingma_words_bigrams = []\n",
    "for t1, t2 in zip(nyingma_texts, nyingma_bigrams):\n",
    "    nyingma_words_bigrams.append(t1 + t2)\n",
    "    \n",
    "contrast_words_bigrams = []\n",
    "for t1, t2 in zip(contrast_texts, contrast_bigrams):\n",
    "    contrast_words_bigrams.append(t1 + t2)\n",
    "    \n",
    "dct_words_bigrams = Dictionary(bon_words_bigrams + nyingma_words_bigrams + contrast_words_bigrams)\n",
    "\n",
    "bon_bows_words_bigrams = []\n",
    "for t in bon_words_bigrams:\n",
    "    bon_bows_words_bigrams.append(dct_words_bigrams.doc2bow(t))\n",
    "    \n",
    "nyingma_bows_words_bigrams = []\n",
    "for t in nyingma_words_bigrams:\n",
    "    nyingma_bows_words_bigrams.append(dct_words_bigrams.doc2bow(t))\n",
    "    \n",
    "contrast_bows_words_bigrams = []\n",
    "for t in contrast_words_bigrams:\n",
    "    contrast_bows_words_bigrams.append(dct_words_bigrams.doc2bow(t))\n",
    "    \n",
    "bon_tfs_words_bigrams = []\n",
    "for t in bon_bows_words_bigrams:\n",
    "    vec = np.zeros(len(dct_words_bigrams))\n",
    "    for k, v in t:\n",
    "        vec[k] = v\n",
    "    bon_tfs_words_bigrams.append(vec)\n",
    "    \n",
    "nyingma_tfs_words_bigrams = []\n",
    "for t in nyingma_bows_words_bigrams:\n",
    "    vec = np.zeros(len(dct_words_bigrams))\n",
    "    for k, v in t:\n",
    "        vec[k] = v\n",
    "    nyingma_tfs_words_bigrams.append(vec)\n",
    "\n",
    "contrast_tfs_words_bigrams = []\n",
    "for t in contrast_bows_words_bigrams:\n",
    "    vec = np.zeros(len(dct_words_bigrams))\n",
    "    for k, v in t:\n",
    "        vec[k] = v\n",
    "    contrast_tfs_words_bigrams.append(vec)\n",
    "    \n",
    "b = bon_tfs_words_bigrams + contrast_tfs_words_bigrams\n",
    "n = nyingma_tfs_words_bigrams + contrast_tfs_words_bigrams\n",
    "\n",
    "print(\"Bon self similarity\")\n",
    "cos_sims_f = np.zeros((len(b), len(b)))\n",
    "\n",
    "for i in range(len(b)):\n",
    "    for j in range(len(b)):\n",
    "        u = b[i]\n",
    "        v = b[j]\n",
    "        cos_sims_f[i,j] = (u / np.linalg.norm(u)).dot(v / np.linalg.norm(v))\n",
    "        \n",
    "plt.imshow(cos_sims_f, cmap='hot', interpolation='nearest')\n",
    "plt.xlabel('Bon Texts + Contrast Texts')\n",
    "plt.ylabel('Bon Texts + Contrast Texts')\n",
    "plt.show()\n",
    "\n",
    "print(\"Nyingma similarity\")\n",
    "cos_sims_f = np.zeros((len(n), len(n)))\n",
    "\n",
    "for i in range(len(n)):\n",
    "    for j in range(len(n)):\n",
    "        u = n[i]\n",
    "        v = n[j]\n",
    "        cos_sims_f[i,j] = (u / np.linalg.norm(u)).dot(v / np.linalg.norm(v))\n",
    "        \n",
    "plt.imshow(cos_sims_f, cmap='hot', interpolation='nearest')\n",
    "plt.xlabel('Nyingma Texts + Contrast Texts')\n",
    "plt.ylabel('Nyingma Texts + Contrast Texts')\n",
    "plt.show()\n",
    "\n",
    "print(\"Cross similarity\")\n",
    "cos_sims_f = np.zeros((len(b), len(n)))\n",
    "\n",
    "for i in range(len(b)):\n",
    "    for j in range(len(n)):\n",
    "        u = b[i]\n",
    "        v = n[j]\n",
    "        cos_sims_f[i,j] = (u / np.linalg.norm(u)).dot(v / np.linalg.norm(v))\n",
    "        \n",
    "plt.imshow(cos_sims_f, cmap='hot', interpolation='nearest')\n",
    "plt.xlabel('Nyingma Texts + Contrast Texts')\n",
    "plt.ylabel('Bon Texts + Contrast Texts')\n",
    "plt.show()"
   ]
  },
  {
   "cell_type": "code",
   "execution_count": 32,
   "metadata": {},
   "outputs": [
    {
     "data": {
      "text/plain": [
       "{0: '01-SMDG-gser-lung-non-che.txt',\n",
       " 1: '02-SMDG-gser-lung-non-chung.txt',\n",
       " 2: '03-SMDG-sems-phran-rig-pa-khu-byug-sa-gcod.txt',\n",
       " 3: '04-SMDG-rig-pa-khu-byug-gzhung.txt',\n",
       " 4: '05-SMDG-rig-pa-khu-byug-grel.txt',\n",
       " 5: '06-SMDG-cog-bzhag-sa-gcod.txt',\n",
       " 6: '07-SMDG-cog-bzhag-gzhung.txt',\n",
       " 7: '08-SMDG-cog-bzhag-grel.txt',\n",
       " 8: '09-SMDG-rgyun-thag-sa-gcod-gzhung-grel.txt',\n",
       " 9: '10-SMDG-sems-lung-rgyun-thag.txt',\n",
       " 10: '11-SMDG-snang-dngos-med-mdzub-tshugs.txt',\n",
       " 11: '12-SMDG-sgron-ma-gsal-ba.txt',\n",
       " 12: \"13-ngang-thag-bskal-pa'i-sgron-ma_TTN-175-195.txt\",\n",
       " 13: '14-SMDG-thig-le-dbyings-kyi-ti-ka.txt'}"
      ]
     },
     "execution_count": 32,
     "metadata": {},
     "output_type": "execute_result"
    }
   ],
   "source": [
    "bon_idx2fname"
   ]
  },
  {
   "cell_type": "code",
   "execution_count": 33,
   "metadata": {},
   "outputs": [
    {
     "data": {
      "text/plain": [
       "{0: \"L1-rig-pa'i-khu-byug_p302-324.txt\",\n",
       " 1: 'L2-rtsal-chen_p436-447་.txt',\n",
       " 2: 'L3-khyung-chen_p447-468.txt',\n",
       " 3: 'L4_byang-sems-bsgom-rdo-la-gser-zhun-p416-425.txt',\n",
       " 4: \"L5_nam-mkha'-che-rgyas-pa-yi-ge-med-pa_V8-p.468-473.txt\",\n",
       " 5: 'LL01_L14_rtse-mo-byung-rgyal_vol8-p480-491.txt',\n",
       " 6: \"LL02_་nam-mkha'-rgyal-po_vol8-v475-480.txt\",\n",
       " 7: 'LL03_L16_bde-ba-phra-bkod_V8-p.495-498.txt',\n",
       " 8: 'LL04_byang-chub-sems-tig.txt',\n",
       " 9: 'LL05_spyi-bcings-spyi-chings_Liljenberg-p268ff.txt',\n",
       " 10: \"LL06_L15_bde-ba-rab-'byams_vol8-p.473-475-not-sure.txt\",\n",
       " 11: \"LL07_L10_srog-gi-'khor-lo_v8.p491-494.txt\",\n",
       " 12: 'LL08_thig-le-drug-pa-NGB-vol33.txt',\n",
       " 13: 'LL09_spyi-gcod_vol8_p.498.txt',\n",
       " 14: 'LL10_yid-bzhin-nor-bu-431.txt',\n",
       " 15: \"LL11_kun-'dus-NGB-mtshams-brag-vol1-624-626་.txt\",\n",
       " 16: 'LL12_rje-btsan-dam-pa_NGB-vol34-p63-64.txt',\n",
       " 17: 'LL13-sgom-pa-don-grubdocx.txt'}"
      ]
     },
     "execution_count": 33,
     "metadata": {},
     "output_type": "execute_result"
    }
   ],
   "source": [
    "nyingma_idx2fname"
   ]
  },
  {
   "cell_type": "code",
   "execution_count": 34,
   "metadata": {},
   "outputs": [
    {
     "data": {
      "text/plain": [
       "{0: 'C-D-DL-A-KY-01.txt', 1: 'C-D-DL-A-KY-02.txt', 2: 'C-D-DL-A-KY-03.txt'}"
      ]
     },
     "execution_count": 34,
     "metadata": {},
     "output_type": "execute_result"
    }
   ],
   "source": [
    "contrast_idx2fname"
   ]
  },
  {
   "cell_type": "markdown",
   "metadata": {},
   "source": [
    "## Part 3b: Pairwise cosine similarity of word + 2-gram frequency (filtered)"
   ]
  },
  {
   "cell_type": "code",
   "execution_count": 35,
   "metadata": {},
   "outputs": [
    {
     "name": "stdout",
     "output_type": "stream",
     "text": [
      "Bon self similarity\n"
     ]
    },
    {
     "data": {
      "image/png": "[encoded data removed]",
      "text/plain": [
       "<matplotlib.figure.Figure at 0x1279ec518>"
      ]
     },
     "metadata": {},
     "output_type": "display_data"
    },
    {
     "name": "stdout",
     "output_type": "stream",
     "text": [
      "Nyingma similarity\n"
     ]
    },
    {
     "data": {
      "image/png": "[encoded data removed]",
      "text/plain": [
       "<matplotlib.figure.Figure at 0x127283f98>"
      ]
     },
     "metadata": {},
     "output_type": "display_data"
    },
    {
     "name": "stdout",
     "output_type": "stream",
     "text": [
      "Cross similarity\n"
     ]
    },
    {
     "data": {
      "image/png": "[encoded data removed]",
      "text/plain": [
       "<matplotlib.figure.Figure at 0x12c254908>"
      ]
     },
     "metadata": {},
     "output_type": "display_data"
    }
   ],
   "source": [
    "bon_words_bigrams_f = []\n",
    "for t1, t2 in zip(bon_texts_f, bon_bigrams_f):\n",
    "    bon_words_bigrams_f.append(t1 + t2)\n",
    "    \n",
    "nyingma_words_bigrams_f = []\n",
    "for t1, t2 in zip(nyingma_texts_f, nyingma_bigrams_f):\n",
    "    nyingma_words_bigrams_f.append(t1 + t2)\n",
    "    \n",
    "contrast_words_bigrams_f = []\n",
    "for t1, t2 in zip(contrast_texts_f, contrast_bigrams_f):\n",
    "    contrast_words_bigrams_f.append(t1 + t2)\n",
    "    \n",
    "dct_words_bigrams_f = Dictionary(bon_words_bigrams_f + nyingma_words_bigrams_f+ contrast_words_bigrams_f)\n",
    "\n",
    "bon_bows_words_bigrams_f = []\n",
    "for t in bon_words_bigrams_f:\n",
    "    bon_bows_words_bigrams_f.append(dct_words_bigrams_f.doc2bow(t))\n",
    "    \n",
    "nyingma_bows_words_bigrams_f = []\n",
    "for t in nyingma_words_bigrams_f:\n",
    "    nyingma_bows_words_bigrams_f.append(dct_words_bigrams_f.doc2bow(t))\n",
    "    \n",
    "contrast_bows_words_bigrams_f = []\n",
    "for t in contrast_words_bigrams_f:\n",
    "    contrast_bows_words_bigrams_f.append(dct_words_bigrams_f.doc2bow(t))\n",
    "    \n",
    "bon_tfs_words_bigrams_f = []\n",
    "for t in bon_bows_words_bigrams_f:\n",
    "    vec = np.zeros(len(dct_words_bigrams_f))\n",
    "    for k, v in t:\n",
    "        vec[k] = v\n",
    "    bon_tfs_words_bigrams_f.append(vec)\n",
    "    \n",
    "nyingma_tfs_words_bigrams_f = []\n",
    "for t in nyingma_bows_words_bigrams_f:\n",
    "    vec = np.zeros(len(dct_words_bigrams_f))\n",
    "    for k, v in t:\n",
    "        vec[k] = v\n",
    "    nyingma_tfs_words_bigrams_f.append(vec)\n",
    "\n",
    "contrast_tfs_words_bigrams_f = []\n",
    "for t in contrast_bows_words_bigrams_f:\n",
    "    vec = np.zeros(len(dct_words_bigrams_f))\n",
    "    for k, v in t:\n",
    "        vec[k] = v\n",
    "    contrast_tfs_words_bigrams_f.append(vec)\n",
    "    \n",
    "b = bon_tfs_words_bigrams_f + contrast_tfs_words_bigrams_f\n",
    "n = nyingma_tfs_words_bigrams_f + contrast_tfs_words_bigrams_f\n",
    "\n",
    "print(\"Bon self similarity\")\n",
    "cos_sims_f = np.zeros((len(b), len(b)))\n",
    "\n",
    "for i in range(len(b)):\n",
    "    for j in range(len(b)):\n",
    "        u = b[i]\n",
    "        v = b[j]\n",
    "        cos_sims_f[i,j] = (u / np.linalg.norm(u)).dot(v / np.linalg.norm(v))\n",
    "        \n",
    "plt.imshow(cos_sims_f, cmap='hot', interpolation='nearest')\n",
    "plt.xlabel('Bon Texts + Contrast Texts')\n",
    "plt.ylabel('Bon Texts + Contrast Texts')\n",
    "plt.show()\n",
    "\n",
    "print(\"Nyingma similarity\")\n",
    "cos_sims_f = np.zeros((len(n), len(n)))\n",
    "\n",
    "for i in range(len(n)):\n",
    "    for j in range(len(n)):\n",
    "        u = n[i]\n",
    "        v = n[j]\n",
    "        cos_sims_f[i,j] = (u / np.linalg.norm(u)).dot(v / np.linalg.norm(v))\n",
    "        \n",
    "plt.imshow(cos_sims_f, cmap='hot', interpolation='nearest')\n",
    "plt.xlabel('Nyingma Texts + Contrast Texts')\n",
    "plt.ylabel('Nyingma Texts + Contrast Texts')\n",
    "plt.show()\n",
    "\n",
    "print(\"Cross similarity\")\n",
    "cos_sims_f = np.zeros((len(b), len(n)))\n",
    "\n",
    "for i in range(len(b)):\n",
    "    for j in range(len(n)):\n",
    "        u = b[i]\n",
    "        v = n[j]\n",
    "        cos_sims_f[i,j] = (u / np.linalg.norm(u)).dot(v / np.linalg.norm(v))\n",
    "        \n",
    "plt.imshow(cos_sims_f, cmap='hot', interpolation='nearest')\n",
    "plt.xlabel('Nyingma Texts + Contrast Texts')\n",
    "plt.ylabel('Bon Texts + Contrast Texts')\n",
    "plt.show()"
   ]
  },
  {
   "cell_type": "code",
   "execution_count": 36,
   "metadata": {
    "scrolled": true
   },
   "outputs": [
    {
     "data": {
      "text/plain": [
       "{0: '01-SMDG-gser-lung-non-che.txt',\n",
       " 1: '02-SMDG-gser-lung-non-chung.txt',\n",
       " 2: '03-SMDG-sems-phran-rig-pa-khu-byug-sa-gcod.txt',\n",
       " 3: '04-SMDG-rig-pa-khu-byug-gzhung.txt',\n",
       " 4: '05-SMDG-rig-pa-khu-byug-grel.txt',\n",
       " 5: '06-SMDG-cog-bzhag-sa-gcod.txt',\n",
       " 6: '07-SMDG-cog-bzhag-gzhung.txt',\n",
       " 7: '08-SMDG-cog-bzhag-grel.txt',\n",
       " 8: '09-SMDG-rgyun-thag-sa-gcod-gzhung-grel.txt',\n",
       " 9: '10-SMDG-sems-lung-rgyun-thag.txt',\n",
       " 10: '11-SMDG-snang-dngos-med-mdzub-tshugs.txt',\n",
       " 11: '12-SMDG-sgron-ma-gsal-ba.txt',\n",
       " 12: \"13-ngang-thag-bskal-pa'i-sgron-ma_TTN-175-195.txt\",\n",
       " 13: '14-SMDG-thig-le-dbyings-kyi-ti-ka.txt'}"
      ]
     },
     "execution_count": 36,
     "metadata": {},
     "output_type": "execute_result"
    }
   ],
   "source": [
    "bon_idx2fname"
   ]
  },
  {
   "cell_type": "code",
   "execution_count": 37,
   "metadata": {
    "scrolled": true
   },
   "outputs": [
    {
     "data": {
      "text/plain": [
       "{0: \"L1-rig-pa'i-khu-byug_p302-324.txt\",\n",
       " 1: 'L2-rtsal-chen_p436-447་.txt',\n",
       " 2: 'L3-khyung-chen_p447-468.txt',\n",
       " 3: 'L4_byang-sems-bsgom-rdo-la-gser-zhun-p416-425.txt',\n",
       " 4: \"L5_nam-mkha'-che-rgyas-pa-yi-ge-med-pa_V8-p.468-473.txt\",\n",
       " 5: 'LL01_L14_rtse-mo-byung-rgyal_vol8-p480-491.txt',\n",
       " 6: \"LL02_་nam-mkha'-rgyal-po_vol8-v475-480.txt\",\n",
       " 7: 'LL03_L16_bde-ba-phra-bkod_V8-p.495-498.txt',\n",
       " 8: 'LL04_byang-chub-sems-tig.txt',\n",
       " 9: 'LL05_spyi-bcings-spyi-chings_Liljenberg-p268ff.txt',\n",
       " 10: \"LL06_L15_bde-ba-rab-'byams_vol8-p.473-475-not-sure.txt\",\n",
       " 11: \"LL07_L10_srog-gi-'khor-lo_v8.p491-494.txt\",\n",
       " 12: 'LL08_thig-le-drug-pa-NGB-vol33.txt',\n",
       " 13: 'LL09_spyi-gcod_vol8_p.498.txt',\n",
       " 14: 'LL10_yid-bzhin-nor-bu-431.txt',\n",
       " 15: \"LL11_kun-'dus-NGB-mtshams-brag-vol1-624-626་.txt\",\n",
       " 16: 'LL12_rje-btsan-dam-pa_NGB-vol34-p63-64.txt',\n",
       " 17: 'LL13-sgom-pa-don-grubdocx.txt'}"
      ]
     },
     "execution_count": 37,
     "metadata": {},
     "output_type": "execute_result"
    }
   ],
   "source": [
    "nyingma_idx2fname"
   ]
  },
  {
   "cell_type": "code",
   "execution_count": 38,
   "metadata": {},
   "outputs": [
    {
     "data": {
      "text/plain": [
       "{0: 'C-D-DL-A-KY-01.txt', 1: 'C-D-DL-A-KY-02.txt', 2: 'C-D-DL-A-KY-03.txt'}"
      ]
     },
     "execution_count": 38,
     "metadata": {},
     "output_type": "execute_result"
    }
   ],
   "source": [
    "contrast_idx2fname"
   ]
  },
  {
   "cell_type": "markdown",
   "metadata": {},
   "source": [
    "## Part 4: Pairwise Spearman Rank Correlation of common words and 2-grams (filtered)"
   ]
  },
  {
   "cell_type": "code",
   "execution_count": 39,
   "metadata": {},
   "outputs": [],
   "source": [
    "ctr_words_f = Counter()\n",
    "for t in bon_texts_f + nyingma_texts_f + contrast_texts_f:\n",
    "    ctr_words_f.update(t)\n",
    "    \n",
    "ctr_bigrams_f = Counter()\n",
    "for t in bon_bigrams_f + nyingma_bigrams_f + contrast_bigrams_f:\n",
    "    ctr_bigrams_f.update(t)"
   ]
  },
  {
   "cell_type": "markdown",
   "metadata": {},
   "source": [
    "Percent of word count in top 100 words:"
   ]
  },
  {
   "cell_type": "code",
   "execution_count": 40,
   "metadata": {},
   "outputs": [
    {
     "name": "stdout",
     "output_type": "stream",
     "text": [
      "22244 / 57479 = 0.3869935106734633\n"
     ]
    }
   ],
   "source": [
    "total = sum([x[1] for x in ctr_words_f.items()])\n",
    "top_100 = sum([x[1] for x in ctr_words_f.most_common(100)])\n",
    "print(\"{} / {} = {}\".format(top_100, total, top_100/total))"
   ]
  },
  {
   "cell_type": "markdown",
   "metadata": {},
   "source": [
    "Percent of bigram count in top 500 bigrams:"
   ]
  },
  {
   "cell_type": "code",
   "execution_count": 41,
   "metadata": {},
   "outputs": [
    {
     "name": "stdout",
     "output_type": "stream",
     "text": [
      "9271 / 33043 = 0.28057379777865205\n"
     ]
    }
   ],
   "source": [
    "total = sum([x[1] for x in ctr_bigrams_f.items()])\n",
    "top_1000 = sum([x[1] for x in ctr_bigrams_f.most_common(1000)])\n",
    "print(\"{} / {} = {}\".format(top_1000, total, top_1000/total))"
   ]
  },
  {
   "cell_type": "code",
   "execution_count": 42,
   "metadata": {},
   "outputs": [],
   "source": [
    "token2id = dct_words_bigrams_f.token2id\n",
    "top_100_words = {token2id[x[0]] for x in ctr_words_f.most_common(100)}\n",
    "top_1000_bigrams = {token2id[x[0]] for x in ctr_bigrams_f.most_common(1000)}\n",
    "\n",
    "bon_trun_freq = []\n",
    "for b in bon_bows_words_bigrams_f:\n",
    "    vec = np.zeros(1100)\n",
    "    i = 0\n",
    "    for k, v in b:\n",
    "        if k in top_100_words or k in top_1000_bigrams:\n",
    "            vec[i] = v\n",
    "            i += 1\n",
    "    bon_trun_freq.append(vec)\n",
    "            \n",
    "nyingma_trun_freq = []\n",
    "for b in nyingma_bows_words_bigrams_f:\n",
    "    vec = np.zeros(1100)\n",
    "    i = 0\n",
    "    for k, v in b:\n",
    "        if k in top_100_words or k in top_1000_bigrams:\n",
    "            vec[i] = v\n",
    "            i += 1\n",
    "    nyingma_trun_freq.append(vec)\n",
    "    \n",
    "contrast_trun_freq = []\n",
    "for b in contrast_bows_words_bigrams_f:\n",
    "    vec = np.zeros(1100)\n",
    "    i = 0\n",
    "    for k, v in b:\n",
    "        if k in top_100_words or k in top_1000_bigrams:\n",
    "            vec[i] = v\n",
    "            i += 1\n",
    "    contrast_trun_freq.append(vec)"
   ]
  },
  {
   "cell_type": "code",
   "execution_count": 43,
   "metadata": {
    "scrolled": false
   },
   "outputs": [
    {
     "name": "stdout",
     "output_type": "stream",
     "text": [
      "Bon self similarity\n"
     ]
    },
    {
     "data": {
      "image/png": "[encoded data removed]",
      "text/plain": [
       "<matplotlib.figure.Figure at 0x1129e5278>"
      ]
     },
     "metadata": {},
     "output_type": "display_data"
    },
    {
     "name": "stdout",
     "output_type": "stream",
     "text": [
      "Nyingma self similarity\n"
     ]
    },
    {
     "data": {
      "image/png": "[encoded data removed]",
      "text/plain": [
       "<matplotlib.figure.Figure at 0x12c55c438>"
      ]
     },
     "metadata": {},
     "output_type": "display_data"
    },
    {
     "name": "stdout",
     "output_type": "stream",
     "text": [
      "Cross similarity\n"
     ]
    },
    {
     "data": {
      "image/png": "[encoded data removed]",
      "text/plain": [
       "<matplotlib.figure.Figure at 0x12cc31f28>"
      ]
     },
     "metadata": {},
     "output_type": "display_data"
    }
   ],
   "source": [
    "b = bon_trun_freq + contrast_trun_freq\n",
    "n = nyingma_trun_freq + contrast_trun_freq\n",
    "\n",
    "print(\"Bon self similarity\")\n",
    "r_matrix = np.zeros((len(b), len(b)))\n",
    "\n",
    "for i in range(len(b)):\n",
    "    for j in range(len(b)):\n",
    "        t, _ = stats.spearmanr(b[i], b[j])\n",
    "        r_matrix[i, j] = t\n",
    "\n",
    "plt.imshow(r_matrix, cmap='hot', interpolation='nearest')\n",
    "plt.xlabel('Bon Texts + Contrast Texts')\n",
    "plt.ylabel('Bon Texts + Contrast Texts')\n",
    "plt.show()  \n",
    "\n",
    "\n",
    "print(\"Nyingma self similarity\")\n",
    "r_matrix = np.zeros((len(n), len(n)))\n",
    "\n",
    "for i in range(len(n)):\n",
    "    for j in range(len(n)):\n",
    "        t, _ = stats.spearmanr(n[i], n[j])\n",
    "        r_matrix[i, j] = t\n",
    "\n",
    "plt.imshow(r_matrix, cmap='hot', interpolation='nearest')\n",
    "plt.xlabel('Nyingma Texts + Contrast Texts')\n",
    "plt.ylabel('Nyingma Texts + Contrast Texts')\n",
    "plt.show()  \n",
    "\n",
    "\n",
    "print(\"Cross similarity\")\n",
    "r_matrix = np.zeros((len(b), len(n)))\n",
    "\n",
    "for i in range(len(b)):\n",
    "    for j in range(len(n)):\n",
    "        t, _ = stats.spearmanr(b[i], n[j])\n",
    "        r_matrix[i, j] = t\n",
    "\n",
    "plt.imshow(r_matrix, cmap='hot', interpolation='nearest')\n",
    "plt.xlabel('Nyingma Texts + Contrast Texts')\n",
    "plt.ylabel('Bon Texts + Contrast Texts')\n",
    "plt.show()     "
   ]
  },
  {
   "cell_type": "code",
   "execution_count": 44,
   "metadata": {},
   "outputs": [
    {
     "data": {
      "text/plain": [
       "{0: '01-SMDG-gser-lung-non-che.txt',\n",
       " 1: '02-SMDG-gser-lung-non-chung.txt',\n",
       " 2: '03-SMDG-sems-phran-rig-pa-khu-byug-sa-gcod.txt',\n",
       " 3: '04-SMDG-rig-pa-khu-byug-gzhung.txt',\n",
       " 4: '05-SMDG-rig-pa-khu-byug-grel.txt',\n",
       " 5: '06-SMDG-cog-bzhag-sa-gcod.txt',\n",
       " 6: '07-SMDG-cog-bzhag-gzhung.txt',\n",
       " 7: '08-SMDG-cog-bzhag-grel.txt',\n",
       " 8: '09-SMDG-rgyun-thag-sa-gcod-gzhung-grel.txt',\n",
       " 9: '10-SMDG-sems-lung-rgyun-thag.txt',\n",
       " 10: '11-SMDG-snang-dngos-med-mdzub-tshugs.txt',\n",
       " 11: '12-SMDG-sgron-ma-gsal-ba.txt',\n",
       " 12: \"13-ngang-thag-bskal-pa'i-sgron-ma_TTN-175-195.txt\",\n",
       " 13: '14-SMDG-thig-le-dbyings-kyi-ti-ka.txt'}"
      ]
     },
     "execution_count": 44,
     "metadata": {},
     "output_type": "execute_result"
    }
   ],
   "source": [
    "bon_idx2fname"
   ]
  },
  {
   "cell_type": "code",
   "execution_count": 45,
   "metadata": {},
   "outputs": [
    {
     "data": {
      "text/plain": [
       "{0: \"L1-rig-pa'i-khu-byug_p302-324.txt\",\n",
       " 1: 'L2-rtsal-chen_p436-447་.txt',\n",
       " 2: 'L3-khyung-chen_p447-468.txt',\n",
       " 3: 'L4_byang-sems-bsgom-rdo-la-gser-zhun-p416-425.txt',\n",
       " 4: \"L5_nam-mkha'-che-rgyas-pa-yi-ge-med-pa_V8-p.468-473.txt\",\n",
       " 5: 'LL01_L14_rtse-mo-byung-rgyal_vol8-p480-491.txt',\n",
       " 6: \"LL02_་nam-mkha'-rgyal-po_vol8-v475-480.txt\",\n",
       " 7: 'LL03_L16_bde-ba-phra-bkod_V8-p.495-498.txt',\n",
       " 8: 'LL04_byang-chub-sems-tig.txt',\n",
       " 9: 'LL05_spyi-bcings-spyi-chings_Liljenberg-p268ff.txt',\n",
       " 10: \"LL06_L15_bde-ba-rab-'byams_vol8-p.473-475-not-sure.txt\",\n",
       " 11: \"LL07_L10_srog-gi-'khor-lo_v8.p491-494.txt\",\n",
       " 12: 'LL08_thig-le-drug-pa-NGB-vol33.txt',\n",
       " 13: 'LL09_spyi-gcod_vol8_p.498.txt',\n",
       " 14: 'LL10_yid-bzhin-nor-bu-431.txt',\n",
       " 15: \"LL11_kun-'dus-NGB-mtshams-brag-vol1-624-626་.txt\",\n",
       " 16: 'LL12_rje-btsan-dam-pa_NGB-vol34-p63-64.txt',\n",
       " 17: 'LL13-sgom-pa-don-grubdocx.txt'}"
      ]
     },
     "execution_count": 45,
     "metadata": {},
     "output_type": "execute_result"
    }
   ],
   "source": [
    "nyingma_idx2fname"
   ]
  },
  {
   "cell_type": "code",
   "execution_count": 46,
   "metadata": {},
   "outputs": [
    {
     "data": {
      "text/plain": [
       "{0: 'C-D-DL-A-KY-01.txt', 1: 'C-D-DL-A-KY-02.txt', 2: 'C-D-DL-A-KY-03.txt'}"
      ]
     },
     "execution_count": 46,
     "metadata": {},
     "output_type": "execute_result"
    }
   ],
   "source": [
    "contrast_idx2fname"
   ]
  },
  {
   "cell_type": "markdown",
   "metadata": {},
   "source": [
    "## Part 5: Pairwise Kendall's Tau-b of common words and 2-grams (filtered)"
   ]
  },
  {
   "cell_type": "code",
   "execution_count": 47,
   "metadata": {},
   "outputs": [
    {
     "name": "stdout",
     "output_type": "stream",
     "text": [
      "Bon self similarity\n"
     ]
    },
    {
     "data": {
      "image/png": "[encoded data removed]",
      "text/plain": [
       "<matplotlib.figure.Figure at 0x118cd6fd0>"
      ]
     },
     "metadata": {},
     "output_type": "display_data"
    },
    {
     "name": "stdout",
     "output_type": "stream",
     "text": [
      "Nyingma self similarity\n"
     ]
    },
    {
     "data": {
      "image/png": "[encoded data removed]",
      "text/plain": [
       "<matplotlib.figure.Figure at 0x12dd7d080>"
      ]
     },
     "metadata": {},
     "output_type": "display_data"
    },
    {
     "name": "stdout",
     "output_type": "stream",
     "text": [
      "Bon vs Nyingma cross similarity\n"
     ]
    },
    {
     "data": {
      "image/png": "[encoded data removed]",
      "text/plain": [
       "<matplotlib.figure.Figure at 0x12dd67dd8>"
      ]
     },
     "metadata": {},
     "output_type": "display_data"
    }
   ],
   "source": [
    "print(\"Bon self similarity\")\n",
    "tau_matrix = np.zeros((len(b), len(b)))\n",
    "\n",
    "for i in range(len(b)):\n",
    "    for j in range(len(b)):\n",
    "        t, _ = stats.kendalltau(b[i], b[j])\n",
    "        tau_matrix[i, j] = t\n",
    "\n",
    "plt.imshow(tau_matrix, cmap='hot', interpolation='nearest')\n",
    "plt.xlabel('Bon Texts + Contrast Texts')\n",
    "plt.ylabel('Bon Texts + Contrast Texts')\n",
    "plt.show()     \n",
    "\n",
    "\n",
    "print(\"Nyingma self similarity\")\n",
    "tau_matrix = np.zeros((len(n), len(n)))\n",
    "\n",
    "for i in range(len(n)):\n",
    "    for j in range(len(n)):\n",
    "        t, _ = stats.kendalltau(n[i], n[j])\n",
    "        tau_matrix[i, j] = t\n",
    "\n",
    "plt.imshow(tau_matrix, cmap='hot', interpolation='nearest')\n",
    "plt.xlabel('Nyingma Texts + Contrast Texts')\n",
    "plt.ylabel('Nyingma Texts + Contrast Texts')\n",
    "plt.show()     \n",
    "\n",
    "\n",
    "print(\"Bon vs Nyingma cross similarity\")\n",
    "tau_matrix = np.zeros((len(b), len(n)))\n",
    "\n",
    "for i in range(len(b)):\n",
    "    for j in range(len(n)):\n",
    "        t, _ = stats.kendalltau(b[i], n[j])\n",
    "        tau_matrix[i, j] = t\n",
    "\n",
    "plt.imshow(tau_matrix, cmap='hot', interpolation='nearest')\n",
    "plt.xlabel('Nyingma Texts + Contrast Texts')\n",
    "plt.ylabel('Bon Texts + Contrast Texts')\n",
    "plt.show()     "
   ]
  },
  {
   "cell_type": "code",
   "execution_count": 48,
   "metadata": {},
   "outputs": [
    {
     "data": {
      "text/plain": [
       "{0: '01-SMDG-gser-lung-non-che.txt',\n",
       " 1: '02-SMDG-gser-lung-non-chung.txt',\n",
       " 2: '03-SMDG-sems-phran-rig-pa-khu-byug-sa-gcod.txt',\n",
       " 3: '04-SMDG-rig-pa-khu-byug-gzhung.txt',\n",
       " 4: '05-SMDG-rig-pa-khu-byug-grel.txt',\n",
       " 5: '06-SMDG-cog-bzhag-sa-gcod.txt',\n",
       " 6: '07-SMDG-cog-bzhag-gzhung.txt',\n",
       " 7: '08-SMDG-cog-bzhag-grel.txt',\n",
       " 8: '09-SMDG-rgyun-thag-sa-gcod-gzhung-grel.txt',\n",
       " 9: '10-SMDG-sems-lung-rgyun-thag.txt',\n",
       " 10: '11-SMDG-snang-dngos-med-mdzub-tshugs.txt',\n",
       " 11: '12-SMDG-sgron-ma-gsal-ba.txt',\n",
       " 12: \"13-ngang-thag-bskal-pa'i-sgron-ma_TTN-175-195.txt\",\n",
       " 13: '14-SMDG-thig-le-dbyings-kyi-ti-ka.txt'}"
      ]
     },
     "execution_count": 48,
     "metadata": {},
     "output_type": "execute_result"
    }
   ],
   "source": [
    "bon_idx2fname"
   ]
  },
  {
   "cell_type": "code",
   "execution_count": 49,
   "metadata": {},
   "outputs": [
    {
     "data": {
      "text/plain": [
       "{0: \"L1-rig-pa'i-khu-byug_p302-324.txt\",\n",
       " 1: 'L2-rtsal-chen_p436-447་.txt',\n",
       " 2: 'L3-khyung-chen_p447-468.txt',\n",
       " 3: 'L4_byang-sems-bsgom-rdo-la-gser-zhun-p416-425.txt',\n",
       " 4: \"L5_nam-mkha'-che-rgyas-pa-yi-ge-med-pa_V8-p.468-473.txt\",\n",
       " 5: 'LL01_L14_rtse-mo-byung-rgyal_vol8-p480-491.txt',\n",
       " 6: \"LL02_་nam-mkha'-rgyal-po_vol8-v475-480.txt\",\n",
       " 7: 'LL03_L16_bde-ba-phra-bkod_V8-p.495-498.txt',\n",
       " 8: 'LL04_byang-chub-sems-tig.txt',\n",
       " 9: 'LL05_spyi-bcings-spyi-chings_Liljenberg-p268ff.txt',\n",
       " 10: \"LL06_L15_bde-ba-rab-'byams_vol8-p.473-475-not-sure.txt\",\n",
       " 11: \"LL07_L10_srog-gi-'khor-lo_v8.p491-494.txt\",\n",
       " 12: 'LL08_thig-le-drug-pa-NGB-vol33.txt',\n",
       " 13: 'LL09_spyi-gcod_vol8_p.498.txt',\n",
       " 14: 'LL10_yid-bzhin-nor-bu-431.txt',\n",
       " 15: \"LL11_kun-'dus-NGB-mtshams-brag-vol1-624-626་.txt\",\n",
       " 16: 'LL12_rje-btsan-dam-pa_NGB-vol34-p63-64.txt',\n",
       " 17: 'LL13-sgom-pa-don-grubdocx.txt'}"
      ]
     },
     "execution_count": 49,
     "metadata": {},
     "output_type": "execute_result"
    }
   ],
   "source": [
    "nyingma_idx2fname"
   ]
  },
  {
   "cell_type": "code",
   "execution_count": 50,
   "metadata": {},
   "outputs": [
    {
     "data": {
      "text/plain": [
       "{0: 'C-D-DL-A-KY-01.txt', 1: 'C-D-DL-A-KY-02.txt', 2: 'C-D-DL-A-KY-03.txt'}"
      ]
     },
     "execution_count": 50,
     "metadata": {},
     "output_type": "execute_result"
    }
   ],
   "source": [
    "contrast_idx2fname"
   ]
  },
  {
   "cell_type": "code",
   "execution_count": null,
   "metadata": {},
   "outputs": [],
   "source": []
  }
 ],
 "metadata": {
  "kernelspec": {
   "display_name": "Python 3",
   "language": "python",
   "name": "python3"
  },
  "language_info": {
   "codemirror_mode": {
    "name": "ipython",
    "version": 3
   },
   "file_extension": ".py",
   "mimetype": "text/x-python",
   "name": "python",
   "nbconvert_exporter": "python",
   "pygments_lexer": "ipython3",
   "version": "3.6.5"
  }
 },
 "nbformat": 4,
 "nbformat_minor": 2
}
