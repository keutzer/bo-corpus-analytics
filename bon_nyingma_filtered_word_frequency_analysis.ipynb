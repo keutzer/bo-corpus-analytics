{
 "cells": [
  {
   "cell_type": "code",
   "execution_count": 1,
   "metadata": {},
   "outputs": [],
   "source": [
    "from collections import Counter\n",
    "from gensim.corpora import Dictionary\n",
    "from nltk import ngrams\n",
    "from scipy import stats\n",
    "\n",
    "import itertools\n",
    "import numpy as np\n",
    "import os\n",
    "import pybo\n",
    "\n",
    "import matplotlib.pyplot as plt\n",
    "%matplotlib inline"
   ]
  },
  {
   "cell_type": "markdown",
   "metadata": {},
   "source": [
    "Store texts in the following directory structure:\n",
    "\n",
    "    texts\n",
    "      Bon\n",
    "        file1.txt\n",
    "        file2.txt\n",
    "        ...\n",
    "      Nyingma\n",
    "        file1.txt\n",
    "        file2.txt\n",
    "        ..."
   ]
  },
  {
   "cell_type": "code",
   "execution_count": 2,
   "metadata": {
    "scrolled": true
   },
   "outputs": [
    {
     "name": "stdout",
     "output_type": "stream",
     "text": [
      "Loading Trie...\n",
      "Time: 3.2658262252807617\n"
     ]
    }
   ],
   "source": [
    "tok = pybo.BoTokenizer('POS')"
   ]
  },
  {
   "cell_type": "markdown",
   "metadata": {},
   "source": [
    "Assumptions here:\n",
    "1. Drop all non-bo text\n",
    "2. Drop all phrase delimiters (shad)\n",
    "3. Reduce words to lemmas\n",
    "4. Strip beginning and ending tseks from lemmas"
   ]
  },
  {
   "cell_type": "code",
   "execution_count": 3,
   "metadata": {},
   "outputs": [],
   "source": [
    "tsek = '་'\n",
    "\n",
    "# Create dictionary to map document index back to filename\n",
    "bon_idx2fname = {}\n",
    "bon_texts = []\n",
    "for filename in sorted(os.listdir(\"texts/Bon\")):\n",
    "    if \".txt\" in filename:\n",
    "        with open(\"texts/Bon/\" + filename, 'r', encoding='utf-8-sig') as f:\n",
    "            bon_idx2fname[len(bon_texts)] = filename\n",
    "            tokens = [t for t in tok.tokenize(f.read()) if t.type != \"non-bo\" and t.pos != \"punct\"]\n",
    "            lemmas = [t.lemma.strip(tsek) if t.lemma else t.content.strip(tsek) for t in tokens]\n",
    "            bon_texts.append(lemmas)\n",
    "            \n",
    "# Now process nyingma\n",
    "nyingma_idx2fname = {}\n",
    "nyingma_texts = []\n",
    "for filename in sorted(os.listdir(\"texts/Nyingma\")):\n",
    "    if \".txt\" in filename:\n",
    "        with open(\"texts/Nyingma/\" + filename, 'r', encoding='utf-8-sig') as f:\n",
    "            nyingma_idx2fname[len(nyingma_texts)] = filename\n",
    "            tokens = [t for t in tok.tokenize(f.read()) if t.type != \"non-bo\" and t.pos != \"punct\"]\n",
    "            lemmas = [t.lemma.strip(tsek) if t.lemma else t.content.strip(tsek) for t in tokens]\n",
    "            nyingma_texts.append(lemmas)"
   ]
  },
  {
   "cell_type": "markdown",
   "metadata": {},
   "source": [
    "## Part 1a: Pairwise cosine similarity of term frequency vectors"
   ]
  },
  {
   "cell_type": "code",
   "execution_count": 4,
   "metadata": {},
   "outputs": [],
   "source": [
    "dct = Dictionary(bon_texts + nyingma_texts)"
   ]
  },
  {
   "cell_type": "code",
   "execution_count": 5,
   "metadata": {},
   "outputs": [],
   "source": [
    "bon_bows = []\n",
    "for t in bon_texts:\n",
    "    bon_bows.append(dct.doc2bow(t))\n",
    "    \n",
    "nyingma_bows = []\n",
    "for t in nyingma_texts:\n",
    "    nyingma_bows.append(dct.doc2bow(t))"
   ]
  },
  {
   "cell_type": "code",
   "execution_count": 6,
   "metadata": {},
   "outputs": [],
   "source": [
    "bon_tfs = []\n",
    "for t in bon_bows:\n",
    "    vec = np.zeros(len(dct))\n",
    "    for k, v in t:\n",
    "        vec[k] = v\n",
    "    bon_tfs.append(vec)\n",
    "    \n",
    "nyingma_tfs = []\n",
    "for t in nyingma_bows:\n",
    "    vec = np.zeros(len(dct))\n",
    "    for k, v in t:\n",
    "        vec[k] = v\n",
    "    nyingma_tfs.append(vec)"
   ]
  },
  {
   "cell_type": "code",
   "execution_count": 7,
   "metadata": {},
   "outputs": [],
   "source": [
    "cos_sims = np.zeros((len(bon_tfs), len(nyingma_tfs)))\n",
    "\n",
    "for i in range(len(bon_tfs)):\n",
    "    for j in range(len(nyingma_tfs)):\n",
    "        u = bon_tfs[i]\n",
    "        v = nyingma_tfs[j]\n",
    "        cos_sims[i,j] = (u / np.linalg.norm(u)).dot(v / np.linalg.norm(v))"
   ]
  },
  {
   "cell_type": "code",
   "execution_count": 8,
   "metadata": {
    "scrolled": true
   },
   "outputs": [
    {
     "data": {
      "image/png": "[encoded data removed]",
      "text/plain": [
       "<matplotlib.figure.Figure at 0x10e85d400>"
      ]
     },
     "metadata": {},
     "output_type": "display_data"
    }
   ],
   "source": [
    "plt.imshow(cos_sims, cmap='hot', interpolation='nearest')\n",
    "plt.xlabel('Nyingma Texts')\n",
    "plt.ylabel('Bon Texts')\n",
    "plt.show()"
   ]
  },
  {
   "cell_type": "markdown",
   "metadata": {},
   "source": [
    "Legend:"
   ]
  },
  {
   "cell_type": "code",
   "execution_count": 9,
   "metadata": {},
   "outputs": [
    {
     "data": {
      "text/plain": [
       "{0: '01-SMDG-gser-lung-non-che.txt',\n",
       " 1: '02-SMDG-gser-lung-non-chung.txt',\n",
       " 2: '03-SMDG-sems-phran-rig-pa-khu-byug-sa-gcod.txt',\n",
       " 3: '04-SMDG-rig-pa-khu-byug-gzhung.txt',\n",
       " 4: '05-SMDG-rig-pa-khu-byug-grel.txt',\n",
       " 5: '06-SMDG-cog-bzhag-sa-gcod.txt',\n",
       " 6: '07-SMDG-cog-bzhag-gzhung.txt',\n",
       " 7: '08-SMDG-cog-bzhag-grel.txt',\n",
       " 8: '09-SMDG-rgyun-thag-sa-gcod-gzhung-grel.txt',\n",
       " 9: '10-SMDG-sems-lung-rgyun-thag.txt',\n",
       " 10: '11-SMDG-snang-dngos-med-mdzub-tshugs.txt',\n",
       " 11: '12-SMDG-sgron-ma-gsal-ba.txt',\n",
       " 12: \"13-ngang-thag-bskal-pa'i-sgron-ma_TTN-175-195.txt\",\n",
       " 13: '14-SMDG-thig-le-dbyings-kyi-ti-ka.txt'}"
      ]
     },
     "execution_count": 9,
     "metadata": {},
     "output_type": "execute_result"
    }
   ],
   "source": [
    "bon_idx2fname"
   ]
  },
  {
   "cell_type": "code",
   "execution_count": 10,
   "metadata": {},
   "outputs": [
    {
     "data": {
      "text/plain": [
       "{0: \"L1-rig-pa'i-khu-byug_p302-324.txt\",\n",
       " 1: 'L2-rtsal-chen_p436-447་.txt',\n",
       " 2: 'L3-khyung-chen_p447-468.txt',\n",
       " 3: 'L4_byang-sems-bsgom-rdo-la-gser-zhun-p416-425.txt',\n",
       " 4: \"L5_nam-mkha'-che-rgyas-pa-yi-ge-med-pa_V8-p.468-473.txt\",\n",
       " 5: 'LL01_L14_rtse-mo-byung-rgyal_vol8-p480-491.txt',\n",
       " 6: \"LL02_་nam-mkha'-rgyal-po_vol8-v475-480.txt\",\n",
       " 7: 'LL03_L16_bde-ba-phra-bkod_V8-p.495-498.txt',\n",
       " 8: 'LL04_byang-chub-sems-tig.txt',\n",
       " 9: \"LL06_L15_bde-ba-rab-'byams_vol8-p.473-475-not-sure.txt\",\n",
       " 10: \"LL07_L10_srog-gi-'khor-lo_v8.p491-494.txt\",\n",
       " 11: 'LL08_thig-le-drug-pa-NGB-vol33.txt',\n",
       " 12: 'LL09_spyi-gcod_vol8_p.498.txt',\n",
       " 13: 'LL10_yid-bzhin-nor-bu-431.txt',\n",
       " 14: \"LL11_kun-'dus-NGB-mtshams-brag-vol1-624-626་.txt\",\n",
       " 15: 'LL12_rje-btsan-dam-pa_NGB-vol34-p63-64.txt',\n",
       " 16: 'LL13-sgom-pa-don-grubdocx.txt'}"
      ]
     },
     "execution_count": 10,
     "metadata": {},
     "output_type": "execute_result"
    }
   ],
   "source": [
    "nyingma_idx2fname"
   ]
  },
  {
   "cell_type": "markdown",
   "metadata": {},
   "source": [
    "## Part 1b: Pairwise cosine similarity of term frequency vectors (filtered)"
   ]
  },
  {
   "cell_type": "code",
   "execution_count": 11,
   "metadata": {},
   "outputs": [],
   "source": [
    "filter_list = ['གི','ལ','གིས','དང','ནི','ནས','པ','གོ','ཀྱང','དུ','ཀྱིས','དེ','ཏེ','མ','སྟེ','སུ','ཀྱི','གྱིས','ན','ཅེས','འདི','གྱི','ཅི','བ','པར','ཡིས','ཅིང','མོ','ཅེས་པ','རྣམས','ཏུ']\n",
    "\n",
    "bon_texts_f = []\n",
    "for t in bon_texts:\n",
    "    t_f = [x for x in t if x not in filter_list]\n",
    "    bon_texts_f.append(t_f)\n",
    "\n",
    "nyingma_texts_f = []\n",
    "for t in nyingma_texts:\n",
    "    t_f = [x for x in t if x not in filter_list]\n",
    "    nyingma_texts_f.append(t_f)"
   ]
  },
  {
   "cell_type": "code",
   "execution_count": 12,
   "metadata": {},
   "outputs": [],
   "source": [
    "dct_f = Dictionary(bon_texts_f + nyingma_texts_f)"
   ]
  },
  {
   "cell_type": "code",
   "execution_count": 13,
   "metadata": {},
   "outputs": [],
   "source": [
    "bon_bows_f = []\n",
    "for t in bon_texts_f:\n",
    "    bon_bows_f.append(dct_f.doc2bow(t))\n",
    "    \n",
    "nyingma_bows_f = []\n",
    "for t in nyingma_texts_f:\n",
    "    nyingma_bows_f.append(dct_f.doc2bow(t))"
   ]
  },
  {
   "cell_type": "code",
   "execution_count": 14,
   "metadata": {},
   "outputs": [],
   "source": [
    "bon_tfs_f = []\n",
    "for t in bon_bows_f:\n",
    "    vec = np.zeros(len(dct))\n",
    "    for k, v in t:\n",
    "        vec[k] = v\n",
    "    bon_tfs_f.append(vec)\n",
    "    \n",
    "nyingma_tfs_f = []\n",
    "for t in nyingma_bows_f:\n",
    "    vec = np.zeros(len(dct))\n",
    "    for k, v in t:\n",
    "        vec[k] = v\n",
    "    nyingma_tfs_f.append(vec)"
   ]
  },
  {
   "cell_type": "code",
   "execution_count": 15,
   "metadata": {},
   "outputs": [],
   "source": [
    "cos_sims_f = np.zeros((len(bon_tfs_f), len(nyingma_tfs_f)))\n",
    "\n",
    "for i in range(len(bon_tfs_f)):\n",
    "    for j in range(len(nyingma_tfs_f)):\n",
    "        u = bon_tfs_f[i]\n",
    "        v = nyingma_tfs_f[j]\n",
    "        cos_sims_f[i,j] = (u / np.linalg.norm(u)).dot(v / np.linalg.norm(v))"
   ]
  },
  {
   "cell_type": "code",
   "execution_count": 16,
   "metadata": {
    "scrolled": true
   },
   "outputs": [
    {
     "data": {
      "image/png": "[encoded data removed]",
      "text/plain": [
       "<matplotlib.figure.Figure at 0x11b340ba8>"
      ]
     },
     "metadata": {},
     "output_type": "display_data"
    }
   ],
   "source": [
    "plt.imshow(cos_sims_f, cmap='hot', interpolation='nearest')\n",
    "plt.xlabel('Nyingma Texts')\n",
    "plt.ylabel('Bon Texts')\n",
    "plt.show()"
   ]
  },
  {
   "cell_type": "markdown",
   "metadata": {},
   "source": [
    "Legend:"
   ]
  },
  {
   "cell_type": "code",
   "execution_count": 17,
   "metadata": {},
   "outputs": [
    {
     "data": {
      "text/plain": [
       "{0: '01-SMDG-gser-lung-non-che.txt',\n",
       " 1: '02-SMDG-gser-lung-non-chung.txt',\n",
       " 2: '03-SMDG-sems-phran-rig-pa-khu-byug-sa-gcod.txt',\n",
       " 3: '04-SMDG-rig-pa-khu-byug-gzhung.txt',\n",
       " 4: '05-SMDG-rig-pa-khu-byug-grel.txt',\n",
       " 5: '06-SMDG-cog-bzhag-sa-gcod.txt',\n",
       " 6: '07-SMDG-cog-bzhag-gzhung.txt',\n",
       " 7: '08-SMDG-cog-bzhag-grel.txt',\n",
       " 8: '09-SMDG-rgyun-thag-sa-gcod-gzhung-grel.txt',\n",
       " 9: '10-SMDG-sems-lung-rgyun-thag.txt',\n",
       " 10: '11-SMDG-snang-dngos-med-mdzub-tshugs.txt',\n",
       " 11: '12-SMDG-sgron-ma-gsal-ba.txt',\n",
       " 12: \"13-ngang-thag-bskal-pa'i-sgron-ma_TTN-175-195.txt\",\n",
       " 13: '14-SMDG-thig-le-dbyings-kyi-ti-ka.txt'}"
      ]
     },
     "execution_count": 17,
     "metadata": {},
     "output_type": "execute_result"
    }
   ],
   "source": [
    "bon_idx2fname"
   ]
  },
  {
   "cell_type": "code",
   "execution_count": 18,
   "metadata": {},
   "outputs": [
    {
     "data": {
      "text/plain": [
       "{0: \"L1-rig-pa'i-khu-byug_p302-324.txt\",\n",
       " 1: 'L2-rtsal-chen_p436-447་.txt',\n",
       " 2: 'L3-khyung-chen_p447-468.txt',\n",
       " 3: 'L4_byang-sems-bsgom-rdo-la-gser-zhun-p416-425.txt',\n",
       " 4: \"L5_nam-mkha'-che-rgyas-pa-yi-ge-med-pa_V8-p.468-473.txt\",\n",
       " 5: 'LL01_L14_rtse-mo-byung-rgyal_vol8-p480-491.txt',\n",
       " 6: \"LL02_་nam-mkha'-rgyal-po_vol8-v475-480.txt\",\n",
       " 7: 'LL03_L16_bde-ba-phra-bkod_V8-p.495-498.txt',\n",
       " 8: 'LL04_byang-chub-sems-tig.txt',\n",
       " 9: \"LL06_L15_bde-ba-rab-'byams_vol8-p.473-475-not-sure.txt\",\n",
       " 10: \"LL07_L10_srog-gi-'khor-lo_v8.p491-494.txt\",\n",
       " 11: 'LL08_thig-le-drug-pa-NGB-vol33.txt',\n",
       " 12: 'LL09_spyi-gcod_vol8_p.498.txt',\n",
       " 13: 'LL10_yid-bzhin-nor-bu-431.txt',\n",
       " 14: \"LL11_kun-'dus-NGB-mtshams-brag-vol1-624-626་.txt\",\n",
       " 15: 'LL12_rje-btsan-dam-pa_NGB-vol34-p63-64.txt',\n",
       " 16: 'LL13-sgom-pa-don-grubdocx.txt'}"
      ]
     },
     "execution_count": 18,
     "metadata": {},
     "output_type": "execute_result"
    }
   ],
   "source": [
    "nyingma_idx2fname"
   ]
  },
  {
   "cell_type": "markdown",
   "metadata": {},
   "source": [
    "## Part 2a: Pairwise cosine similarity of 2-gram frequency vectors"
   ]
  },
  {
   "cell_type": "code",
   "execution_count": 19,
   "metadata": {},
   "outputs": [],
   "source": [
    "bon_bigrams = []\n",
    "for t in bon_texts:\n",
    "    grams = [tsek.join(x) for x in ngrams(t, 2)]\n",
    "    bon_bigrams.append(grams)\n",
    "    \n",
    "nyingma_bigrams = []\n",
    "for t in nyingma_texts:\n",
    "    grams = [tsek.join(x) for x in ngrams(t, 2)]\n",
    "    nyingma_bigrams.append(grams)"
   ]
  },
  {
   "cell_type": "code",
   "execution_count": 20,
   "metadata": {},
   "outputs": [],
   "source": [
    "dct_bigrams = Dictionary(bon_bigrams + nyingma_bigrams)"
   ]
  },
  {
   "cell_type": "code",
   "execution_count": 21,
   "metadata": {},
   "outputs": [],
   "source": [
    "bon_bows_bigrams = []\n",
    "for t in bon_bigrams:\n",
    "    bon_bows_bigrams.append(dct_bigrams.doc2bow(t))\n",
    "    \n",
    "nyingma_bows_bigrams = []\n",
    "for t in nyingma_bigrams:\n",
    "    nyingma_bows_bigrams.append(dct_bigrams.doc2bow(t))"
   ]
  },
  {
   "cell_type": "code",
   "execution_count": 22,
   "metadata": {},
   "outputs": [],
   "source": [
    "bon_tfs_bigrams = []\n",
    "for t in bon_bows_bigrams:\n",
    "    vec = np.zeros(len(dct_bigrams))\n",
    "    for k, v in t:\n",
    "        vec[k] = v\n",
    "    bon_tfs_bigrams.append(vec)\n",
    "    \n",
    "nyingma_tfs_bigrams = []\n",
    "for t in nyingma_bows_bigrams:\n",
    "    vec = np.zeros(len(dct_bigrams))\n",
    "    for k, v in t:\n",
    "        vec[k] = v\n",
    "    nyingma_tfs_bigrams.append(vec)"
   ]
  },
  {
   "cell_type": "code",
   "execution_count": 23,
   "metadata": {},
   "outputs": [
    {
     "data": {
      "image/png": "[encoded data removed]",
      "text/plain": [
       "<matplotlib.figure.Figure at 0x11f38d048>"
      ]
     },
     "metadata": {},
     "output_type": "display_data"
    }
   ],
   "source": [
    "cos_sims_bigrams = np.zeros((len(bon_tfs_bigrams), len(nyingma_tfs_bigrams)))\n",
    "\n",
    "for i in range(len(bon_tfs_bigrams)):\n",
    "    for j in range(len(nyingma_tfs_bigrams)):\n",
    "        u = bon_tfs_bigrams[i]\n",
    "        v = nyingma_tfs_bigrams[j]\n",
    "        cos_sims_bigrams[i,j] = (u / np.linalg.norm(u)).dot(v / np.linalg.norm(v))\n",
    "\n",
    "plt.imshow(cos_sims_bigrams, cmap='hot', interpolation='nearest')\n",
    "plt.xlabel('Nyingma Texts')\n",
    "plt.ylabel('Bon Texts')\n",
    "plt.show()"
   ]
  },
  {
   "cell_type": "markdown",
   "metadata": {},
   "source": [
    "Legend:"
   ]
  },
  {
   "cell_type": "code",
   "execution_count": 24,
   "metadata": {},
   "outputs": [
    {
     "data": {
      "text/plain": [
       "{0: '01-SMDG-gser-lung-non-che.txt',\n",
       " 1: '02-SMDG-gser-lung-non-chung.txt',\n",
       " 2: '03-SMDG-sems-phran-rig-pa-khu-byug-sa-gcod.txt',\n",
       " 3: '04-SMDG-rig-pa-khu-byug-gzhung.txt',\n",
       " 4: '05-SMDG-rig-pa-khu-byug-grel.txt',\n",
       " 5: '06-SMDG-cog-bzhag-sa-gcod.txt',\n",
       " 6: '07-SMDG-cog-bzhag-gzhung.txt',\n",
       " 7: '08-SMDG-cog-bzhag-grel.txt',\n",
       " 8: '09-SMDG-rgyun-thag-sa-gcod-gzhung-grel.txt',\n",
       " 9: '10-SMDG-sems-lung-rgyun-thag.txt',\n",
       " 10: '11-SMDG-snang-dngos-med-mdzub-tshugs.txt',\n",
       " 11: '12-SMDG-sgron-ma-gsal-ba.txt',\n",
       " 12: \"13-ngang-thag-bskal-pa'i-sgron-ma_TTN-175-195.txt\",\n",
       " 13: '14-SMDG-thig-le-dbyings-kyi-ti-ka.txt'}"
      ]
     },
     "execution_count": 24,
     "metadata": {},
     "output_type": "execute_result"
    }
   ],
   "source": [
    "bon_idx2fname"
   ]
  },
  {
   "cell_type": "code",
   "execution_count": 25,
   "metadata": {},
   "outputs": [
    {
     "data": {
      "text/plain": [
       "{0: \"L1-rig-pa'i-khu-byug_p302-324.txt\",\n",
       " 1: 'L2-rtsal-chen_p436-447་.txt',\n",
       " 2: 'L3-khyung-chen_p447-468.txt',\n",
       " 3: 'L4_byang-sems-bsgom-rdo-la-gser-zhun-p416-425.txt',\n",
       " 4: \"L5_nam-mkha'-che-rgyas-pa-yi-ge-med-pa_V8-p.468-473.txt\",\n",
       " 5: 'LL01_L14_rtse-mo-byung-rgyal_vol8-p480-491.txt',\n",
       " 6: \"LL02_་nam-mkha'-rgyal-po_vol8-v475-480.txt\",\n",
       " 7: 'LL03_L16_bde-ba-phra-bkod_V8-p.495-498.txt',\n",
       " 8: 'LL04_byang-chub-sems-tig.txt',\n",
       " 9: \"LL06_L15_bde-ba-rab-'byams_vol8-p.473-475-not-sure.txt\",\n",
       " 10: \"LL07_L10_srog-gi-'khor-lo_v8.p491-494.txt\",\n",
       " 11: 'LL08_thig-le-drug-pa-NGB-vol33.txt',\n",
       " 12: 'LL09_spyi-gcod_vol8_p.498.txt',\n",
       " 13: 'LL10_yid-bzhin-nor-bu-431.txt',\n",
       " 14: \"LL11_kun-'dus-NGB-mtshams-brag-vol1-624-626་.txt\",\n",
       " 15: 'LL12_rje-btsan-dam-pa_NGB-vol34-p63-64.txt',\n",
       " 16: 'LL13-sgom-pa-don-grubdocx.txt'}"
      ]
     },
     "execution_count": 25,
     "metadata": {},
     "output_type": "execute_result"
    }
   ],
   "source": [
    "nyingma_idx2fname"
   ]
  },
  {
   "cell_type": "markdown",
   "metadata": {},
   "source": [
    "## Part 2b: Pairwise cosine similarity of 2-gram frequency vectors (filtered)"
   ]
  },
  {
   "cell_type": "code",
   "execution_count": 26,
   "metadata": {},
   "outputs": [
    {
     "data": {
      "image/png": "[encoded data removed]",
      "text/plain": [
       "<matplotlib.figure.Figure at 0x11b34feb8>"
      ]
     },
     "metadata": {},
     "output_type": "display_data"
    }
   ],
   "source": [
    "bon_bigrams_f = []\n",
    "for t in bon_texts:\n",
    "    grams = [tsek.join(x) for x in ngrams(t, 2) if not set(x).intersection(filter_list)]\n",
    "    bon_bigrams_f.append(grams)\n",
    "    \n",
    "nyingma_bigrams_f = []\n",
    "for t in nyingma_texts:\n",
    "    grams = [tsek.join(x) for x in ngrams(t, 2) if not set(x).intersection(filter_list)]\n",
    "    nyingma_bigrams_f.append(grams)\n",
    "    \n",
    "dct_bigrams_f = Dictionary(bon_bigrams_f + nyingma_bigrams_f)\n",
    "\n",
    "bon_bows_bigrams_f = []\n",
    "for t in bon_bigrams_f:\n",
    "    bon_bows_bigrams_f.append(dct_bigrams_f.doc2bow(t))\n",
    "    \n",
    "nyingma_bows_bigrams_f = []\n",
    "for t in nyingma_bigrams_f:\n",
    "    nyingma_bows_bigrams_f.append(dct_bigrams_f.doc2bow(t))\n",
    "    \n",
    "bon_tfs_bigrams_f = []\n",
    "for t in bon_bows_bigrams_f:\n",
    "    vec = np.zeros(len(dct_bigrams_f))\n",
    "    for k, v in t:\n",
    "        vec[k] = v\n",
    "    bon_tfs_bigrams_f.append(vec)\n",
    "    \n",
    "nyingma_tfs_bigrams_f = []\n",
    "for t in nyingma_bows_bigrams_f:\n",
    "    vec = np.zeros(len(dct_bigrams_f))\n",
    "    for k, v in t:\n",
    "        vec[k] = v\n",
    "    nyingma_tfs_bigrams_f.append(vec)\n",
    "\n",
    "cos_sims_bigrams_f = np.zeros((len(bon_tfs_bigrams_f), len(nyingma_tfs_bigrams_f)))\n",
    "\n",
    "for i in range(len(bon_tfs_bigrams_f)):\n",
    "    for j in range(len(nyingma_tfs_bigrams_f)):\n",
    "        u = bon_tfs_bigrams_f[i]\n",
    "        v = nyingma_tfs_bigrams_f[j]\n",
    "        cos_sims_bigrams_f[i,j] = (u / np.linalg.norm(u)).dot(v / np.linalg.norm(v))\n",
    "\n",
    "plt.imshow(cos_sims_bigrams_f, cmap='hot', interpolation='nearest')\n",
    "plt.xlabel('Nyingma Texts')\n",
    "plt.ylabel('Bon Texts')\n",
    "plt.show()"
   ]
  },
  {
   "cell_type": "code",
   "execution_count": 27,
   "metadata": {
    "scrolled": true
   },
   "outputs": [
    {
     "data": {
      "text/plain": [
       "{0: '01-SMDG-gser-lung-non-che.txt',\n",
       " 1: '02-SMDG-gser-lung-non-chung.txt',\n",
       " 2: '03-SMDG-sems-phran-rig-pa-khu-byug-sa-gcod.txt',\n",
       " 3: '04-SMDG-rig-pa-khu-byug-gzhung.txt',\n",
       " 4: '05-SMDG-rig-pa-khu-byug-grel.txt',\n",
       " 5: '06-SMDG-cog-bzhag-sa-gcod.txt',\n",
       " 6: '07-SMDG-cog-bzhag-gzhung.txt',\n",
       " 7: '08-SMDG-cog-bzhag-grel.txt',\n",
       " 8: '09-SMDG-rgyun-thag-sa-gcod-gzhung-grel.txt',\n",
       " 9: '10-SMDG-sems-lung-rgyun-thag.txt',\n",
       " 10: '11-SMDG-snang-dngos-med-mdzub-tshugs.txt',\n",
       " 11: '12-SMDG-sgron-ma-gsal-ba.txt',\n",
       " 12: \"13-ngang-thag-bskal-pa'i-sgron-ma_TTN-175-195.txt\",\n",
       " 13: '14-SMDG-thig-le-dbyings-kyi-ti-ka.txt'}"
      ]
     },
     "execution_count": 27,
     "metadata": {},
     "output_type": "execute_result"
    }
   ],
   "source": [
    "bon_idx2fname"
   ]
  },
  {
   "cell_type": "code",
   "execution_count": 28,
   "metadata": {},
   "outputs": [
    {
     "data": {
      "text/plain": [
       "{0: \"L1-rig-pa'i-khu-byug_p302-324.txt\",\n",
       " 1: 'L2-rtsal-chen_p436-447་.txt',\n",
       " 2: 'L3-khyung-chen_p447-468.txt',\n",
       " 3: 'L4_byang-sems-bsgom-rdo-la-gser-zhun-p416-425.txt',\n",
       " 4: \"L5_nam-mkha'-che-rgyas-pa-yi-ge-med-pa_V8-p.468-473.txt\",\n",
       " 5: 'LL01_L14_rtse-mo-byung-rgyal_vol8-p480-491.txt',\n",
       " 6: \"LL02_་nam-mkha'-rgyal-po_vol8-v475-480.txt\",\n",
       " 7: 'LL03_L16_bde-ba-phra-bkod_V8-p.495-498.txt',\n",
       " 8: 'LL04_byang-chub-sems-tig.txt',\n",
       " 9: \"LL06_L15_bde-ba-rab-'byams_vol8-p.473-475-not-sure.txt\",\n",
       " 10: \"LL07_L10_srog-gi-'khor-lo_v8.p491-494.txt\",\n",
       " 11: 'LL08_thig-le-drug-pa-NGB-vol33.txt',\n",
       " 12: 'LL09_spyi-gcod_vol8_p.498.txt',\n",
       " 13: 'LL10_yid-bzhin-nor-bu-431.txt',\n",
       " 14: \"LL11_kun-'dus-NGB-mtshams-brag-vol1-624-626་.txt\",\n",
       " 15: 'LL12_rje-btsan-dam-pa_NGB-vol34-p63-64.txt',\n",
       " 16: 'LL13-sgom-pa-don-grubdocx.txt'}"
      ]
     },
     "execution_count": 28,
     "metadata": {},
     "output_type": "execute_result"
    }
   ],
   "source": [
    "nyingma_idx2fname"
   ]
  },
  {
   "cell_type": "markdown",
   "metadata": {},
   "source": [
    "## Part 3a: Pairwise cosine similarity of word + 2-gram frequency"
   ]
  },
  {
   "cell_type": "code",
   "execution_count": 29,
   "metadata": {},
   "outputs": [
    {
     "data": {
      "image/png": "[encoded data removed]",
      "text/plain": [
       "<matplotlib.figure.Figure at 0x11f3653c8>"
      ]
     },
     "metadata": {},
     "output_type": "display_data"
    }
   ],
   "source": [
    "bon_words_bigrams = []\n",
    "for t1, t2 in zip(bon_texts, bon_bigrams):\n",
    "    bon_words_bigrams.append(t1 + t2)\n",
    "    \n",
    "nyingma_words_bigrams = []\n",
    "for t1, t2 in zip(nyingma_texts, nyingma_bigrams):\n",
    "    nyingma_words_bigrams.append(t1 + t2)\n",
    "    \n",
    "dct_words_bigrams = Dictionary(bon_words_bigrams + nyingma_words_bigrams)\n",
    "\n",
    "bon_bows_words_bigrams = []\n",
    "for t in bon_words_bigrams:\n",
    "    bon_bows_words_bigrams.append(dct_words_bigrams.doc2bow(t))\n",
    "    \n",
    "nyingma_bows_words_bigrams = []\n",
    "for t in nyingma_words_bigrams:\n",
    "    nyingma_bows_words_bigrams.append(dct_words_bigrams.doc2bow(t))\n",
    "    \n",
    "bon_tfs_words_bigrams = []\n",
    "for t in bon_bows_words_bigrams:\n",
    "    vec = np.zeros(len(dct_words_bigrams))\n",
    "    for k, v in t:\n",
    "        vec[k] = v\n",
    "    bon_tfs_words_bigrams.append(vec)\n",
    "    \n",
    "nyingma_tfs_words_bigrams = []\n",
    "for t in nyingma_bows_words_bigrams:\n",
    "    vec = np.zeros(len(dct_words_bigrams))\n",
    "    for k, v in t:\n",
    "        vec[k] = v\n",
    "    nyingma_tfs_words_bigrams.append(vec)\n",
    "\n",
    "cos_sims_words_bigrams = np.zeros((len(bon_tfs_words_bigrams), len(nyingma_tfs_words_bigrams)))\n",
    "\n",
    "for i in range(len(bon_tfs_words_bigrams)):\n",
    "    for j in range(len(nyingma_tfs_words_bigrams)):\n",
    "        u = bon_tfs_words_bigrams[i]\n",
    "        v = nyingma_tfs_words_bigrams[j]\n",
    "        cos_sims_words_bigrams[i,j] = (u / np.linalg.norm(u)).dot(v / np.linalg.norm(v))\n",
    "\n",
    "plt.imshow(cos_sims_words_bigrams, cmap='hot', interpolation='nearest')\n",
    "plt.xlabel('Nyingma Texts')\n",
    "plt.ylabel('Bon Texts')\n",
    "plt.show()"
   ]
  },
  {
   "cell_type": "code",
   "execution_count": 30,
   "metadata": {},
   "outputs": [
    {
     "data": {
      "text/plain": [
       "{0: '01-SMDG-gser-lung-non-che.txt',\n",
       " 1: '02-SMDG-gser-lung-non-chung.txt',\n",
       " 2: '03-SMDG-sems-phran-rig-pa-khu-byug-sa-gcod.txt',\n",
       " 3: '04-SMDG-rig-pa-khu-byug-gzhung.txt',\n",
       " 4: '05-SMDG-rig-pa-khu-byug-grel.txt',\n",
       " 5: '06-SMDG-cog-bzhag-sa-gcod.txt',\n",
       " 6: '07-SMDG-cog-bzhag-gzhung.txt',\n",
       " 7: '08-SMDG-cog-bzhag-grel.txt',\n",
       " 8: '09-SMDG-rgyun-thag-sa-gcod-gzhung-grel.txt',\n",
       " 9: '10-SMDG-sems-lung-rgyun-thag.txt',\n",
       " 10: '11-SMDG-snang-dngos-med-mdzub-tshugs.txt',\n",
       " 11: '12-SMDG-sgron-ma-gsal-ba.txt',\n",
       " 12: \"13-ngang-thag-bskal-pa'i-sgron-ma_TTN-175-195.txt\",\n",
       " 13: '14-SMDG-thig-le-dbyings-kyi-ti-ka.txt'}"
      ]
     },
     "execution_count": 30,
     "metadata": {},
     "output_type": "execute_result"
    }
   ],
   "source": [
    "bon_idx2fname"
   ]
  },
  {
   "cell_type": "code",
   "execution_count": 31,
   "metadata": {},
   "outputs": [
    {
     "data": {
      "text/plain": [
       "{0: \"L1-rig-pa'i-khu-byug_p302-324.txt\",\n",
       " 1: 'L2-rtsal-chen_p436-447་.txt',\n",
       " 2: 'L3-khyung-chen_p447-468.txt',\n",
       " 3: 'L4_byang-sems-bsgom-rdo-la-gser-zhun-p416-425.txt',\n",
       " 4: \"L5_nam-mkha'-che-rgyas-pa-yi-ge-med-pa_V8-p.468-473.txt\",\n",
       " 5: 'LL01_L14_rtse-mo-byung-rgyal_vol8-p480-491.txt',\n",
       " 6: \"LL02_་nam-mkha'-rgyal-po_vol8-v475-480.txt\",\n",
       " 7: 'LL03_L16_bde-ba-phra-bkod_V8-p.495-498.txt',\n",
       " 8: 'LL04_byang-chub-sems-tig.txt',\n",
       " 9: \"LL06_L15_bde-ba-rab-'byams_vol8-p.473-475-not-sure.txt\",\n",
       " 10: \"LL07_L10_srog-gi-'khor-lo_v8.p491-494.txt\",\n",
       " 11: 'LL08_thig-le-drug-pa-NGB-vol33.txt',\n",
       " 12: 'LL09_spyi-gcod_vol8_p.498.txt',\n",
       " 13: 'LL10_yid-bzhin-nor-bu-431.txt',\n",
       " 14: \"LL11_kun-'dus-NGB-mtshams-brag-vol1-624-626་.txt\",\n",
       " 15: 'LL12_rje-btsan-dam-pa_NGB-vol34-p63-64.txt',\n",
       " 16: 'LL13-sgom-pa-don-grubdocx.txt'}"
      ]
     },
     "execution_count": 31,
     "metadata": {},
     "output_type": "execute_result"
    }
   ],
   "source": [
    "nyingma_idx2fname"
   ]
  },
  {
   "cell_type": "markdown",
   "metadata": {},
   "source": [
    "## Part 3b: Pairwise cosine similarity of word + 2-gram frequency (filtered)"
   ]
  },
  {
   "cell_type": "code",
   "execution_count": 32,
   "metadata": {},
   "outputs": [
    {
     "data": {
      "image/png": "[encoded data removed]",
      "text/plain": [
       "<matplotlib.figure.Figure at 0x1129ebba8>"
      ]
     },
     "metadata": {},
     "output_type": "display_data"
    }
   ],
   "source": [
    "bon_words_bigrams_f = []\n",
    "for t1, t2 in zip(bon_texts_f, bon_bigrams_f):\n",
    "    bon_words_bigrams_f.append(t1 + t2)\n",
    "    \n",
    "nyingma_words_bigrams_f = []\n",
    "for t1, t2 in zip(nyingma_texts_f, nyingma_bigrams_f):\n",
    "    nyingma_words_bigrams_f.append(t1 + t2)\n",
    "    \n",
    "dct_words_bigrams_f = Dictionary(bon_words_bigrams_f + nyingma_words_bigrams_f)\n",
    "\n",
    "bon_bows_words_bigrams_f = []\n",
    "for t in bon_words_bigrams_f:\n",
    "    bon_bows_words_bigrams_f.append(dct_words_bigrams_f.doc2bow(t))\n",
    "    \n",
    "nyingma_bows_words_bigrams_f = []\n",
    "for t in nyingma_words_bigrams_f:\n",
    "    nyingma_bows_words_bigrams_f.append(dct_words_bigrams_f.doc2bow(t))\n",
    "    \n",
    "bon_tfs_words_bigrams_f = []\n",
    "for t in bon_bows_words_bigrams_f:\n",
    "    vec = np.zeros(len(dct_words_bigrams_f))\n",
    "    for k, v in t:\n",
    "        vec[k] = v\n",
    "    bon_tfs_words_bigrams_f.append(vec)\n",
    "    \n",
    "nyingma_tfs_words_bigrams_f = []\n",
    "for t in nyingma_bows_words_bigrams_f:\n",
    "    vec = np.zeros(len(dct_words_bigrams_f))\n",
    "    for k, v in t:\n",
    "        vec[k] = v\n",
    "    nyingma_tfs_words_bigrams_f.append(vec)\n",
    "\n",
    "cos_sims_words_bigrams_f = np.zeros((len(bon_tfs_words_bigrams_f), len(nyingma_tfs_words_bigrams_f)))\n",
    "\n",
    "for i in range(len(bon_tfs_words_bigrams_f)):\n",
    "    for j in range(len(nyingma_tfs_words_bigrams_f)):\n",
    "        u = bon_tfs_words_bigrams_f[i]\n",
    "        v = nyingma_tfs_words_bigrams_f[j]\n",
    "        cos_sims_words_bigrams_f[i,j] = (u / np.linalg.norm(u)).dot(v / np.linalg.norm(v))\n",
    "\n",
    "plt.imshow(cos_sims_words_bigrams_f, cmap='hot', interpolation='nearest')\n",
    "plt.xlabel('Nyingma Texts')\n",
    "plt.ylabel('Bon Texts')\n",
    "plt.show()"
   ]
  },
  {
   "cell_type": "code",
   "execution_count": 33,
   "metadata": {
    "scrolled": true
   },
   "outputs": [
    {
     "data": {
      "text/plain": [
       "{0: '01-SMDG-gser-lung-non-che.txt',\n",
       " 1: '02-SMDG-gser-lung-non-chung.txt',\n",
       " 2: '03-SMDG-sems-phran-rig-pa-khu-byug-sa-gcod.txt',\n",
       " 3: '04-SMDG-rig-pa-khu-byug-gzhung.txt',\n",
       " 4: '05-SMDG-rig-pa-khu-byug-grel.txt',\n",
       " 5: '06-SMDG-cog-bzhag-sa-gcod.txt',\n",
       " 6: '07-SMDG-cog-bzhag-gzhung.txt',\n",
       " 7: '08-SMDG-cog-bzhag-grel.txt',\n",
       " 8: '09-SMDG-rgyun-thag-sa-gcod-gzhung-grel.txt',\n",
       " 9: '10-SMDG-sems-lung-rgyun-thag.txt',\n",
       " 10: '11-SMDG-snang-dngos-med-mdzub-tshugs.txt',\n",
       " 11: '12-SMDG-sgron-ma-gsal-ba.txt',\n",
       " 12: \"13-ngang-thag-bskal-pa'i-sgron-ma_TTN-175-195.txt\",\n",
       " 13: '14-SMDG-thig-le-dbyings-kyi-ti-ka.txt'}"
      ]
     },
     "execution_count": 33,
     "metadata": {},
     "output_type": "execute_result"
    }
   ],
   "source": [
    "bon_idx2fname"
   ]
  },
  {
   "cell_type": "code",
   "execution_count": 34,
   "metadata": {},
   "outputs": [
    {
     "data": {
      "text/plain": [
       "{0: \"L1-rig-pa'i-khu-byug_p302-324.txt\",\n",
       " 1: 'L2-rtsal-chen_p436-447་.txt',\n",
       " 2: 'L3-khyung-chen_p447-468.txt',\n",
       " 3: 'L4_byang-sems-bsgom-rdo-la-gser-zhun-p416-425.txt',\n",
       " 4: \"L5_nam-mkha'-che-rgyas-pa-yi-ge-med-pa_V8-p.468-473.txt\",\n",
       " 5: 'LL01_L14_rtse-mo-byung-rgyal_vol8-p480-491.txt',\n",
       " 6: \"LL02_་nam-mkha'-rgyal-po_vol8-v475-480.txt\",\n",
       " 7: 'LL03_L16_bde-ba-phra-bkod_V8-p.495-498.txt',\n",
       " 8: 'LL04_byang-chub-sems-tig.txt',\n",
       " 9: \"LL06_L15_bde-ba-rab-'byams_vol8-p.473-475-not-sure.txt\",\n",
       " 10: \"LL07_L10_srog-gi-'khor-lo_v8.p491-494.txt\",\n",
       " 11: 'LL08_thig-le-drug-pa-NGB-vol33.txt',\n",
       " 12: 'LL09_spyi-gcod_vol8_p.498.txt',\n",
       " 13: 'LL10_yid-bzhin-nor-bu-431.txt',\n",
       " 14: \"LL11_kun-'dus-NGB-mtshams-brag-vol1-624-626་.txt\",\n",
       " 15: 'LL12_rje-btsan-dam-pa_NGB-vol34-p63-64.txt',\n",
       " 16: 'LL13-sgom-pa-don-grubdocx.txt'}"
      ]
     },
     "execution_count": 34,
     "metadata": {},
     "output_type": "execute_result"
    }
   ],
   "source": [
    "nyingma_idx2fname"
   ]
  },
  {
   "cell_type": "markdown",
   "metadata": {},
   "source": [
    "## Part 4a: Pairwise Spearman Rank Correlation of common words and 2-grams (filtered)"
   ]
  },
  {
   "cell_type": "code",
   "execution_count": 35,
   "metadata": {},
   "outputs": [],
   "source": [
    "ctr_words_f = Counter()\n",
    "for t in bon_texts_f + nyingma_texts_f:\n",
    "    ctr_words_f.update(t)\n",
    "    \n",
    "ctr_bigrams_f = Counter()\n",
    "for t in bon_bigrams_f + nyingma_bigrams_f:\n",
    "    ctr_bigrams_f.update(t)"
   ]
  },
  {
   "cell_type": "markdown",
   "metadata": {},
   "source": [
    "Percent of word count in top 100 words:"
   ]
  },
  {
   "cell_type": "code",
   "execution_count": 36,
   "metadata": {},
   "outputs": [
    {
     "name": "stdout",
     "output_type": "stream",
     "text": [
      "21788 / 53177 = 0.409726009364951\n"
     ]
    }
   ],
   "source": [
    "total = sum([x[1] for x in ctr_words_f.items()])\n",
    "top_100 = sum([x[1] for x in ctr_words_f.most_common(100)])\n",
    "print(\"{} / {} = {}\".format(top_100, total, top_100/total))"
   ]
  },
  {
   "cell_type": "markdown",
   "metadata": {},
   "source": [
    "Percent of bigram count in top 100 bigrams:"
   ]
  },
  {
   "cell_type": "code",
   "execution_count": 37,
   "metadata": {},
   "outputs": [
    {
     "name": "stdout",
     "output_type": "stream",
     "text": [
      "3267 / 29662 = 0.11014092104375969\n"
     ]
    }
   ],
   "source": [
    "total = sum([x[1] for x in ctr_bigrams_f.items()])\n",
    "top_100 = sum([x[1] for x in ctr_bigrams_f.most_common(100)])\n",
    "print(\"{} / {} = {}\".format(top_100, total, top_100/total))"
   ]
  },
  {
   "cell_type": "code",
   "execution_count": 38,
   "metadata": {},
   "outputs": [],
   "source": [
    "token2id = dct_words_bigrams_f.token2id\n",
    "top_100_words = {token2id[x[0]] for x in ctr_words_f.most_common(100)}\n",
    "top_100_bigrams = {token2id[x[0]] for x in ctr_bigrams_f.most_common(100)}\n",
    "\n",
    "bon_top_100 = []\n",
    "for b in bon_bows_words_bigrams_f:\n",
    "    vec = np.zeros(200)\n",
    "    i = 0\n",
    "    for k, v in b:\n",
    "        if k in top_100_words or k in top_100_bigrams:\n",
    "            vec[i] = v\n",
    "            i += 1\n",
    "    bon_top_100.append(vec)\n",
    "            \n",
    "nyingma_top_100 = []\n",
    "for b in nyingma_bows_words_bigrams_f:\n",
    "    vec = np.zeros(200)\n",
    "    i = 0\n",
    "    for k, v in b:\n",
    "        if k in top_100_words or k in top_100_bigrams:\n",
    "            vec[i] = v\n",
    "            i += 1\n",
    "    nyingma_top_100.append(vec)"
   ]
  },
  {
   "cell_type": "code",
   "execution_count": 41,
   "metadata": {
    "scrolled": true
   },
   "outputs": [
    {
     "data": {
      "image/png": "[encoded data removed]",
      "text/plain": [
       "<matplotlib.figure.Figure at 0x11cf75b70>"
      ]
     },
     "metadata": {},
     "output_type": "display_data"
    }
   ],
   "source": [
    "r_matrix = np.zeros((len(bon_texts), len(nyingma_texts)))\n",
    "\n",
    "for i in range(len(bon_texts)):\n",
    "    for j in range(len(nyingma_texts)):\n",
    "        t, _ = stats.spearmanr(bon_top_100[i], nyingma_top_100[j])\n",
    "        r_matrix[i, j] = t\n",
    "\n",
    "plt.imshow(r_matrix, cmap='hot', interpolation='nearest')\n",
    "plt.xlabel('Nyingma Texts')\n",
    "plt.ylabel('Bon Texts')\n",
    "plt.show()     "
   ]
  },
  {
   "cell_type": "code",
   "execution_count": 43,
   "metadata": {},
   "outputs": [
    {
     "data": {
      "text/plain": [
       "{0: '01-SMDG-gser-lung-non-che.txt',\n",
       " 1: '02-SMDG-gser-lung-non-chung.txt',\n",
       " 2: '03-SMDG-sems-phran-rig-pa-khu-byug-sa-gcod.txt',\n",
       " 3: '04-SMDG-rig-pa-khu-byug-gzhung.txt',\n",
       " 4: '05-SMDG-rig-pa-khu-byug-grel.txt',\n",
       " 5: '06-SMDG-cog-bzhag-sa-gcod.txt',\n",
       " 6: '07-SMDG-cog-bzhag-gzhung.txt',\n",
       " 7: '08-SMDG-cog-bzhag-grel.txt',\n",
       " 8: '09-SMDG-rgyun-thag-sa-gcod-gzhung-grel.txt',\n",
       " 9: '10-SMDG-sems-lung-rgyun-thag.txt',\n",
       " 10: '11-SMDG-snang-dngos-med-mdzub-tshugs.txt',\n",
       " 11: '12-SMDG-sgron-ma-gsal-ba.txt',\n",
       " 12: \"13-ngang-thag-bskal-pa'i-sgron-ma_TTN-175-195.txt\",\n",
       " 13: '14-SMDG-thig-le-dbyings-kyi-ti-ka.txt'}"
      ]
     },
     "execution_count": 43,
     "metadata": {},
     "output_type": "execute_result"
    }
   ],
   "source": [
    "bon_idx2fname"
   ]
  },
  {
   "cell_type": "code",
   "execution_count": 44,
   "metadata": {},
   "outputs": [
    {
     "data": {
      "text/plain": [
       "{0: \"L1-rig-pa'i-khu-byug_p302-324.txt\",\n",
       " 1: 'L2-rtsal-chen_p436-447་.txt',\n",
       " 2: 'L3-khyung-chen_p447-468.txt',\n",
       " 3: 'L4_byang-sems-bsgom-rdo-la-gser-zhun-p416-425.txt',\n",
       " 4: \"L5_nam-mkha'-che-rgyas-pa-yi-ge-med-pa_V8-p.468-473.txt\",\n",
       " 5: 'LL01_L14_rtse-mo-byung-rgyal_vol8-p480-491.txt',\n",
       " 6: \"LL02_་nam-mkha'-rgyal-po_vol8-v475-480.txt\",\n",
       " 7: 'LL03_L16_bde-ba-phra-bkod_V8-p.495-498.txt',\n",
       " 8: 'LL04_byang-chub-sems-tig.txt',\n",
       " 9: \"LL06_L15_bde-ba-rab-'byams_vol8-p.473-475-not-sure.txt\",\n",
       " 10: \"LL07_L10_srog-gi-'khor-lo_v8.p491-494.txt\",\n",
       " 11: 'LL08_thig-le-drug-pa-NGB-vol33.txt',\n",
       " 12: 'LL09_spyi-gcod_vol8_p.498.txt',\n",
       " 13: 'LL10_yid-bzhin-nor-bu-431.txt',\n",
       " 14: \"LL11_kun-'dus-NGB-mtshams-brag-vol1-624-626་.txt\",\n",
       " 15: 'LL12_rje-btsan-dam-pa_NGB-vol34-p63-64.txt',\n",
       " 16: 'LL13-sgom-pa-don-grubdocx.txt'}"
      ]
     },
     "execution_count": 44,
     "metadata": {},
     "output_type": "execute_result"
    }
   ],
   "source": [
    "nyingma_idx2fname"
   ]
  },
  {
   "cell_type": "markdown",
   "metadata": {},
   "source": [
    "## Part 5: Pairwise Kendall's Tau-b of common words and 2-grams (filtered)"
   ]
  },
  {
   "cell_type": "code",
   "execution_count": 42,
   "metadata": {},
   "outputs": [
    {
     "data": {
      "image/png": "[encoded data removed]",
      "text/plain": [
       "<matplotlib.figure.Figure at 0x11e8376d8>"
      ]
     },
     "metadata": {},
     "output_type": "display_data"
    }
   ],
   "source": [
    "tau_matrix = np.zeros((len(bon_texts), len(nyingma_texts)))\n",
    "\n",
    "for i in range(len(bon_texts)):\n",
    "    for j in range(len(nyingma_texts)):\n",
    "        t, _ = stats.kendalltau(bon_top_100[i], nyingma_top_100[j])\n",
    "        tau_matrix[i, j] = t\n",
    "\n",
    "plt.imshow(tau_matrix, cmap='hot', interpolation='nearest')\n",
    "plt.xlabel('Nyingma Texts')\n",
    "plt.ylabel('Bon Texts')\n",
    "plt.show()     "
   ]
  },
  {
   "cell_type": "code",
   "execution_count": 45,
   "metadata": {},
   "outputs": [
    {
     "data": {
      "text/plain": [
       "{0: '01-SMDG-gser-lung-non-che.txt',\n",
       " 1: '02-SMDG-gser-lung-non-chung.txt',\n",
       " 2: '03-SMDG-sems-phran-rig-pa-khu-byug-sa-gcod.txt',\n",
       " 3: '04-SMDG-rig-pa-khu-byug-gzhung.txt',\n",
       " 4: '05-SMDG-rig-pa-khu-byug-grel.txt',\n",
       " 5: '06-SMDG-cog-bzhag-sa-gcod.txt',\n",
       " 6: '07-SMDG-cog-bzhag-gzhung.txt',\n",
       " 7: '08-SMDG-cog-bzhag-grel.txt',\n",
       " 8: '09-SMDG-rgyun-thag-sa-gcod-gzhung-grel.txt',\n",
       " 9: '10-SMDG-sems-lung-rgyun-thag.txt',\n",
       " 10: '11-SMDG-snang-dngos-med-mdzub-tshugs.txt',\n",
       " 11: '12-SMDG-sgron-ma-gsal-ba.txt',\n",
       " 12: \"13-ngang-thag-bskal-pa'i-sgron-ma_TTN-175-195.txt\",\n",
       " 13: '14-SMDG-thig-le-dbyings-kyi-ti-ka.txt'}"
      ]
     },
     "execution_count": 45,
     "metadata": {},
     "output_type": "execute_result"
    }
   ],
   "source": [
    "bon_idx2fname"
   ]
  },
  {
   "cell_type": "code",
   "execution_count": 46,
   "metadata": {},
   "outputs": [
    {
     "data": {
      "text/plain": [
       "{0: \"L1-rig-pa'i-khu-byug_p302-324.txt\",\n",
       " 1: 'L2-rtsal-chen_p436-447་.txt',\n",
       " 2: 'L3-khyung-chen_p447-468.txt',\n",
       " 3: 'L4_byang-sems-bsgom-rdo-la-gser-zhun-p416-425.txt',\n",
       " 4: \"L5_nam-mkha'-che-rgyas-pa-yi-ge-med-pa_V8-p.468-473.txt\",\n",
       " 5: 'LL01_L14_rtse-mo-byung-rgyal_vol8-p480-491.txt',\n",
       " 6: \"LL02_་nam-mkha'-rgyal-po_vol8-v475-480.txt\",\n",
       " 7: 'LL03_L16_bde-ba-phra-bkod_V8-p.495-498.txt',\n",
       " 8: 'LL04_byang-chub-sems-tig.txt',\n",
       " 9: \"LL06_L15_bde-ba-rab-'byams_vol8-p.473-475-not-sure.txt\",\n",
       " 10: \"LL07_L10_srog-gi-'khor-lo_v8.p491-494.txt\",\n",
       " 11: 'LL08_thig-le-drug-pa-NGB-vol33.txt',\n",
       " 12: 'LL09_spyi-gcod_vol8_p.498.txt',\n",
       " 13: 'LL10_yid-bzhin-nor-bu-431.txt',\n",
       " 14: \"LL11_kun-'dus-NGB-mtshams-brag-vol1-624-626་.txt\",\n",
       " 15: 'LL12_rje-btsan-dam-pa_NGB-vol34-p63-64.txt',\n",
       " 16: 'LL13-sgom-pa-don-grubdocx.txt'}"
      ]
     },
     "execution_count": 46,
     "metadata": {},
     "output_type": "execute_result"
    }
   ],
   "source": [
    "nyingma_idx2fname"
   ]
  },
  {
   "cell_type": "markdown",
   "metadata": {},
   "source": [
    "## Intermission: word and bigram frequencies (filtered)"
   ]
  },
  {
   "cell_type": "code",
   "execution_count": 51,
   "metadata": {},
   "outputs": [],
   "source": [
    "bon_words_f = Counter(list(itertools.chain(*bon_texts_f)))\n",
    "nyingma_words_f = Counter(list(itertools.chain(*nyingma_texts_f)))\n",
    "\n",
    "bon_bigrams_f = Counter(list(itertools.chain(*bon_bigrams_f)))\n",
    "nyingma_bigrams_f = Counter(list(itertools.chain(*nyingma_bigrams_f)))"
   ]
  },
  {
   "cell_type": "code",
   "execution_count": 55,
   "metadata": {
    "scrolled": true
   },
   "outputs": [
    {
     "name": "stdout",
     "output_type": "stream",
     "text": [
      "Top 100 words\n",
      "སེམས: 701\n",
      "\n",
      "མི: 624\n",
      "\n",
      "ལས: 513\n",
      "\n",
      "མྱེད: 443\n",
      "\n",
      "དོན: 435\n",
      "\n",
      "བྱ: 419\n",
      "\n",
      "ཉིད: 403\n",
      "\n",
      "ཡེ་ཤེས: 332\n",
      "\n",
      "ཐམས་ཅད: 313\n",
      "\n",
      "བོན: 297\n",
      "\n",
      "ཡིན: 270\n",
      "\n",
      "ངང: 268\n",
      "\n",
      "མེད་པ: 257\n",
      "\n",
      "བྱང་ཆུབ: 255\n",
      "\n",
      "མཚན་མ: 249\n",
      "\n",
      "གསལ་བ: 238\n",
      "\n",
      "ཆེན་པོ: 232\n",
      "\n",
      "ཁུ་བྱུག: 221\n",
      "\n",
      "གསུམ: 215\n",
      "\n",
      "བདག: 206\n",
      "\n",
      "རིག་པ: 200\n",
      "\n",
      "གཉིས: 198\n",
      "\n",
      "མེད: 196\n",
      "\n",
      "ལུང: 188\n",
      "\n",
      "ནམ་མཁའ: 184\n",
      "\n",
      "གསལ: 182\n",
      "\n",
      "བྱ་བ: 178\n",
      "\n",
      "དབྱིངས: 177\n",
      "\n",
      "ཞིང: 177\n",
      "\n",
      "གནས: 172\n",
      "\n",
      "ལྷ: 171\n",
      "\n",
      "དུས: 165\n",
      "\n",
      "བསྒོམ: 161\n",
      "\n",
      "སེམས་ཉིད: 159\n",
      "\n",
      "སྟོན་པ: 158\n",
      "\n",
      "ལྔ: 157\n",
      "\n",
      "རང་བཞིན: 157\n",
      "\n",
      "རང: 156\n",
      "\n",
      "རྟོགས: 156\n",
      "\n",
      "ཀུན: 155\n",
      "\n",
      "ཙམ: 149\n",
      "\n",
      "ཡེ་ནས: 146\n",
      "\n",
      "པས: 138\n",
      "\n",
      "འོད: 136\n",
      "\n",
      "བཞི: 135\n",
      "\n",
      "བསྟན་པ: 135\n",
      "\n",
      "ཤེས་པ: 134\n",
      "\n",
      "སྤྲུལ་པ: 133\n",
      "\n",
      "ལྟར: 132\n",
      "\n",
      "སྐྱེ་བ: 131\n",
      "\n",
      "རྟོགས་པ: 128\n",
      "\n",
      "རྣམ་པར: 123\n",
      "\n",
      "ཏིང་ངེ་འཛིན: 121\n",
      "\n",
      "འབྱུང: 119\n",
      "\n",
      "བྱུང: 116\n",
      "\n",
      "གཤེན: 115\n",
      "\n",
      "ཡིད: 113\n",
      "\n",
      "ཅིག: 112\n",
      "\n",
      "སྐུ: 112\n",
      "\n",
      "སེམས་ཅན: 111\n",
      "\n",
      "གནས་པ: 111\n",
      "\n",
      "བརྣན: 111\n",
      "\n",
      "སྣང: 110\n",
      "\n",
      "ཅན: 110\n",
      "\n",
      "ཐབས: 108\n",
      "\n",
      "དེས: 105\n",
      "\n",
      "དེ་ལྟར: 105\n",
      "\n",
      "བདེ་བ: 104\n",
      "\n",
      "སྟོན: 102\n",
      "\n",
      "རྣམ་པ: 102\n",
      "\n",
      "བག་ཆགས: 102\n",
      "\n",
      "འདྲ: 102\n",
      "\n",
      "རུ: 102\n",
      "\n",
      "བཤད: 101\n",
      "\n",
      "པོ: 101\n",
      "\n",
      "གཤེན་ལྷ: 96\n",
      "\n",
      "ལུས: 96\n",
      "\n",
      "གཅིག: 95\n",
      "\n",
      "ལྡན་པ: 93\n",
      "\n",
      "རྒྱུ: 90\n",
      "\n",
      "དོན་དམ: 89\n",
      "\n",
      "བསྒོམ་པ: 89\n",
      "\n",
      "གང: 88\n",
      "\n",
      "ཐིག་ལེ: 88\n",
      "\n",
      "འབྲས་བུ: 86\n",
      "\n",
      "རྒྱལ་པོ: 86\n",
      "\n",
      "མན་ངག: 85\n",
      "\n",
      "གཡུང་དྲུང: 84\n",
      "\n",
      "འགྱུར: 84\n",
      "\n",
      "ཚིག: 84\n",
      "\n",
      "མཐའ: 84\n",
      "\n",
      "དཔེ: 83\n",
      "\n",
      "འབྱུང་བ: 83\n",
      "\n",
      "སྙིང་པོ: 83\n",
      "\n",
      "བྱེད: 82\n",
      "\n",
      "དངོས་པོ: 81\n",
      "\n",
      "དཔེར་ན: 81\n",
      "\n",
      "མེད་པར: 80\n",
      "\n",
      "གམ: 79\n",
      "\n",
      "ཐུགས: 79\n",
      "\n",
      "Top 100 words\n",
      "མི: 403\n",
      "\n",
      "མེད: 385\n",
      "\n",
      "ཀུན: 239\n",
      "\n",
      "ལས: 189\n",
      "\n",
      "ཉིད: 176\n",
      "\n",
      "མེད་པ: 150\n",
      "\n",
      "ཆོས: 148\n",
      "\n",
      "གནས: 144\n",
      "\n",
      "བྱང་ཆུབ: 143\n",
      "\n",
      "ལམ: 132\n",
      "\n",
      "ཡིན: 121\n",
      "\n",
      "སེམས: 117\n",
      "\n",
      "དོན: 117\n",
      "\n",
      "ཆེན་པོ: 108\n",
      "\n",
      "དབྱིངས: 101\n",
      "\n",
      "མཆོག: 94\n",
      "\n",
      "ཐམས་ཅད: 91\n",
      "\n",
      "རྡོ་རྗེ: 91\n",
      "\n",
      "སངས་རྒྱས: 91\n",
      "\n",
      "རང་བཞིན: 88\n",
      "\n",
      "ཡེ་ཤེས: 87\n",
      "\n",
      "བཅོམ་ལྡན་འདས: 84\n",
      "\n",
      "སྙིང་པོ: 84\n",
      "\n",
      "གཉིས: 79\n",
      "\n",
      "རྒྱུད: 77\n",
      "\n",
      "སྐུ: 75\n",
      "\n",
      "རྫོགས: 70\n",
      "\n",
      "ཕྱིར: 67\n",
      "\n",
      "གཞན: 66\n",
      "\n",
      "བཞིན: 64\n",
      "\n",
      "ཡི: 64\n",
      "\n",
      "འགྱུར: 64\n",
      "\n",
      "དེ་ནས: 63\n",
      "\n",
      "ཡེ་ནས: 62\n",
      "\n",
      "དེ་བཞིན: 61\n",
      "\n",
      "གང: 60\n",
      "\n",
      "མཐའ: 60\n",
      "\n",
      "དཔལ: 59\n",
      "\n",
      "བྲལ: 59\n",
      "\n",
      "རྣམ་པར: 58\n",
      "\n",
      "དག་པ: 56\n",
      "\n",
      "ལྷུན: 56\n",
      "\n",
      "བདེ་བ: 55\n",
      "\n",
      "གསུམ: 55\n",
      "\n",
      "གཅིག: 53\n",
      "\n",
      "འདས: 51\n",
      "\n",
      "དག: 49\n",
      "\n",
      "ནམ་མཁའ: 48\n",
      "\n",
      "བྱ: 48\n",
      "\n",
      "དཀྱིལ་འཁོར: 48\n",
      "\n",
      "གནས་པ: 46\n",
      "\n",
      "རྟོག: 45\n",
      "\n",
      "ཚིག: 44\n",
      "\n",
      "བདག: 43\n",
      "\n",
      "འཁྲུལ: 43\n",
      "\n",
      "བཟང་པོ: 42\n",
      "\n",
      "ཕྱག: 42\n",
      "\n",
      "རྒྱལ་བ: 42\n",
      "\n",
      "ཆེན: 41\n",
      "\n",
      "སྐྱེ: 41\n",
      "\n",
      "འཚལ: 40\n",
      "\n",
      "སྤྱོད་པ: 39\n",
      "\n",
      "ཞིང: 39\n",
      "\n",
      "ཐབས: 39\n",
      "\n",
      "རྒྱལ་པོ: 39\n",
      "\n",
      "འདས་པ: 38\n",
      "\n",
      "བསྟན་པ: 38\n",
      "\n",
      "སེམས་དཔའ: 37\n",
      "\n",
      "ལེའུ: 37\n",
      "\n",
      "རྫོགས་པ: 36\n",
      "\n",
      "ཡུལ: 36\n",
      "\n",
      "ཐུགས: 35\n",
      "\n",
      "གྱུར: 35\n",
      "\n",
      "ཆེ: 35\n",
      "\n",
      "ངང: 35\n",
      "\n",
      "རྣལ་འབྱོར: 35\n",
      "\n",
      "ཕྱག་རྒྱ: 35\n",
      "\n",
      "པས: 33\n",
      "\n",
      "མིན: 33\n",
      "\n",
      "བསྒོམ: 33\n",
      "\n",
      "ཤིང: 32\n",
      "\n",
      "དེ་བཞིན་ཉིད: 32\n",
      "\n",
      "རང: 32\n",
      "\n",
      "སྣ་ཚོགས: 32\n",
      "\n",
      "ལ་སོགས: 32\n",
      "\n",
      "ཡི་གེ: 32\n",
      "\n",
      "བརྗོད་པ: 31\n",
      "\n",
      "སྒྱུ་མ: 31\n",
      "\n",
      "མེད་པར: 30\n",
      "\n",
      "བྱ་བ: 30\n",
      "\n",
      "བརྗོད: 30\n",
      "\n",
      "ལྔ: 30\n",
      "\n",
      "འབྱུང: 30\n",
      "\n",
      "དེ་ཉིད: 30\n",
      "\n",
      "ཐིག་ལེ: 30\n",
      "\n",
      "ཚུལ: 29\n",
      "\n",
      "ཡང་དག: 29\n",
      "\n",
      "སྣང: 29\n",
      "\n",
      "མཉམ: 29\n",
      "\n",
      "བྱེད: 29\n",
      "\n",
      "Top 100 bigrams\n",
      "བོན་ཉིད: 150\n",
      "\n",
      "ལུང་བརྣན: 105\n",
      "\n",
      "བྱང་ཆུབ་སེམས: 103\n",
      "\n",
      "གཤེན་ལྷ་འོད: 65\n",
      "\n",
      "འོད་དཀར: 64\n",
      "\n",
      "རྣམ་པར་ཤེས་པ: 63\n",
      "\n",
      "བདེ་བ་ཆེན་པོ: 60\n",
      "\n",
      "མྱེད་པས: 57\n",
      "\n",
      "ལས་འདས་པ: 54\n",
      "\n",
      "རང་ཤེས་རིག: 53\n",
      "\n",
      "སེམས་རིག་པ: 48\n",
      "\n",
      "སྤྲོ་ཞིང: 47\n",
      "\n",
      "ཞིང་དྭང: 42\n",
      "\n",
      "དེ་ལྟ་བུ: 39\n",
      "\n",
      "རྟོགས་ཙམ: 38\n",
      "\n",
      "རྣམ་པ་གསུམ: 36\n",
      "\n",
      "ཀུན་གཞི་བྱང་ཆུབ: 36\n",
      "\n",
      "སྙམ་བྱེད: 34\n",
      "\n",
      "མི་དམིགས: 34\n",
      "\n",
      "བརྒྱུད་དེས: 34\n",
      "\n",
      "ཙམ་ཉིད: 32\n",
      "\n",
      "ཁྱབ་བདལ: 32\n",
      "\n",
      "སེམས་ཅན་ཐམས་ཅད: 31\n",
      "\n",
      "ཡེ་ཤེས་ཆེན་པོ: 30\n",
      "\n",
      "མཚན་མ་མྱེད: 30\n",
      "\n",
      "རང་འབྱུང: 30\n",
      "\n",
      "ཉིད་བདེ་བ: 29\n",
      "\n",
      "མཚན་མ་ཐམས་ཅད: 29\n",
      "\n",
      "ལས་འདས: 28\n",
      "\n",
      "འགྱུར་རོ: 28\n",
      "\n",
      "ངང་ཉིད: 28\n",
      "\n",
      "མི་དམིགས་པ: 27\n",
      "\n",
      "མི་འགྱུར: 27\n",
      "\n",
      "མི་ཁྱབ་པ: 26\n",
      "\n",
      "རྣམ་པར་དག་པ: 26\n",
      "\n",
      "རིག་པ་ཐབས: 25\n",
      "\n",
      "བདག་སྒོམ་པ: 25\n",
      "\n",
      "རྒྱལ་པོ་བྱང་ཆུབ: 24\n",
      "\n",
      "ཐིག་ལེ་གཅིག: 24\n",
      "\n",
      "བོན་ཐམས་ཅད: 23\n",
      "\n",
      "སླུ་བ་ཡིན: 23\n",
      "\n",
      "མི་དམྱིགས: 23\n",
      "\n",
      "མཚོན་པ་མྱ་ངན: 23\n",
      "\n",
      "འཆི་མེད་གཙུག་ཕུད: 22\n",
      "\n",
      "ཉམས་སོད: 22\n",
      "\n",
      "སེམས་རང: 22\n",
      "\n",
      "རེ་སྤྲོ: 22\n",
      "\n",
      "གཉིས་མེད: 21\n",
      "\n",
      "སྣང་བ་ཐམས་ཅད: 21\n",
      "\n",
      "དཔེར་ན་ནམ་མཁའ: 21\n",
      "\n",
      "མྱ་ངན་ལས: 21\n",
      "\n",
      "གཤེན་ཕྲན: 21\n",
      "\n",
      "སྤྲོ་བ་སྐྱེ་བ: 20\n",
      "\n",
      "ལས་སོགས: 20\n",
      "\n",
      "ལས་བྱུང་བ: 20\n",
      "\n",
      "བཅུ་རྩ: 20\n",
      "\n",
      "སྣང་སྲིད་ཐམས་ཅད: 19\n",
      "\n",
      "སྤྱན་དྲངས: 19\n",
      "\n",
      "འཕྲག་དོག: 19\n",
      "\n",
      "ཐུགས་རྗེ་ཆེན་པོ: 19\n",
      "\n",
      "རྒྱལ་པོ་ཀུན་གཞི: 19\n",
      "\n",
      "ཡེ་གཤེན་གཙུག་ཕུད: 18\n",
      "\n",
      "རང་བཞིན་མེད་པ: 18\n",
      "\n",
      "སྣང་ཞིང: 18\n",
      "\n",
      "འཁོར་གཤེན: 18\n",
      "\n",
      "རྒྱུན་ཐག: 18\n",
      "\n",
      "མི་འབྱུང: 17\n",
      "\n",
      "སླུ་བ་པོ: 17\n",
      "\n",
      "མི་བསྒོམ: 17\n",
      "\n",
      "གཤེན་ལྷ་དཀར་པོ: 17\n",
      "\n",
      "སེམས་སྤྲོ་བ: 17\n",
      "\n",
      "སྐྱེ་བ་མྱེད: 17\n",
      "\n",
      "བཞི་བཅུ: 17\n",
      "\n",
      "ཡིད་ཆེས་པས: 17\n",
      "\n",
      "སྤྲུལ་ལོ: 17\n",
      "\n",
      "བཟང་པོ་གཤེན་ལྷ: 16\n",
      "\n",
      "དུས་ཅིག: 16\n",
      "\n",
      "ཐམས་ཅད་སེམས: 16\n",
      "\n",
      "སེམས་བདེ་བ: 16\n",
      "\n",
      "མཚན་མ་རྡུལ: 16\n",
      "\n",
      "རྣམ་པར་རྟོག་པ: 16\n",
      "\n",
      "གསལ་ལ་མ: 16\n",
      "\n",
      "ཡེ་ཤེས་ལྔ: 16\n",
      "\n",
      "འདུ་འབྲལ: 16\n",
      "\n",
      "དུག་ལྔ: 16\n",
      "\n",
      "སྟོན་པ་གཤེན་ལྷ: 15\n",
      "\n",
      "དབྱིངས་ཡིན: 15\n",
      "\n",
      "ཕྱག་འཚལ: 15\n",
      "\n",
      "ཏན་ཏྲ: 15\n",
      "\n",
      "དེ་ལྟར་རྟོགས: 15\n",
      "\n",
      "ནམ་མཁའ་ལྟར: 15\n",
      "\n",
      "ཐིག་ལེ་ཆེན་པོ: 15\n",
      "\n",
      "སྤྲུལ་པ་ལས: 15\n",
      "\n",
      "ཁམས་གསུམ: 15\n",
      "\n",
      "ཐམས་ཅད་བོན: 15\n",
      "\n",
      "རྩ་ལྔ: 15\n",
      "\n",
      "རིགས་ཅན་ཡིན་པ: 15\n",
      "\n",
      "ཕྲན་སླད: 15\n",
      "\n",
      "རྣམ་པ་གསུམ་པོ: 15\n",
      "\n",
      "ཐམས་ཅད་མཁྱེན་པ: 14\n",
      "\n",
      "Top 100 bigrams\n",
      "བཅོམ་ལྡན་འདས་དཔལ: 45\n",
      "\n",
      "མི་གནས: 41\n",
      "\n",
      "གཉིས་མེད: 40\n",
      "\n",
      "དེ་ནས་བཅོམ་ལྡན་འདས: 39\n",
      "\n",
      "བྱང་ཆུབ་སེམས: 39\n",
      "\n",
      "དཔལ་ཀུན: 37\n",
      "\n",
      "རྒྱུད་ལས: 30\n",
      "\n",
      "ཕྱག་འཚལ: 29\n",
      "\n",
      "རྡོ་རྗེ་སེམས་དཔའ: 28\n",
      "\n",
      "ལས་འདས: 26\n",
      "\n",
      "མི་རྟོག: 26\n",
      "\n",
      "ལས་འདས་པ: 22\n",
      "\n",
      "མི་དགོས: 21\n",
      "\n",
      "མི་འགྱུར: 20\n",
      "\n",
      "ལྷུན་རྫོགས: 19\n",
      "\n",
      "དབྱེར་མེད: 18\n",
      "\n",
      "བྱང་ཆུབ་སྙིང་པོ: 17\n",
      "\n",
      "མི་དམིགས: 16\n",
      "\n",
      "ཡི་གེ་མེད་པ: 16\n",
      "\n",
      "རྣམ་པར་དག: 15\n",
      "\n",
      "སྐྱེ་མེད: 15\n",
      "\n",
      "མི་རྙེད: 15\n",
      "\n",
      "རྣམ་པར་དག་པ: 13\n",
      "\n",
      "བཀའ་སྩལ: 13\n",
      "\n",
      "རྩལ་ཆེན: 13\n",
      "\n",
      "དབྱིངས་ལས: 13\n",
      "\n",
      "མི་བྱེད: 13\n",
      "\n",
      "དེ་བཞིན་གཤེགས་པ: 12\n",
      "\n",
      "བདེ་བ་ཆེན་པོ: 12\n",
      "\n",
      "ཁམས་གསུམ: 12\n",
      "\n",
      "ཡེ་ནས་དག་པ: 12\n",
      "\n",
      "མཐའ་ལས: 12\n",
      "\n",
      "རྡོ་རྗེ་ཐེག་པ: 11\n",
      "\n",
      "སེམས་ཁྱུང་ཆེན: 11\n",
      "\n",
      "ཕྲ་བཀོད་པ: 11\n",
      "\n",
      "འཚལ་ལོ: 10\n",
      "\n",
      "ངོ་བོ་ཉིད: 10\n",
      "\n",
      "མི་སྐྱེ: 10\n",
      "\n",
      "དཔལ་རྡོ་རྗེ: 10\n",
      "\n",
      "མྱ་ངན་འདས: 10\n",
      "\n",
      "ཡེ་སངས་རྒྱས: 10\n",
      "\n",
      "སེམས་རྩལ: 10\n",
      "\n",
      "བཟང་པོ་ཉིད: 10\n",
      "\n",
      "གནས་མེད: 10\n",
      "\n",
      "ཕྱི་ནང: 10\n",
      "\n",
      "མེད་ཕྱིར: 10\n",
      "\n",
      "མི་བལྟ: 9\n",
      "\n",
      "རང་བཞིན་གནས་པ: 9\n",
      "\n",
      "སངས་རྒྱས་ཀུན: 9\n",
      "\n",
      "དབྱིངས་ཉིད: 9\n",
      "\n",
      "ཆོས་ཐམས་ཅད: 8\n",
      "\n",
      "ཡེ་ཤེས་དབྱིངས: 8\n",
      "\n",
      "མི་གཡོ: 8\n",
      "\n",
      "ཐམས་ཅད་ཀུན: 8\n",
      "\n",
      "མེད་མི: 8\n",
      "\n",
      "བརྗོད་མེད: 8\n",
      "\n",
      "ལམ་ཆེན: 8\n",
      "\n",
      "རྡོ་རྗེ་འཛིན་པ: 8\n",
      "\n",
      "ཡེ་ཤེས་སྙིང་པོ: 7\n",
      "\n",
      "མྱ་ངན་འདས་པ: 7\n",
      "\n",
      "མི་བྱ: 7\n",
      "\n",
      "སྙིང་པོ་བྱང་ཆུབ: 7\n",
      "\n",
      "རྒྱལ་བ་ཀུན: 7\n",
      "\n",
      "སངས་རྒྱས་སེམས་ཅན: 7\n",
      "\n",
      "འདུ་འབྲལ: 7\n",
      "\n",
      "རང་བྱུང་ཡེ་ཤེས: 7\n",
      "\n",
      "དོན་མི: 7\n",
      "\n",
      "བྱང་ཆུབ་ཆེན་པོ: 7\n",
      "\n",
      "ཀུན་ལས: 7\n",
      "\n",
      "རྡུལ་ཙམ: 7\n",
      "\n",
      "མེད་ཡེ: 7\n",
      "\n",
      "རྒྱ་གར་སྐད: 6\n",
      "\n",
      "བཅོམ་ལྡན་འདས་ཆེན་པོ: 6\n",
      "\n",
      "ཐེག་པ་ཆེན་པོ: 6\n",
      "\n",
      "འཁོར་བ་མྱ་ངན: 6\n",
      "\n",
      "མི་སྲིད: 6\n",
      "\n",
      "བཅོམ་ལྡན་འདས་ཀུན: 6\n",
      "\n",
      "ཀུན་འདུས: 6\n",
      "\n",
      "བྱང་ཆུབ་ལམ: 6\n",
      "\n",
      "རོ་གཅིག: 6\n",
      "\n",
      "བཀྲ་ཤིས་པ་རིག་པ: 6\n",
      "\n",
      "ཡིན་རྡོ་རྗེ: 6\n",
      "\n",
      "སྙིང་པོ་ཉིད: 6\n",
      "\n",
      "འབྱུང་འཇུག: 6\n",
      "\n",
      "མེད་ནམ་མཁའ: 6\n",
      "\n",
      "སངས་རྒྱས་ཉིད: 6\n",
      "\n",
      "ཕ་རོལ་ཕྱིན: 6\n",
      "\n",
      "བཟང་པོས་ཉིད: 6\n",
      "\n",
      "མེད་ཆོས: 6\n",
      "\n",
      "མེད་སངས་རྒྱས: 6\n",
      "\n",
      "ཇི་བཞིན་གནས: 6\n",
      "\n",
      "གནས་མི: 6\n",
      "\n",
      "ཚིག་ལས: 6\n",
      "\n",
      "མི་འབྱུང: 6\n",
      "\n",
      "མི་ཤེས: 6\n",
      "\n",
      "ཙམ་མེད: 6\n",
      "\n",
      "རྣམ་དག་བྱང་ཆུབ: 6\n",
      "\n",
      "བྲལ་ཚིག: 6\n",
      "\n",
      "མི་ཟད་རྒྱན: 6\n",
      "\n",
      "གཞིར་གྱུར་པ: 5\n",
      "\n"
     ]
    }
   ],
   "source": [
    "print(\"Top 100 words\")\n",
    "for k, v in bon_words_f.most_common(100):\n",
    "    print(\"{}: {}\\n\".format(k, v))\n",
    "\n",
    "print(\"Top 100 words\")\n",
    "for k, v in nyingma_words_f.most_common(100):\n",
    "    print(\"{}: {}\\n\".format(k, v))\n",
    "\n",
    "print(\"Top 100 bigrams\")\n",
    "for k, v in bon_bigrams_f.most_common(100):\n",
    "    print(\"{}: {}\\n\".format(k, v))\n",
    "\n",
    "print(\"Top 100 bigrams\")\n",
    "for k, v in nyingma_bigrams_f.most_common(100):\n",
    "    print(\"{}: {}\\n\".format(k, v))"
   ]
  },
  {
   "cell_type": "code",
   "execution_count": null,
   "metadata": {},
   "outputs": [],
   "source": []
  }
 ],
 "metadata": {
  "kernelspec": {
   "display_name": "Python 3",
   "language": "python",
   "name": "python3"
  },
  "language_info": {
   "codemirror_mode": {
    "name": "ipython",
    "version": 3
   },
   "file_extension": ".py",
   "mimetype": "text/x-python",
   "name": "python",
   "nbconvert_exporter": "python",
   "pygments_lexer": "ipython3",
   "version": "3.6.5"
  }
 },
 "nbformat": 4,
 "nbformat_minor": 2
}
