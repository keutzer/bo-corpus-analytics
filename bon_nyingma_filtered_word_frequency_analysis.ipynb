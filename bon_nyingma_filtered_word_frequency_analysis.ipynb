{
 "cells": [
  {
   "cell_type": "code",
   "execution_count": 1,
   "metadata": {},
   "outputs": [],
   "source": [
    "from collections import Counter\n",
    "from gensim.corpora import Dictionary\n",
    "from nltk import ngrams\n",
    "from scipy import stats\n",
    "\n",
    "import itertools\n",
    "import numpy as np\n",
    "import os\n",
    "import pybo\n",
    "\n",
    "import matplotlib.pyplot as plt\n",
    "%matplotlib inline"
   ]
  },
  {
   "cell_type": "markdown",
   "metadata": {},
   "source": [
    "Store texts in the following directory structure:\n",
    "\n",
    "    texts\n",
    "      Bon\n",
    "        file1.txt\n",
    "        file2.txt\n",
    "        ...\n",
    "      Nyingma\n",
    "        file1.txt\n",
    "        file2.txt\n",
    "        ..."
   ]
  },
  {
   "cell_type": "code",
   "execution_count": 2,
   "metadata": {
    "scrolled": true
   },
   "outputs": [
    {
     "name": "stdout",
     "output_type": "stream",
     "text": [
      "Loading Trie...\n",
      "Time: 9.759907722473145\n"
     ]
    }
   ],
   "source": [
    "tok = pybo.BoTokenizer('POS')"
   ]
  },
  {
   "cell_type": "markdown",
   "metadata": {},
   "source": [
    "Assumptions here:\n",
    "1. Drop all non-bo text\n",
    "2. Drop all phrase delimiters (shad)\n",
    "3. Reduce words to lemmas\n",
    "4. Strip beginning and ending tseks from lemmas"
   ]
  },
  {
   "cell_type": "code",
   "execution_count": 3,
   "metadata": {},
   "outputs": [],
   "source": [
    "tsek = '་'\n",
    "\n",
    "# Create dictionary to map document index back to filename\n",
    "bon_idx2fname = {}\n",
    "bon_texts = []\n",
    "for filename in sorted(os.listdir(\"texts/Bon\")):\n",
    "    if \".txt\" in filename:\n",
    "        with open(\"texts/Bon/\" + filename, 'r', encoding='utf-8-sig') as f:\n",
    "            bon_idx2fname[len(bon_texts)] = filename\n",
    "            tokens = [t for t in tok.tokenize(f.read()) if t.type != \"non-bo\" and t.pos != \"punct\"]\n",
    "            lemmas = [t.lemma.strip(tsek) if t.lemma else t.content.strip(tsek) for t in tokens]\n",
    "            bon_texts.append(lemmas)\n",
    "            \n",
    "# Now process nyingma\n",
    "nyingma_idx2fname = {}\n",
    "nyingma_texts = []\n",
    "for filename in sorted(os.listdir(\"texts/Nyingma\")):\n",
    "    if \".txt\" in filename:\n",
    "        with open(\"texts/Nyingma/\" + filename, 'r', encoding='utf-8-sig') as f:\n",
    "            nyingma_idx2fname[len(nyingma_texts)] = filename\n",
    "            tokens = [t for t in tok.tokenize(f.read()) if t.type != \"non-bo\" and t.pos != \"punct\"]\n",
    "            lemmas = [t.lemma.strip(tsek) if t.lemma else t.content.strip(tsek) for t in tokens]\n",
    "            nyingma_texts.append(lemmas)"
   ]
  },
  {
   "cell_type": "markdown",
   "metadata": {},
   "source": [
    "## Part 1a: Pairwise cosine similarity of term frequency vectors"
   ]
  },
  {
   "cell_type": "code",
   "execution_count": 4,
   "metadata": {},
   "outputs": [],
   "source": [
    "dct = Dictionary(bon_texts + nyingma_texts)"
   ]
  },
  {
   "cell_type": "code",
   "execution_count": 5,
   "metadata": {},
   "outputs": [],
   "source": [
    "bon_bows = []\n",
    "for t in bon_texts:\n",
    "    bon_bows.append(dct.doc2bow(t))\n",
    "    \n",
    "nyingma_bows = []\n",
    "for t in nyingma_texts:\n",
    "    nyingma_bows.append(dct.doc2bow(t))"
   ]
  },
  {
   "cell_type": "code",
   "execution_count": 6,
   "metadata": {},
   "outputs": [],
   "source": [
    "bon_tfs = []\n",
    "for t in bon_bows:\n",
    "    vec = np.zeros(len(dct))\n",
    "    for k, v in t:\n",
    "        vec[k] = v\n",
    "    bon_tfs.append(vec)\n",
    "    \n",
    "nyingma_tfs = []\n",
    "for t in nyingma_bows:\n",
    "    vec = np.zeros(len(dct))\n",
    "    for k, v in t:\n",
    "        vec[k] = v\n",
    "    nyingma_tfs.append(vec)"
   ]
  },
  {
   "cell_type": "code",
   "execution_count": 7,
   "metadata": {},
   "outputs": [
    {
     "name": "stdout",
     "output_type": "stream",
     "text": [
      "Bon self similarity\n"
     ]
    },
    {
     "data": {
      "image/png": "[encoded data removed]",
      "text/plain": [
       "<matplotlib.figure.Figure at 0x1146ab2e8>"
      ]
     },
     "metadata": {},
     "output_type": "display_data"
    },
    {
     "name": "stdout",
     "output_type": "stream",
     "text": [
      "Nyingma self similarity\n"
     ]
    },
    {
     "data": {
      "image/png": "[encoded data removed]",
      "text/plain": [
       "<matplotlib.figure.Figure at 0x1264fea90>"
      ]
     },
     "metadata": {},
     "output_type": "display_data"
    },
    {
     "name": "stdout",
     "output_type": "stream",
     "text": [
      "Cross similarity\n"
     ]
    },
    {
     "data": {
      "image/png": "[encoded data removed]",
      "text/plain": [
       "<matplotlib.figure.Figure at 0x113927cc0>"
      ]
     },
     "metadata": {},
     "output_type": "display_data"
    }
   ],
   "source": [
    "print(\"Bon self similarity\")\n",
    "cos_sims = np.zeros((len(bon_tfs), len(bon_tfs)))\n",
    "\n",
    "for i in range(len(bon_tfs)):\n",
    "    for j in range(len(bon_tfs)):\n",
    "        u = bon_tfs[i]\n",
    "        v = bon_tfs[j]\n",
    "        cos_sims[i,j] = (u / np.linalg.norm(u)).dot(v / np.linalg.norm(v))\n",
    "\n",
    "plt.imshow(cos_sims, cmap='hot', interpolation='nearest')\n",
    "plt.xlabel('Bon Texts')\n",
    "plt.ylabel('Bon Texts')\n",
    "plt.show()\n",
    "\n",
    "\n",
    "print(\"Nyingma self similarity\")\n",
    "cos_sims = np.zeros((len(nyingma_tfs), len(nyingma_tfs)))\n",
    "\n",
    "for i in range(len(nyingma_tfs)):\n",
    "    for j in range(len(nyingma_tfs)):\n",
    "        u = nyingma_tfs[i]\n",
    "        v = nyingma_tfs[j]\n",
    "        cos_sims[i,j] = (u / np.linalg.norm(u)).dot(v / np.linalg.norm(v))\n",
    "\n",
    "plt.imshow(cos_sims, cmap='hot', interpolation='nearest')\n",
    "plt.xlabel('Nyingma Texts')\n",
    "plt.ylabel('Nyingma Texts')\n",
    "plt.show()\n",
    "\n",
    "print(\"Cross similarity\")\n",
    "cos_sims = np.zeros((len(bon_tfs), len(nyingma_tfs)))\n",
    "\n",
    "for i in range(len(bon_tfs)):\n",
    "    for j in range(len(nyingma_tfs)):\n",
    "        u = bon_tfs[i]\n",
    "        v = nyingma_tfs[j]\n",
    "        cos_sims[i,j] = (u / np.linalg.norm(u)).dot(v / np.linalg.norm(v))\n",
    "\n",
    "plt.imshow(cos_sims, cmap='hot', interpolation='nearest')\n",
    "plt.xlabel('Nyingma Texts')\n",
    "plt.ylabel('Bon Texts')\n",
    "plt.show()"
   ]
  },
  {
   "cell_type": "markdown",
   "metadata": {},
   "source": [
    "Legend:"
   ]
  },
  {
   "cell_type": "code",
   "execution_count": 8,
   "metadata": {},
   "outputs": [
    {
     "data": {
      "text/plain": [
       "{0: '01-SMDG-gser-lung-non-che.txt',\n",
       " 1: '02-SMDG-gser-lung-non-chung.txt',\n",
       " 2: '03-SMDG-sems-phran-rig-pa-khu-byug-sa-gcod.txt',\n",
       " 3: '04-SMDG-rig-pa-khu-byug-gzhung.txt',\n",
       " 4: '05-SMDG-rig-pa-khu-byug-grel.txt',\n",
       " 5: '06-SMDG-cog-bzhag-sa-gcod.txt',\n",
       " 6: '07-SMDG-cog-bzhag-gzhung.txt',\n",
       " 7: '08-SMDG-cog-bzhag-grel.txt',\n",
       " 8: '09-SMDG-rgyun-thag-sa-gcod-gzhung-grel.txt',\n",
       " 9: '10-SMDG-sems-lung-rgyun-thag.txt',\n",
       " 10: '11-SMDG-snang-dngos-med-mdzub-tshugs.txt',\n",
       " 11: '12-SMDG-sgron-ma-gsal-ba.txt',\n",
       " 12: \"13-ngang-thag-bskal-pa'i-sgron-ma_TTN-175-195.txt\",\n",
       " 13: '14-SMDG-thig-le-dbyings-kyi-ti-ka.txt'}"
      ]
     },
     "execution_count": 8,
     "metadata": {},
     "output_type": "execute_result"
    }
   ],
   "source": [
    "bon_idx2fname"
   ]
  },
  {
   "cell_type": "code",
   "execution_count": 9,
   "metadata": {},
   "outputs": [
    {
     "data": {
      "text/plain": [
       "{0: \"L1-rig-pa'i-khu-byug_p302-324.txt\",\n",
       " 1: 'L2-rtsal-chen_p436-447་.txt',\n",
       " 2: 'L3-khyung-chen_p447-468.txt',\n",
       " 3: 'L4_byang-sems-bsgom-rdo-la-gser-zhun-p416-425.txt',\n",
       " 4: \"L5_nam-mkha'-che-rgyas-pa-yi-ge-med-pa_V8-p.468-473.txt\",\n",
       " 5: 'LL01_L14_rtse-mo-byung-rgyal_vol8-p480-491.txt',\n",
       " 6: \"LL02_་nam-mkha'-rgyal-po_vol8-v475-480.txt\",\n",
       " 7: 'LL03_L16_bde-ba-phra-bkod_V8-p.495-498.txt',\n",
       " 8: 'LL04_byang-chub-sems-tig.txt',\n",
       " 9: 'LL05_spyi-bcings-spyi-chings_Liljenberg-p268ff.txt',\n",
       " 10: \"LL06_L15_bde-ba-rab-'byams_vol8-p.473-475-not-sure.txt\",\n",
       " 11: \"LL07_L10_srog-gi-'khor-lo_v8.p491-494.txt\",\n",
       " 12: 'LL08_thig-le-drug-pa-NGB-vol33.txt',\n",
       " 13: 'LL09_spyi-gcod_vol8_p.498.txt',\n",
       " 14: 'LL10_yid-bzhin-nor-bu-431.txt',\n",
       " 15: \"LL11_kun-'dus-NGB-mtshams-brag-vol1-624-626་.txt\",\n",
       " 16: 'LL12_rje-btsan-dam-pa_NGB-vol34-p63-64.txt',\n",
       " 17: 'LL13-sgom-pa-don-grubdocx.txt'}"
      ]
     },
     "execution_count": 9,
     "metadata": {},
     "output_type": "execute_result"
    }
   ],
   "source": [
    "nyingma_idx2fname"
   ]
  },
  {
   "cell_type": "markdown",
   "metadata": {},
   "source": [
    "## Part 1b: Pairwise cosine similarity of term frequency vectors (filtered)"
   ]
  },
  {
   "cell_type": "code",
   "execution_count": 10,
   "metadata": {},
   "outputs": [],
   "source": [
    "filter_list = ['གི','ལ','གིས','དང','ནི','ནས','པ','གོ','ཀྱང','དུ','ཀྱིས','དེ','ཏེ','མ','སྟེ','སུ','ཀྱི','གྱིས','ན','ཅེས','འདི','གྱི','ཅི','བ','པར','ཡིས','ཅིང','མོ','ཅེས་པ','རྣམས','ཏུ']\n",
    "\n",
    "bon_texts_f = []\n",
    "for t in bon_texts:\n",
    "    t_f = [x for x in t if x not in filter_list]\n",
    "    bon_texts_f.append(t_f)\n",
    "\n",
    "nyingma_texts_f = []\n",
    "for t in nyingma_texts:\n",
    "    t_f = [x for x in t if x not in filter_list]\n",
    "    nyingma_texts_f.append(t_f)"
   ]
  },
  {
   "cell_type": "code",
   "execution_count": 11,
   "metadata": {},
   "outputs": [],
   "source": [
    "dct_f = Dictionary(bon_texts_f + nyingma_texts_f)"
   ]
  },
  {
   "cell_type": "code",
   "execution_count": 12,
   "metadata": {},
   "outputs": [],
   "source": [
    "bon_bows_f = []\n",
    "for t in bon_texts_f:\n",
    "    bon_bows_f.append(dct_f.doc2bow(t))\n",
    "    \n",
    "nyingma_bows_f = []\n",
    "for t in nyingma_texts_f:\n",
    "    nyingma_bows_f.append(dct_f.doc2bow(t))"
   ]
  },
  {
   "cell_type": "code",
   "execution_count": 13,
   "metadata": {},
   "outputs": [],
   "source": [
    "bon_tfs_f = []\n",
    "for t in bon_bows_f:\n",
    "    vec = np.zeros(len(dct))\n",
    "    for k, v in t:\n",
    "        vec[k] = v\n",
    "    bon_tfs_f.append(vec)\n",
    "    \n",
    "nyingma_tfs_f = []\n",
    "for t in nyingma_bows_f:\n",
    "    vec = np.zeros(len(dct))\n",
    "    for k, v in t:\n",
    "        vec[k] = v\n",
    "    nyingma_tfs_f.append(vec)"
   ]
  },
  {
   "cell_type": "code",
   "execution_count": 14,
   "metadata": {},
   "outputs": [
    {
     "name": "stdout",
     "output_type": "stream",
     "text": [
      "Bon self similarity\n"
     ]
    },
    {
     "data": {
      "image/png": "[encoded data removed]",
      "text/plain": [
       "<matplotlib.figure.Figure at 0x10f59b4e0>"
      ]
     },
     "metadata": {},
     "output_type": "display_data"
    },
    {
     "name": "stdout",
     "output_type": "stream",
     "text": [
      "Nyingma similarity\n"
     ]
    },
    {
     "data": {
      "image/png": "[encoded data removed]",
      "text/plain": [
       "<matplotlib.figure.Figure at 0x10f59b400>"
      ]
     },
     "metadata": {},
     "output_type": "display_data"
    },
    {
     "name": "stdout",
     "output_type": "stream",
     "text": [
      "Cross similarity\n"
     ]
    },
    {
     "data": {
      "image/png": "[encoded data removed]",
      "text/plain": [
       "<matplotlib.figure.Figure at 0x11ac21f60>"
      ]
     },
     "metadata": {},
     "output_type": "display_data"
    }
   ],
   "source": [
    "print(\"Bon self similarity\")\n",
    "cos_sims_f = np.zeros((len(bon_tfs_f), len(bon_tfs_f)))\n",
    "\n",
    "for i in range(len(bon_tfs_f)):\n",
    "    for j in range(len(bon_tfs_f)):\n",
    "        u = bon_tfs_f[i]\n",
    "        v = bon_tfs_f[j]\n",
    "        cos_sims_f[i,j] = (u / np.linalg.norm(u)).dot(v / np.linalg.norm(v))\n",
    "        \n",
    "plt.imshow(cos_sims_f, cmap='hot', interpolation='nearest')\n",
    "plt.xlabel('Bon Texts')\n",
    "plt.ylabel('Bon Texts')\n",
    "plt.show()\n",
    "\n",
    "print(\"Nyingma similarity\")\n",
    "cos_sims_f = np.zeros((len(nyingma_tfs_f), len(nyingma_tfs_f)))\n",
    "\n",
    "for i in range(len(nyingma_tfs_f)):\n",
    "    for j in range(len(nyingma_tfs_f)):\n",
    "        u = nyingma_tfs_f[i]\n",
    "        v = nyingma_tfs_f[j]\n",
    "        cos_sims_f[i,j] = (u / np.linalg.norm(u)).dot(v / np.linalg.norm(v))\n",
    "        \n",
    "plt.imshow(cos_sims_f, cmap='hot', interpolation='nearest')\n",
    "plt.xlabel('Nyingma Texts')\n",
    "plt.ylabel('Nyingma Texts')\n",
    "plt.show()\n",
    "\n",
    "print(\"Cross similarity\")\n",
    "cos_sims_f = np.zeros((len(bon_tfs_f), len(nyingma_tfs_f)))\n",
    "\n",
    "for i in range(len(bon_tfs_f)):\n",
    "    for j in range(len(nyingma_tfs_f)):\n",
    "        u = bon_tfs_f[i]\n",
    "        v = nyingma_tfs_f[j]\n",
    "        cos_sims_f[i,j] = (u / np.linalg.norm(u)).dot(v / np.linalg.norm(v))\n",
    "        \n",
    "plt.imshow(cos_sims_f, cmap='hot', interpolation='nearest')\n",
    "plt.xlabel('Nyingma Texts')\n",
    "plt.ylabel('Bon Texts')\n",
    "plt.show()"
   ]
  },
  {
   "cell_type": "markdown",
   "metadata": {},
   "source": [
    "Legend:"
   ]
  },
  {
   "cell_type": "code",
   "execution_count": 15,
   "metadata": {},
   "outputs": [
    {
     "data": {
      "text/plain": [
       "{0: '01-SMDG-gser-lung-non-che.txt',\n",
       " 1: '02-SMDG-gser-lung-non-chung.txt',\n",
       " 2: '03-SMDG-sems-phran-rig-pa-khu-byug-sa-gcod.txt',\n",
       " 3: '04-SMDG-rig-pa-khu-byug-gzhung.txt',\n",
       " 4: '05-SMDG-rig-pa-khu-byug-grel.txt',\n",
       " 5: '06-SMDG-cog-bzhag-sa-gcod.txt',\n",
       " 6: '07-SMDG-cog-bzhag-gzhung.txt',\n",
       " 7: '08-SMDG-cog-bzhag-grel.txt',\n",
       " 8: '09-SMDG-rgyun-thag-sa-gcod-gzhung-grel.txt',\n",
       " 9: '10-SMDG-sems-lung-rgyun-thag.txt',\n",
       " 10: '11-SMDG-snang-dngos-med-mdzub-tshugs.txt',\n",
       " 11: '12-SMDG-sgron-ma-gsal-ba.txt',\n",
       " 12: \"13-ngang-thag-bskal-pa'i-sgron-ma_TTN-175-195.txt\",\n",
       " 13: '14-SMDG-thig-le-dbyings-kyi-ti-ka.txt'}"
      ]
     },
     "execution_count": 15,
     "metadata": {},
     "output_type": "execute_result"
    }
   ],
   "source": [
    "bon_idx2fname"
   ]
  },
  {
   "cell_type": "code",
   "execution_count": 16,
   "metadata": {},
   "outputs": [
    {
     "data": {
      "text/plain": [
       "{0: \"L1-rig-pa'i-khu-byug_p302-324.txt\",\n",
       " 1: 'L2-rtsal-chen_p436-447་.txt',\n",
       " 2: 'L3-khyung-chen_p447-468.txt',\n",
       " 3: 'L4_byang-sems-bsgom-rdo-la-gser-zhun-p416-425.txt',\n",
       " 4: \"L5_nam-mkha'-che-rgyas-pa-yi-ge-med-pa_V8-p.468-473.txt\",\n",
       " 5: 'LL01_L14_rtse-mo-byung-rgyal_vol8-p480-491.txt',\n",
       " 6: \"LL02_་nam-mkha'-rgyal-po_vol8-v475-480.txt\",\n",
       " 7: 'LL03_L16_bde-ba-phra-bkod_V8-p.495-498.txt',\n",
       " 8: 'LL04_byang-chub-sems-tig.txt',\n",
       " 9: 'LL05_spyi-bcings-spyi-chings_Liljenberg-p268ff.txt',\n",
       " 10: \"LL06_L15_bde-ba-rab-'byams_vol8-p.473-475-not-sure.txt\",\n",
       " 11: \"LL07_L10_srog-gi-'khor-lo_v8.p491-494.txt\",\n",
       " 12: 'LL08_thig-le-drug-pa-NGB-vol33.txt',\n",
       " 13: 'LL09_spyi-gcod_vol8_p.498.txt',\n",
       " 14: 'LL10_yid-bzhin-nor-bu-431.txt',\n",
       " 15: \"LL11_kun-'dus-NGB-mtshams-brag-vol1-624-626་.txt\",\n",
       " 16: 'LL12_rje-btsan-dam-pa_NGB-vol34-p63-64.txt',\n",
       " 17: 'LL13-sgom-pa-don-grubdocx.txt'}"
      ]
     },
     "execution_count": 16,
     "metadata": {},
     "output_type": "execute_result"
    }
   ],
   "source": [
    "nyingma_idx2fname"
   ]
  },
  {
   "cell_type": "markdown",
   "metadata": {},
   "source": [
    "## Part 2a: Pairwise cosine similarity of 2-gram frequency vectors"
   ]
  },
  {
   "cell_type": "code",
   "execution_count": 17,
   "metadata": {},
   "outputs": [],
   "source": [
    "bon_bigrams = []\n",
    "for t in bon_texts:\n",
    "    grams = [tsek.join(x) for x in ngrams(t, 2)]\n",
    "    bon_bigrams.append(grams)\n",
    "    \n",
    "nyingma_bigrams = []\n",
    "for t in nyingma_texts:\n",
    "    grams = [tsek.join(x) for x in ngrams(t, 2)]\n",
    "    nyingma_bigrams.append(grams)"
   ]
  },
  {
   "cell_type": "code",
   "execution_count": 18,
   "metadata": {},
   "outputs": [],
   "source": [
    "dct_bigrams = Dictionary(bon_bigrams + nyingma_bigrams)"
   ]
  },
  {
   "cell_type": "code",
   "execution_count": 19,
   "metadata": {},
   "outputs": [],
   "source": [
    "bon_bows_bigrams = []\n",
    "for t in bon_bigrams:\n",
    "    bon_bows_bigrams.append(dct_bigrams.doc2bow(t))\n",
    "    \n",
    "nyingma_bows_bigrams = []\n",
    "for t in nyingma_bigrams:\n",
    "    nyingma_bows_bigrams.append(dct_bigrams.doc2bow(t))"
   ]
  },
  {
   "cell_type": "code",
   "execution_count": 20,
   "metadata": {},
   "outputs": [],
   "source": [
    "bon_tfs_bigrams = []\n",
    "for t in bon_bows_bigrams:\n",
    "    vec = np.zeros(len(dct_bigrams))\n",
    "    for k, v in t:\n",
    "        vec[k] = v\n",
    "    bon_tfs_bigrams.append(vec)\n",
    "    \n",
    "nyingma_tfs_bigrams = []\n",
    "for t in nyingma_bows_bigrams:\n",
    "    vec = np.zeros(len(dct_bigrams))\n",
    "    for k, v in t:\n",
    "        vec[k] = v\n",
    "    nyingma_tfs_bigrams.append(vec)"
   ]
  },
  {
   "cell_type": "code",
   "execution_count": 21,
   "metadata": {},
   "outputs": [
    {
     "name": "stdout",
     "output_type": "stream",
     "text": [
      "Bon self similarity\n"
     ]
    },
    {
     "data": {
      "image/png": "[encoded data removed]",
      "text/plain": [
       "<matplotlib.figure.Figure at 0x10f39d080>"
      ]
     },
     "metadata": {},
     "output_type": "display_data"
    },
    {
     "name": "stdout",
     "output_type": "stream",
     "text": [
      "Nyingma self similarity\n"
     ]
    },
    {
     "data": {
      "image/png": "[encoded data removed]",
      "text/plain": [
       "<matplotlib.figure.Figure at 0x10e4ce048>"
      ]
     },
     "metadata": {},
     "output_type": "display_data"
    },
    {
     "name": "stdout",
     "output_type": "stream",
     "text": [
      "Cross similarity\n"
     ]
    },
    {
     "data": {
      "image/png": "[encoded data removed]",
      "text/plain": [
       "<matplotlib.figure.Figure at 0x115dedc18>"
      ]
     },
     "metadata": {},
     "output_type": "display_data"
    }
   ],
   "source": [
    "print(\"Bon self similarity\")\n",
    "cos_sims_bigrams = np.zeros((len(bon_tfs_bigrams), len(bon_tfs_bigrams)))\n",
    "\n",
    "for i in range(len(bon_tfs_bigrams)):\n",
    "    for j in range(len(bon_tfs_bigrams)):\n",
    "        u = bon_tfs_bigrams[i]\n",
    "        v = bon_tfs_bigrams[j]\n",
    "        cos_sims_bigrams[i,j] = (u / np.linalg.norm(u)).dot(v / np.linalg.norm(v))\n",
    "\n",
    "plt.imshow(cos_sims_bigrams, cmap='hot', interpolation='nearest')\n",
    "plt.xlabel('Bon Texts')\n",
    "plt.ylabel('Bon Texts')\n",
    "plt.show()\n",
    "\n",
    "print(\"Nyingma self similarity\")\n",
    "cos_sims_bigrams = np.zeros((len(nyingma_tfs_bigrams), len(nyingma_tfs_bigrams)))\n",
    "\n",
    "for i in range(len(nyingma_tfs_bigrams)):\n",
    "    for j in range(len(nyingma_tfs_bigrams)):\n",
    "        u = nyingma_tfs_bigrams[i]\n",
    "        v = nyingma_tfs_bigrams[j]\n",
    "        cos_sims_bigrams[i,j] = (u / np.linalg.norm(u)).dot(v / np.linalg.norm(v))\n",
    "\n",
    "plt.imshow(cos_sims_bigrams, cmap='hot', interpolation='nearest')\n",
    "plt.xlabel('Nyingma Texts')\n",
    "plt.ylabel('Nyingma Texts')\n",
    "plt.show()\n",
    "\n",
    "print(\"Cross similarity\")\n",
    "cos_sims_bigrams = np.zeros((len(bon_tfs_bigrams), len(nyingma_tfs_bigrams)))\n",
    "\n",
    "for i in range(len(bon_tfs_bigrams)):\n",
    "    for j in range(len(nyingma_tfs_bigrams)):\n",
    "        u = bon_tfs_bigrams[i]\n",
    "        v = nyingma_tfs_bigrams[j]\n",
    "        cos_sims_bigrams[i,j] = (u / np.linalg.norm(u)).dot(v / np.linalg.norm(v))\n",
    "\n",
    "plt.imshow(cos_sims_bigrams, cmap='hot', interpolation='nearest')\n",
    "plt.xlabel('Nyingma Texts')\n",
    "plt.ylabel('Bon Texts')\n",
    "plt.show()"
   ]
  },
  {
   "cell_type": "markdown",
   "metadata": {},
   "source": [
    "Legend:"
   ]
  },
  {
   "cell_type": "code",
   "execution_count": 22,
   "metadata": {},
   "outputs": [
    {
     "data": {
      "text/plain": [
       "{0: '01-SMDG-gser-lung-non-che.txt',\n",
       " 1: '02-SMDG-gser-lung-non-chung.txt',\n",
       " 2: '03-SMDG-sems-phran-rig-pa-khu-byug-sa-gcod.txt',\n",
       " 3: '04-SMDG-rig-pa-khu-byug-gzhung.txt',\n",
       " 4: '05-SMDG-rig-pa-khu-byug-grel.txt',\n",
       " 5: '06-SMDG-cog-bzhag-sa-gcod.txt',\n",
       " 6: '07-SMDG-cog-bzhag-gzhung.txt',\n",
       " 7: '08-SMDG-cog-bzhag-grel.txt',\n",
       " 8: '09-SMDG-rgyun-thag-sa-gcod-gzhung-grel.txt',\n",
       " 9: '10-SMDG-sems-lung-rgyun-thag.txt',\n",
       " 10: '11-SMDG-snang-dngos-med-mdzub-tshugs.txt',\n",
       " 11: '12-SMDG-sgron-ma-gsal-ba.txt',\n",
       " 12: \"13-ngang-thag-bskal-pa'i-sgron-ma_TTN-175-195.txt\",\n",
       " 13: '14-SMDG-thig-le-dbyings-kyi-ti-ka.txt'}"
      ]
     },
     "execution_count": 22,
     "metadata": {},
     "output_type": "execute_result"
    }
   ],
   "source": [
    "bon_idx2fname"
   ]
  },
  {
   "cell_type": "code",
   "execution_count": 23,
   "metadata": {},
   "outputs": [
    {
     "data": {
      "text/plain": [
       "{0: \"L1-rig-pa'i-khu-byug_p302-324.txt\",\n",
       " 1: 'L2-rtsal-chen_p436-447་.txt',\n",
       " 2: 'L3-khyung-chen_p447-468.txt',\n",
       " 3: 'L4_byang-sems-bsgom-rdo-la-gser-zhun-p416-425.txt',\n",
       " 4: \"L5_nam-mkha'-che-rgyas-pa-yi-ge-med-pa_V8-p.468-473.txt\",\n",
       " 5: 'LL01_L14_rtse-mo-byung-rgyal_vol8-p480-491.txt',\n",
       " 6: \"LL02_་nam-mkha'-rgyal-po_vol8-v475-480.txt\",\n",
       " 7: 'LL03_L16_bde-ba-phra-bkod_V8-p.495-498.txt',\n",
       " 8: 'LL04_byang-chub-sems-tig.txt',\n",
       " 9: 'LL05_spyi-bcings-spyi-chings_Liljenberg-p268ff.txt',\n",
       " 10: \"LL06_L15_bde-ba-rab-'byams_vol8-p.473-475-not-sure.txt\",\n",
       " 11: \"LL07_L10_srog-gi-'khor-lo_v8.p491-494.txt\",\n",
       " 12: 'LL08_thig-le-drug-pa-NGB-vol33.txt',\n",
       " 13: 'LL09_spyi-gcod_vol8_p.498.txt',\n",
       " 14: 'LL10_yid-bzhin-nor-bu-431.txt',\n",
       " 15: \"LL11_kun-'dus-NGB-mtshams-brag-vol1-624-626་.txt\",\n",
       " 16: 'LL12_rje-btsan-dam-pa_NGB-vol34-p63-64.txt',\n",
       " 17: 'LL13-sgom-pa-don-grubdocx.txt'}"
      ]
     },
     "execution_count": 23,
     "metadata": {},
     "output_type": "execute_result"
    }
   ],
   "source": [
    "nyingma_idx2fname"
   ]
  },
  {
   "cell_type": "markdown",
   "metadata": {},
   "source": [
    "## Part 2b: Pairwise cosine similarity of 2-gram frequency vectors (filtered)"
   ]
  },
  {
   "cell_type": "code",
   "execution_count": 24,
   "metadata": {},
   "outputs": [
    {
     "name": "stdout",
     "output_type": "stream",
     "text": [
      "Bon self similarity\n"
     ]
    },
    {
     "data": {
      "image/png": "[encoded data removed]",
      "text/plain": [
       "<matplotlib.figure.Figure at 0x1160cacc0>"
      ]
     },
     "metadata": {},
     "output_type": "display_data"
    },
    {
     "name": "stdout",
     "output_type": "stream",
     "text": [
      "Nyingma self similarity\n"
     ]
    },
    {
     "data": {
      "image/png": "[encoded data removed]",
      "text/plain": [
       "<matplotlib.figure.Figure at 0x1148a69b0>"
      ]
     },
     "metadata": {},
     "output_type": "display_data"
    },
    {
     "name": "stdout",
     "output_type": "stream",
     "text": [
      "Cross similarity\n"
     ]
    },
    {
     "data": {
      "image/png": "[encoded data removed]",
      "text/plain": [
       "<matplotlib.figure.Figure at 0x114834be0>"
      ]
     },
     "metadata": {},
     "output_type": "display_data"
    }
   ],
   "source": [
    "bon_bigrams_f = []\n",
    "for t in bon_texts:\n",
    "    grams = [tsek.join(x) for x in ngrams(t, 2) if not set(x).intersection(filter_list)]\n",
    "    bon_bigrams_f.append(grams)\n",
    "    \n",
    "nyingma_bigrams_f = []\n",
    "for t in nyingma_texts:\n",
    "    grams = [tsek.join(x) for x in ngrams(t, 2) if not set(x).intersection(filter_list)]\n",
    "    nyingma_bigrams_f.append(grams)\n",
    "    \n",
    "dct_bigrams_f = Dictionary(bon_bigrams_f + nyingma_bigrams_f)\n",
    "\n",
    "bon_bows_bigrams_f = []\n",
    "for t in bon_bigrams_f:\n",
    "    bon_bows_bigrams_f.append(dct_bigrams_f.doc2bow(t))\n",
    "    \n",
    "nyingma_bows_bigrams_f = []\n",
    "for t in nyingma_bigrams_f:\n",
    "    nyingma_bows_bigrams_f.append(dct_bigrams_f.doc2bow(t))\n",
    "    \n",
    "bon_tfs_bigrams_f = []\n",
    "for t in bon_bows_bigrams_f:\n",
    "    vec = np.zeros(len(dct_bigrams_f))\n",
    "    for k, v in t:\n",
    "        vec[k] = v\n",
    "    bon_tfs_bigrams_f.append(vec)\n",
    "    \n",
    "nyingma_tfs_bigrams_f = []\n",
    "for t in nyingma_bows_bigrams_f:\n",
    "    vec = np.zeros(len(dct_bigrams_f))\n",
    "    for k, v in t:\n",
    "        vec[k] = v\n",
    "    nyingma_tfs_bigrams_f.append(vec)\n",
    "\n",
    "print(\"Bon self similarity\")\n",
    "cos_sims_bigrams_f = np.zeros((len(bon_tfs_bigrams_f), len(bon_tfs_bigrams_f)))\n",
    "\n",
    "for i in range(len(bon_tfs_bigrams_f)):\n",
    "    for j in range(len(bon_tfs_bigrams_f)):\n",
    "        u = bon_tfs_bigrams_f[i]\n",
    "        v = bon_tfs_bigrams_f[j]\n",
    "        cos_sims_bigrams_f[i,j] = (u / np.linalg.norm(u)).dot(v / np.linalg.norm(v))\n",
    "\n",
    "plt.imshow(cos_sims_bigrams_f, cmap='hot', interpolation='nearest')\n",
    "plt.xlabel('Bon Texts')\n",
    "plt.ylabel('Bon Texts')\n",
    "plt.show()\n",
    "\n",
    "print(\"Nyingma self similarity\")\n",
    "cos_sims_bigrams_f = np.zeros((len(nyingma_tfs_bigrams_f), len(nyingma_tfs_bigrams_f)))\n",
    "\n",
    "for i in range(len(nyingma_tfs_bigrams_f)):\n",
    "    for j in range(len(nyingma_tfs_bigrams_f)):\n",
    "        u = nyingma_tfs_bigrams_f[i]\n",
    "        v = nyingma_tfs_bigrams_f[j]\n",
    "        cos_sims_bigrams_f[i,j] = (u / np.linalg.norm(u)).dot(v / np.linalg.norm(v))\n",
    "\n",
    "plt.imshow(cos_sims_bigrams_f, cmap='hot', interpolation='nearest')\n",
    "plt.xlabel('Nyingma Texts')\n",
    "plt.ylabel('Nyingma Texts')\n",
    "plt.show()\n",
    "\n",
    "print(\"Cross similarity\")\n",
    "cos_sims_bigrams_f = np.zeros((len(bon_tfs_bigrams_f), len(nyingma_tfs_bigrams_f)))\n",
    "\n",
    "for i in range(len(bon_tfs_bigrams_f)):\n",
    "    for j in range(len(nyingma_tfs_bigrams_f)):\n",
    "        u = bon_tfs_bigrams_f[i]\n",
    "        v = nyingma_tfs_bigrams_f[j]\n",
    "        cos_sims_bigrams_f[i,j] = (u / np.linalg.norm(u)).dot(v / np.linalg.norm(v))\n",
    "\n",
    "plt.imshow(cos_sims_bigrams_f, cmap='hot', interpolation='nearest')\n",
    "plt.xlabel('Nyingma Texts')\n",
    "plt.ylabel('Bon Texts')\n",
    "plt.show()"
   ]
  },
  {
   "cell_type": "code",
   "execution_count": 25,
   "metadata": {
    "scrolled": true
   },
   "outputs": [
    {
     "data": {
      "text/plain": [
       "{0: '01-SMDG-gser-lung-non-che.txt',\n",
       " 1: '02-SMDG-gser-lung-non-chung.txt',\n",
       " 2: '03-SMDG-sems-phran-rig-pa-khu-byug-sa-gcod.txt',\n",
       " 3: '04-SMDG-rig-pa-khu-byug-gzhung.txt',\n",
       " 4: '05-SMDG-rig-pa-khu-byug-grel.txt',\n",
       " 5: '06-SMDG-cog-bzhag-sa-gcod.txt',\n",
       " 6: '07-SMDG-cog-bzhag-gzhung.txt',\n",
       " 7: '08-SMDG-cog-bzhag-grel.txt',\n",
       " 8: '09-SMDG-rgyun-thag-sa-gcod-gzhung-grel.txt',\n",
       " 9: '10-SMDG-sems-lung-rgyun-thag.txt',\n",
       " 10: '11-SMDG-snang-dngos-med-mdzub-tshugs.txt',\n",
       " 11: '12-SMDG-sgron-ma-gsal-ba.txt',\n",
       " 12: \"13-ngang-thag-bskal-pa'i-sgron-ma_TTN-175-195.txt\",\n",
       " 13: '14-SMDG-thig-le-dbyings-kyi-ti-ka.txt'}"
      ]
     },
     "execution_count": 25,
     "metadata": {},
     "output_type": "execute_result"
    }
   ],
   "source": [
    "bon_idx2fname"
   ]
  },
  {
   "cell_type": "code",
   "execution_count": 26,
   "metadata": {},
   "outputs": [
    {
     "data": {
      "text/plain": [
       "{0: \"L1-rig-pa'i-khu-byug_p302-324.txt\",\n",
       " 1: 'L2-rtsal-chen_p436-447་.txt',\n",
       " 2: 'L3-khyung-chen_p447-468.txt',\n",
       " 3: 'L4_byang-sems-bsgom-rdo-la-gser-zhun-p416-425.txt',\n",
       " 4: \"L5_nam-mkha'-che-rgyas-pa-yi-ge-med-pa_V8-p.468-473.txt\",\n",
       " 5: 'LL01_L14_rtse-mo-byung-rgyal_vol8-p480-491.txt',\n",
       " 6: \"LL02_་nam-mkha'-rgyal-po_vol8-v475-480.txt\",\n",
       " 7: 'LL03_L16_bde-ba-phra-bkod_V8-p.495-498.txt',\n",
       " 8: 'LL04_byang-chub-sems-tig.txt',\n",
       " 9: 'LL05_spyi-bcings-spyi-chings_Liljenberg-p268ff.txt',\n",
       " 10: \"LL06_L15_bde-ba-rab-'byams_vol8-p.473-475-not-sure.txt\",\n",
       " 11: \"LL07_L10_srog-gi-'khor-lo_v8.p491-494.txt\",\n",
       " 12: 'LL08_thig-le-drug-pa-NGB-vol33.txt',\n",
       " 13: 'LL09_spyi-gcod_vol8_p.498.txt',\n",
       " 14: 'LL10_yid-bzhin-nor-bu-431.txt',\n",
       " 15: \"LL11_kun-'dus-NGB-mtshams-brag-vol1-624-626་.txt\",\n",
       " 16: 'LL12_rje-btsan-dam-pa_NGB-vol34-p63-64.txt',\n",
       " 17: 'LL13-sgom-pa-don-grubdocx.txt'}"
      ]
     },
     "execution_count": 26,
     "metadata": {},
     "output_type": "execute_result"
    }
   ],
   "source": [
    "nyingma_idx2fname"
   ]
  },
  {
   "cell_type": "markdown",
   "metadata": {},
   "source": [
    "## Part 3a: Pairwise cosine similarity of word + 2-gram frequency"
   ]
  },
  {
   "cell_type": "code",
   "execution_count": 27,
   "metadata": {},
   "outputs": [
    {
     "name": "stdout",
     "output_type": "stream",
     "text": [
      "Bon self similarity\n"
     ]
    },
    {
     "data": {
      "image/png": "[encoded data removed]",
      "text/plain": [
       "<matplotlib.figure.Figure at 0x1104d9c88>"
      ]
     },
     "metadata": {},
     "output_type": "display_data"
    },
    {
     "name": "stdout",
     "output_type": "stream",
     "text": [
      "Nyingma self similarity\n"
     ]
    },
    {
     "data": {
      "image/png": "[encoded data removed]",
      "text/plain": [
       "<matplotlib.figure.Figure at 0x1104c0a58>"
      ]
     },
     "metadata": {},
     "output_type": "display_data"
    },
    {
     "name": "stdout",
     "output_type": "stream",
     "text": [
      "Cross similarity\n"
     ]
    },
    {
     "data": {
      "image/png": "[encoded data removed]",
      "text/plain": [
       "<matplotlib.figure.Figure at 0x11c3f1c88>"
      ]
     },
     "metadata": {},
     "output_type": "display_data"
    }
   ],
   "source": [
    "bon_words_bigrams = []\n",
    "for t1, t2 in zip(bon_texts, bon_bigrams):\n",
    "    bon_words_bigrams.append(t1 + t2)\n",
    "    \n",
    "nyingma_words_bigrams = []\n",
    "for t1, t2 in zip(nyingma_texts, nyingma_bigrams):\n",
    "    nyingma_words_bigrams.append(t1 + t2)\n",
    "    \n",
    "dct_words_bigrams = Dictionary(bon_words_bigrams + nyingma_words_bigrams)\n",
    "\n",
    "bon_bows_words_bigrams = []\n",
    "for t in bon_words_bigrams:\n",
    "    bon_bows_words_bigrams.append(dct_words_bigrams.doc2bow(t))\n",
    "    \n",
    "nyingma_bows_words_bigrams = []\n",
    "for t in nyingma_words_bigrams:\n",
    "    nyingma_bows_words_bigrams.append(dct_words_bigrams.doc2bow(t))\n",
    "    \n",
    "bon_tfs_words_bigrams = []\n",
    "for t in bon_bows_words_bigrams:\n",
    "    vec = np.zeros(len(dct_words_bigrams))\n",
    "    for k, v in t:\n",
    "        vec[k] = v\n",
    "    bon_tfs_words_bigrams.append(vec)\n",
    "    \n",
    "nyingma_tfs_words_bigrams = []\n",
    "for t in nyingma_bows_words_bigrams:\n",
    "    vec = np.zeros(len(dct_words_bigrams))\n",
    "    for k, v in t:\n",
    "        vec[k] = v\n",
    "    nyingma_tfs_words_bigrams.append(vec)\n",
    "\n",
    "    \n",
    "print(\"Bon self similarity\")    \n",
    "cos_sims_words_bigrams = np.zeros((len(bon_tfs_words_bigrams), len(bon_tfs_words_bigrams)))\n",
    "\n",
    "for i in range(len(bon_tfs_words_bigrams)):\n",
    "    for j in range(len(bon_tfs_words_bigrams)):\n",
    "        u = bon_tfs_words_bigrams[i]\n",
    "        v = bon_tfs_words_bigrams[j]\n",
    "        cos_sims_words_bigrams[i,j] = (u / np.linalg.norm(u)).dot(v / np.linalg.norm(v))\n",
    "\n",
    "plt.imshow(cos_sims_words_bigrams, cmap='hot', interpolation='nearest')\n",
    "plt.xlabel('Bon Texts')\n",
    "plt.ylabel('Bon Texts')\n",
    "plt.show()\n",
    "\n",
    "print(\"Nyingma self similarity\")    \n",
    "cos_sims_words_bigrams = np.zeros((len(nyingma_tfs_words_bigrams), len(nyingma_tfs_words_bigrams)))\n",
    "\n",
    "for i in range(len(nyingma_tfs_words_bigrams)):\n",
    "    for j in range(len(nyingma_tfs_words_bigrams)):\n",
    "        u = nyingma_tfs_words_bigrams[i]\n",
    "        v = nyingma_tfs_words_bigrams[j]\n",
    "        cos_sims_words_bigrams[i,j] = (u / np.linalg.norm(u)).dot(v / np.linalg.norm(v))\n",
    "\n",
    "plt.imshow(cos_sims_words_bigrams, cmap='hot', interpolation='nearest')\n",
    "plt.xlabel('Nyingma Texts')\n",
    "plt.ylabel('Nyingma Texts')\n",
    "plt.show()\n",
    "\n",
    "print(\"Cross similarity\")    \n",
    "cos_sims_words_bigrams = np.zeros((len(bon_tfs_words_bigrams), len(nyingma_tfs_words_bigrams)))\n",
    "\n",
    "for i in range(len(bon_tfs_words_bigrams)):\n",
    "    for j in range(len(nyingma_tfs_words_bigrams)):\n",
    "        u = bon_tfs_words_bigrams[i]\n",
    "        v = nyingma_tfs_words_bigrams[j]\n",
    "        cos_sims_words_bigrams[i,j] = (u / np.linalg.norm(u)).dot(v / np.linalg.norm(v))\n",
    "\n",
    "plt.imshow(cos_sims_words_bigrams, cmap='hot', interpolation='nearest')\n",
    "plt.xlabel('Nyingma Texts')\n",
    "plt.ylabel('Bon Texts')\n",
    "plt.show()"
   ]
  },
  {
   "cell_type": "code",
   "execution_count": 28,
   "metadata": {},
   "outputs": [
    {
     "data": {
      "text/plain": [
       "{0: '01-SMDG-gser-lung-non-che.txt',\n",
       " 1: '02-SMDG-gser-lung-non-chung.txt',\n",
       " 2: '03-SMDG-sems-phran-rig-pa-khu-byug-sa-gcod.txt',\n",
       " 3: '04-SMDG-rig-pa-khu-byug-gzhung.txt',\n",
       " 4: '05-SMDG-rig-pa-khu-byug-grel.txt',\n",
       " 5: '06-SMDG-cog-bzhag-sa-gcod.txt',\n",
       " 6: '07-SMDG-cog-bzhag-gzhung.txt',\n",
       " 7: '08-SMDG-cog-bzhag-grel.txt',\n",
       " 8: '09-SMDG-rgyun-thag-sa-gcod-gzhung-grel.txt',\n",
       " 9: '10-SMDG-sems-lung-rgyun-thag.txt',\n",
       " 10: '11-SMDG-snang-dngos-med-mdzub-tshugs.txt',\n",
       " 11: '12-SMDG-sgron-ma-gsal-ba.txt',\n",
       " 12: \"13-ngang-thag-bskal-pa'i-sgron-ma_TTN-175-195.txt\",\n",
       " 13: '14-SMDG-thig-le-dbyings-kyi-ti-ka.txt'}"
      ]
     },
     "execution_count": 28,
     "metadata": {},
     "output_type": "execute_result"
    }
   ],
   "source": [
    "bon_idx2fname"
   ]
  },
  {
   "cell_type": "code",
   "execution_count": 29,
   "metadata": {},
   "outputs": [
    {
     "data": {
      "text/plain": [
       "{0: \"L1-rig-pa'i-khu-byug_p302-324.txt\",\n",
       " 1: 'L2-rtsal-chen_p436-447་.txt',\n",
       " 2: 'L3-khyung-chen_p447-468.txt',\n",
       " 3: 'L4_byang-sems-bsgom-rdo-la-gser-zhun-p416-425.txt',\n",
       " 4: \"L5_nam-mkha'-che-rgyas-pa-yi-ge-med-pa_V8-p.468-473.txt\",\n",
       " 5: 'LL01_L14_rtse-mo-byung-rgyal_vol8-p480-491.txt',\n",
       " 6: \"LL02_་nam-mkha'-rgyal-po_vol8-v475-480.txt\",\n",
       " 7: 'LL03_L16_bde-ba-phra-bkod_V8-p.495-498.txt',\n",
       " 8: 'LL04_byang-chub-sems-tig.txt',\n",
       " 9: 'LL05_spyi-bcings-spyi-chings_Liljenberg-p268ff.txt',\n",
       " 10: \"LL06_L15_bde-ba-rab-'byams_vol8-p.473-475-not-sure.txt\",\n",
       " 11: \"LL07_L10_srog-gi-'khor-lo_v8.p491-494.txt\",\n",
       " 12: 'LL08_thig-le-drug-pa-NGB-vol33.txt',\n",
       " 13: 'LL09_spyi-gcod_vol8_p.498.txt',\n",
       " 14: 'LL10_yid-bzhin-nor-bu-431.txt',\n",
       " 15: \"LL11_kun-'dus-NGB-mtshams-brag-vol1-624-626་.txt\",\n",
       " 16: 'LL12_rje-btsan-dam-pa_NGB-vol34-p63-64.txt',\n",
       " 17: 'LL13-sgom-pa-don-grubdocx.txt'}"
      ]
     },
     "execution_count": 29,
     "metadata": {},
     "output_type": "execute_result"
    }
   ],
   "source": [
    "nyingma_idx2fname"
   ]
  },
  {
   "cell_type": "markdown",
   "metadata": {},
   "source": [
    "## Part 3b: Pairwise cosine similarity of word + 2-gram frequency (filtered)"
   ]
  },
  {
   "cell_type": "code",
   "execution_count": 30,
   "metadata": {},
   "outputs": [
    {
     "name": "stdout",
     "output_type": "stream",
     "text": [
      "Bon self similarity\n"
     ]
    },
    {
     "data": {
      "image/png": "[encoded data removed]",
      "text/plain": [
       "<matplotlib.figure.Figure at 0x115ca15c0>"
      ]
     },
     "metadata": {},
     "output_type": "display_data"
    },
    {
     "name": "stdout",
     "output_type": "stream",
     "text": [
      "Nyingma self similarity\n"
     ]
    },
    {
     "data": {
      "image/png": "[encoded data removed]",
      "text/plain": [
       "<matplotlib.figure.Figure at 0x11c82acc0>"
      ]
     },
     "metadata": {},
     "output_type": "display_data"
    },
    {
     "name": "stdout",
     "output_type": "stream",
     "text": [
      "Cross similarity\n"
     ]
    },
    {
     "data": {
      "image/png": "[encoded data removed]",
      "text/plain": [
       "<matplotlib.figure.Figure at 0x11f850fd0>"
      ]
     },
     "metadata": {},
     "output_type": "display_data"
    }
   ],
   "source": [
    "bon_words_bigrams_f = []\n",
    "for t1, t2 in zip(bon_texts_f, bon_bigrams_f):\n",
    "    bon_words_bigrams_f.append(t1 + t2)\n",
    "    \n",
    "nyingma_words_bigrams_f = []\n",
    "for t1, t2 in zip(nyingma_texts_f, nyingma_bigrams_f):\n",
    "    nyingma_words_bigrams_f.append(t1 + t2)\n",
    "    \n",
    "dct_words_bigrams_f = Dictionary(bon_words_bigrams_f + nyingma_words_bigrams_f)\n",
    "\n",
    "bon_bows_words_bigrams_f = []\n",
    "for t in bon_words_bigrams_f:\n",
    "    bon_bows_words_bigrams_f.append(dct_words_bigrams_f.doc2bow(t))\n",
    "    \n",
    "nyingma_bows_words_bigrams_f = []\n",
    "for t in nyingma_words_bigrams_f:\n",
    "    nyingma_bows_words_bigrams_f.append(dct_words_bigrams_f.doc2bow(t))\n",
    "    \n",
    "bon_tfs_words_bigrams_f = []\n",
    "for t in bon_bows_words_bigrams_f:\n",
    "    vec = np.zeros(len(dct_words_bigrams_f))\n",
    "    for k, v in t:\n",
    "        vec[k] = v\n",
    "    bon_tfs_words_bigrams_f.append(vec)\n",
    "    \n",
    "nyingma_tfs_words_bigrams_f = []\n",
    "for t in nyingma_bows_words_bigrams_f:\n",
    "    vec = np.zeros(len(dct_words_bigrams_f))\n",
    "    for k, v in t:\n",
    "        vec[k] = v\n",
    "    nyingma_tfs_words_bigrams_f.append(vec)\n",
    "\n",
    "    \n",
    "print(\"Bon self similarity\")\n",
    "cos_sims_words_bigrams_f = np.zeros((len(bon_tfs_words_bigrams_f), len(bon_tfs_words_bigrams_f)))\n",
    "\n",
    "for i in range(len(bon_tfs_words_bigrams_f)):\n",
    "    for j in range(len(bon_tfs_words_bigrams_f)):\n",
    "        u = bon_tfs_words_bigrams_f[i]\n",
    "        v = bon_tfs_words_bigrams_f[j]\n",
    "        cos_sims_words_bigrams_f[i,j] = (u / np.linalg.norm(u)).dot(v / np.linalg.norm(v))\n",
    "\n",
    "plt.imshow(cos_sims_words_bigrams_f, cmap='hot', interpolation='nearest')\n",
    "plt.xlabel('Bon Texts')\n",
    "plt.ylabel('Bon Texts')\n",
    "plt.show()\n",
    "\n",
    "\n",
    "print(\"Nyingma self similarity\")\n",
    "cos_sims_words_bigrams_f = np.zeros((len(nyingma_tfs_words_bigrams_f), len(nyingma_tfs_words_bigrams_f)))\n",
    "\n",
    "for i in range(len(nyingma_tfs_words_bigrams_f)):\n",
    "    for j in range(len(nyingma_tfs_words_bigrams_f)):\n",
    "        u = nyingma_tfs_words_bigrams_f[i]\n",
    "        v = nyingma_tfs_words_bigrams_f[j]\n",
    "        cos_sims_words_bigrams_f[i,j] = (u / np.linalg.norm(u)).dot(v / np.linalg.norm(v))\n",
    "\n",
    "plt.imshow(cos_sims_words_bigrams_f, cmap='hot', interpolation='nearest')\n",
    "plt.xlabel('Nyingma Texts')\n",
    "plt.ylabel('Nyingma Texts')\n",
    "plt.show()\n",
    "\n",
    "\n",
    "print(\"Cross similarity\")\n",
    "cos_sims_words_bigrams_f = np.zeros((len(bon_tfs_words_bigrams_f), len(nyingma_tfs_words_bigrams_f)))\n",
    "\n",
    "for i in range(len(bon_tfs_words_bigrams_f)):\n",
    "    for j in range(len(nyingma_tfs_words_bigrams_f)):\n",
    "        u = bon_tfs_words_bigrams_f[i]\n",
    "        v = nyingma_tfs_words_bigrams_f[j]\n",
    "        cos_sims_words_bigrams_f[i,j] = (u / np.linalg.norm(u)).dot(v / np.linalg.norm(v))\n",
    "\n",
    "plt.imshow(cos_sims_words_bigrams_f, cmap='hot', interpolation='nearest')\n",
    "plt.xlabel('Nyingma Texts')\n",
    "plt.ylabel('Bon Texts')\n",
    "plt.show()"
   ]
  },
  {
   "cell_type": "code",
   "execution_count": 31,
   "metadata": {
    "scrolled": true
   },
   "outputs": [
    {
     "data": {
      "text/plain": [
       "{0: '01-SMDG-gser-lung-non-che.txt',\n",
       " 1: '02-SMDG-gser-lung-non-chung.txt',\n",
       " 2: '03-SMDG-sems-phran-rig-pa-khu-byug-sa-gcod.txt',\n",
       " 3: '04-SMDG-rig-pa-khu-byug-gzhung.txt',\n",
       " 4: '05-SMDG-rig-pa-khu-byug-grel.txt',\n",
       " 5: '06-SMDG-cog-bzhag-sa-gcod.txt',\n",
       " 6: '07-SMDG-cog-bzhag-gzhung.txt',\n",
       " 7: '08-SMDG-cog-bzhag-grel.txt',\n",
       " 8: '09-SMDG-rgyun-thag-sa-gcod-gzhung-grel.txt',\n",
       " 9: '10-SMDG-sems-lung-rgyun-thag.txt',\n",
       " 10: '11-SMDG-snang-dngos-med-mdzub-tshugs.txt',\n",
       " 11: '12-SMDG-sgron-ma-gsal-ba.txt',\n",
       " 12: \"13-ngang-thag-bskal-pa'i-sgron-ma_TTN-175-195.txt\",\n",
       " 13: '14-SMDG-thig-le-dbyings-kyi-ti-ka.txt'}"
      ]
     },
     "execution_count": 31,
     "metadata": {},
     "output_type": "execute_result"
    }
   ],
   "source": [
    "bon_idx2fname"
   ]
  },
  {
   "cell_type": "code",
   "execution_count": 32,
   "metadata": {},
   "outputs": [
    {
     "data": {
      "text/plain": [
       "{0: \"L1-rig-pa'i-khu-byug_p302-324.txt\",\n",
       " 1: 'L2-rtsal-chen_p436-447་.txt',\n",
       " 2: 'L3-khyung-chen_p447-468.txt',\n",
       " 3: 'L4_byang-sems-bsgom-rdo-la-gser-zhun-p416-425.txt',\n",
       " 4: \"L5_nam-mkha'-che-rgyas-pa-yi-ge-med-pa_V8-p.468-473.txt\",\n",
       " 5: 'LL01_L14_rtse-mo-byung-rgyal_vol8-p480-491.txt',\n",
       " 6: \"LL02_་nam-mkha'-rgyal-po_vol8-v475-480.txt\",\n",
       " 7: 'LL03_L16_bde-ba-phra-bkod_V8-p.495-498.txt',\n",
       " 8: 'LL04_byang-chub-sems-tig.txt',\n",
       " 9: 'LL05_spyi-bcings-spyi-chings_Liljenberg-p268ff.txt',\n",
       " 10: \"LL06_L15_bde-ba-rab-'byams_vol8-p.473-475-not-sure.txt\",\n",
       " 11: \"LL07_L10_srog-gi-'khor-lo_v8.p491-494.txt\",\n",
       " 12: 'LL08_thig-le-drug-pa-NGB-vol33.txt',\n",
       " 13: 'LL09_spyi-gcod_vol8_p.498.txt',\n",
       " 14: 'LL10_yid-bzhin-nor-bu-431.txt',\n",
       " 15: \"LL11_kun-'dus-NGB-mtshams-brag-vol1-624-626་.txt\",\n",
       " 16: 'LL12_rje-btsan-dam-pa_NGB-vol34-p63-64.txt',\n",
       " 17: 'LL13-sgom-pa-don-grubdocx.txt'}"
      ]
     },
     "execution_count": 32,
     "metadata": {},
     "output_type": "execute_result"
    }
   ],
   "source": [
    "nyingma_idx2fname"
   ]
  },
  {
   "cell_type": "markdown",
   "metadata": {},
   "source": [
    "## Part 4: Pairwise Spearman Rank Correlation of common words and 2-grams (filtered)"
   ]
  },
  {
   "cell_type": "code",
   "execution_count": 33,
   "metadata": {},
   "outputs": [],
   "source": [
    "ctr_words_f = Counter()\n",
    "for t in bon_texts_f + nyingma_texts_f:\n",
    "    ctr_words_f.update(t)\n",
    "    \n",
    "ctr_bigrams_f = Counter()\n",
    "for t in bon_bigrams_f + nyingma_bigrams_f:\n",
    "    ctr_bigrams_f.update(t)"
   ]
  },
  {
   "cell_type": "markdown",
   "metadata": {},
   "source": [
    "Percent of word count in top 100 words:"
   ]
  },
  {
   "cell_type": "code",
   "execution_count": 34,
   "metadata": {},
   "outputs": [
    {
     "name": "stdout",
     "output_type": "stream",
     "text": [
      "22055 / 53952 = 0.4087892941874259\n"
     ]
    }
   ],
   "source": [
    "total = sum([x[1] for x in ctr_words_f.items()])\n",
    "top_100 = sum([x[1] for x in ctr_words_f.most_common(100)])\n",
    "print(\"{} / {} = {}\".format(top_100, total, top_100/total))"
   ]
  },
  {
   "cell_type": "markdown",
   "metadata": {},
   "source": [
    "Percent of bigram count in top 500 bigrams:"
   ]
  },
  {
   "cell_type": "code",
   "execution_count": 35,
   "metadata": {},
   "outputs": [
    {
     "name": "stdout",
     "output_type": "stream",
     "text": [
      "9250 / 30030 = 0.30802530802530803\n"
     ]
    }
   ],
   "source": [
    "total = sum([x[1] for x in ctr_bigrams_f.items()])\n",
    "top_1000 = sum([x[1] for x in ctr_bigrams_f.most_common(1000)])\n",
    "print(\"{} / {} = {}\".format(top_1000, total, top_1000/total))"
   ]
  },
  {
   "cell_type": "code",
   "execution_count": 36,
   "metadata": {},
   "outputs": [],
   "source": [
    "token2id = dct_words_bigrams_f.token2id\n",
    "top_100_words = {token2id[x[0]] for x in ctr_words_f.most_common(100)}\n",
    "top_1000_bigrams = {token2id[x[0]] for x in ctr_bigrams_f.most_common(1000)}\n",
    "\n",
    "bon_trun_freq = []\n",
    "for b in bon_bows_words_bigrams_f:\n",
    "    vec = np.zeros(1100)\n",
    "    i = 0\n",
    "    for k, v in b:\n",
    "        if k in top_100_words or k in top_1000_bigrams:\n",
    "            vec[i] = v\n",
    "            i += 1\n",
    "    bon_trun_freq.append(vec)\n",
    "            \n",
    "nyingma_trun_freq = []\n",
    "for b in nyingma_bows_words_bigrams_f:\n",
    "    vec = np.zeros(1100)\n",
    "    i = 0\n",
    "    for k, v in b:\n",
    "        if k in top_100_words or k in top_1000_bigrams:\n",
    "            vec[i] = v\n",
    "            i += 1\n",
    "    nyingma_trun_freq.append(vec)"
   ]
  },
  {
   "cell_type": "code",
   "execution_count": 37,
   "metadata": {
    "scrolled": false
   },
   "outputs": [
    {
     "name": "stdout",
     "output_type": "stream",
     "text": [
      "Bon self similarity\n"
     ]
    },
    {
     "data": {
      "image/png": "[encoded data removed]",
      "text/plain": [
       "<matplotlib.figure.Figure at 0x10c04d2b0>"
      ]
     },
     "metadata": {},
     "output_type": "display_data"
    },
    {
     "name": "stdout",
     "output_type": "stream",
     "text": [
      "Nyingma self similarity\n"
     ]
    },
    {
     "data": {
      "image/png": "[encoded data removed]",
      "text/plain": [
       "<matplotlib.figure.Figure at 0x11fd92668>"
      ]
     },
     "metadata": {},
     "output_type": "display_data"
    },
    {
     "name": "stdout",
     "output_type": "stream",
     "text": [
      "Cross similarity\n"
     ]
    },
    {
     "data": {
      "image/png": "[encoded data removed]",
      "text/plain": [
       "<matplotlib.figure.Figure at 0x11fd9e1d0>"
      ]
     },
     "metadata": {},
     "output_type": "display_data"
    }
   ],
   "source": [
    "print(\"Bon self similarity\")\n",
    "r_matrix = np.zeros((len(bon_texts), len(bon_texts)))\n",
    "\n",
    "for i in range(len(bon_texts)):\n",
    "    for j in range(len(bon_texts)):\n",
    "        t, _ = stats.spearmanr(bon_trun_freq[i], bon_trun_freq[j])\n",
    "        r_matrix[i, j] = t\n",
    "\n",
    "plt.imshow(r_matrix, cmap='hot', interpolation='nearest')\n",
    "plt.xlabel('Bon Texts')\n",
    "plt.ylabel('Bon Texts')\n",
    "plt.show()  \n",
    "\n",
    "\n",
    "print(\"Nyingma self similarity\")\n",
    "r_matrix = np.zeros((len(nyingma_texts), len(nyingma_texts)))\n",
    "\n",
    "for i in range(len(nyingma_texts)):\n",
    "    for j in range(len(nyingma_texts)):\n",
    "        t, _ = stats.spearmanr(nyingma_trun_freq[i], nyingma_trun_freq[j])\n",
    "        r_matrix[i, j] = t\n",
    "\n",
    "plt.imshow(r_matrix, cmap='hot', interpolation='nearest')\n",
    "plt.xlabel('Nyingma Texts')\n",
    "plt.ylabel('Nyingma Texts')\n",
    "plt.show()  \n",
    "\n",
    "\n",
    "print(\"Cross similarity\")\n",
    "r_matrix = np.zeros((len(bon_texts), len(nyingma_texts)))\n",
    "\n",
    "for i in range(len(bon_texts)):\n",
    "    for j in range(len(nyingma_texts)):\n",
    "        t, _ = stats.spearmanr(bon_trun_freq[i], nyingma_trun_freq[j])\n",
    "        r_matrix[i, j] = t\n",
    "\n",
    "plt.imshow(r_matrix, cmap='hot', interpolation='nearest')\n",
    "plt.xlabel('Nyingma Texts')\n",
    "plt.ylabel('Bon Texts')\n",
    "plt.show()     "
   ]
  },
  {
   "cell_type": "code",
   "execution_count": 38,
   "metadata": {},
   "outputs": [
    {
     "data": {
      "text/plain": [
       "{0: '01-SMDG-gser-lung-non-che.txt',\n",
       " 1: '02-SMDG-gser-lung-non-chung.txt',\n",
       " 2: '03-SMDG-sems-phran-rig-pa-khu-byug-sa-gcod.txt',\n",
       " 3: '04-SMDG-rig-pa-khu-byug-gzhung.txt',\n",
       " 4: '05-SMDG-rig-pa-khu-byug-grel.txt',\n",
       " 5: '06-SMDG-cog-bzhag-sa-gcod.txt',\n",
       " 6: '07-SMDG-cog-bzhag-gzhung.txt',\n",
       " 7: '08-SMDG-cog-bzhag-grel.txt',\n",
       " 8: '09-SMDG-rgyun-thag-sa-gcod-gzhung-grel.txt',\n",
       " 9: '10-SMDG-sems-lung-rgyun-thag.txt',\n",
       " 10: '11-SMDG-snang-dngos-med-mdzub-tshugs.txt',\n",
       " 11: '12-SMDG-sgron-ma-gsal-ba.txt',\n",
       " 12: \"13-ngang-thag-bskal-pa'i-sgron-ma_TTN-175-195.txt\",\n",
       " 13: '14-SMDG-thig-le-dbyings-kyi-ti-ka.txt'}"
      ]
     },
     "execution_count": 38,
     "metadata": {},
     "output_type": "execute_result"
    }
   ],
   "source": [
    "bon_idx2fname"
   ]
  },
  {
   "cell_type": "code",
   "execution_count": 39,
   "metadata": {},
   "outputs": [
    {
     "data": {
      "text/plain": [
       "{0: \"L1-rig-pa'i-khu-byug_p302-324.txt\",\n",
       " 1: 'L2-rtsal-chen_p436-447་.txt',\n",
       " 2: 'L3-khyung-chen_p447-468.txt',\n",
       " 3: 'L4_byang-sems-bsgom-rdo-la-gser-zhun-p416-425.txt',\n",
       " 4: \"L5_nam-mkha'-che-rgyas-pa-yi-ge-med-pa_V8-p.468-473.txt\",\n",
       " 5: 'LL01_L14_rtse-mo-byung-rgyal_vol8-p480-491.txt',\n",
       " 6: \"LL02_་nam-mkha'-rgyal-po_vol8-v475-480.txt\",\n",
       " 7: 'LL03_L16_bde-ba-phra-bkod_V8-p.495-498.txt',\n",
       " 8: 'LL04_byang-chub-sems-tig.txt',\n",
       " 9: 'LL05_spyi-bcings-spyi-chings_Liljenberg-p268ff.txt',\n",
       " 10: \"LL06_L15_bde-ba-rab-'byams_vol8-p.473-475-not-sure.txt\",\n",
       " 11: \"LL07_L10_srog-gi-'khor-lo_v8.p491-494.txt\",\n",
       " 12: 'LL08_thig-le-drug-pa-NGB-vol33.txt',\n",
       " 13: 'LL09_spyi-gcod_vol8_p.498.txt',\n",
       " 14: 'LL10_yid-bzhin-nor-bu-431.txt',\n",
       " 15: \"LL11_kun-'dus-NGB-mtshams-brag-vol1-624-626་.txt\",\n",
       " 16: 'LL12_rje-btsan-dam-pa_NGB-vol34-p63-64.txt',\n",
       " 17: 'LL13-sgom-pa-don-grubdocx.txt'}"
      ]
     },
     "execution_count": 39,
     "metadata": {},
     "output_type": "execute_result"
    }
   ],
   "source": [
    "nyingma_idx2fname"
   ]
  },
  {
   "cell_type": "markdown",
   "metadata": {},
   "source": [
    "## Part 5: Pairwise Kendall's Tau-b of common words and 2-grams (filtered)"
   ]
  },
  {
   "cell_type": "code",
   "execution_count": 40,
   "metadata": {},
   "outputs": [
    {
     "name": "stdout",
     "output_type": "stream",
     "text": [
      "Bon self similarity\n"
     ]
    },
    {
     "data": {
      "image/png": "[encoded data removed]",
      "text/plain": [
       "<matplotlib.figure.Figure at 0x1217007f0>"
      ]
     },
     "metadata": {},
     "output_type": "display_data"
    },
    {
     "name": "stdout",
     "output_type": "stream",
     "text": [
      "Nyingma self similarity\n"
     ]
    },
    {
     "data": {
      "image/png": "[encoded data removed]",
      "text/plain": [
       "<matplotlib.figure.Figure at 0x121700cc0>"
      ]
     },
     "metadata": {},
     "output_type": "display_data"
    },
    {
     "name": "stdout",
     "output_type": "stream",
     "text": [
      "Bon vs Nyingma cross similarity\n"
     ]
    },
    {
     "data": {
      "image/png": "[encoded data removed]",
      "text/plain": [
       "<matplotlib.figure.Figure at 0x122737eb8>"
      ]
     },
     "metadata": {},
     "output_type": "display_data"
    }
   ],
   "source": [
    "print(\"Bon self similarity\")\n",
    "tau_matrix = np.zeros((len(bon_texts), len(bon_texts)))\n",
    "\n",
    "for i in range(len(bon_texts)):\n",
    "    for j in range(len(bon_texts)):\n",
    "        t, _ = stats.kendalltau(bon_trun_freq[i], bon_trun_freq[j])\n",
    "        tau_matrix[i, j] = t\n",
    "\n",
    "plt.imshow(tau_matrix, cmap='hot', interpolation='nearest')\n",
    "plt.xlabel('Bon Texts')\n",
    "plt.ylabel('Bon Texts')\n",
    "plt.show()     \n",
    "\n",
    "\n",
    "print(\"Nyingma self similarity\")\n",
    "tau_matrix = np.zeros((len(nyingma_texts), len(nyingma_texts)))\n",
    "\n",
    "for i in range(len(nyingma_texts)):\n",
    "    for j in range(len(nyingma_texts)):\n",
    "        t, _ = stats.kendalltau(nyingma_trun_freq[i], nyingma_trun_freq[j])\n",
    "        tau_matrix[i, j] = t\n",
    "\n",
    "plt.imshow(tau_matrix, cmap='hot', interpolation='nearest')\n",
    "plt.xlabel('Nyingma Texts')\n",
    "plt.ylabel('Nyingma Texts')\n",
    "plt.show()     \n",
    "\n",
    "\n",
    "print(\"Bon vs Nyingma cross similarity\")\n",
    "tau_matrix = np.zeros((len(bon_texts), len(nyingma_texts)))\n",
    "\n",
    "for i in range(len(bon_texts)):\n",
    "    for j in range(len(nyingma_texts)):\n",
    "        t, _ = stats.kendalltau(bon_trun_freq[i], nyingma_trun_freq[j])\n",
    "        tau_matrix[i, j] = t\n",
    "\n",
    "plt.imshow(tau_matrix, cmap='hot', interpolation='nearest')\n",
    "plt.xlabel('Nyingma Texts')\n",
    "plt.ylabel('Bon Texts')\n",
    "plt.show()     "
   ]
  },
  {
   "cell_type": "code",
   "execution_count": 41,
   "metadata": {},
   "outputs": [
    {
     "data": {
      "text/plain": [
       "{0: '01-SMDG-gser-lung-non-che.txt',\n",
       " 1: '02-SMDG-gser-lung-non-chung.txt',\n",
       " 2: '03-SMDG-sems-phran-rig-pa-khu-byug-sa-gcod.txt',\n",
       " 3: '04-SMDG-rig-pa-khu-byug-gzhung.txt',\n",
       " 4: '05-SMDG-rig-pa-khu-byug-grel.txt',\n",
       " 5: '06-SMDG-cog-bzhag-sa-gcod.txt',\n",
       " 6: '07-SMDG-cog-bzhag-gzhung.txt',\n",
       " 7: '08-SMDG-cog-bzhag-grel.txt',\n",
       " 8: '09-SMDG-rgyun-thag-sa-gcod-gzhung-grel.txt',\n",
       " 9: '10-SMDG-sems-lung-rgyun-thag.txt',\n",
       " 10: '11-SMDG-snang-dngos-med-mdzub-tshugs.txt',\n",
       " 11: '12-SMDG-sgron-ma-gsal-ba.txt',\n",
       " 12: \"13-ngang-thag-bskal-pa'i-sgron-ma_TTN-175-195.txt\",\n",
       " 13: '14-SMDG-thig-le-dbyings-kyi-ti-ka.txt'}"
      ]
     },
     "execution_count": 41,
     "metadata": {},
     "output_type": "execute_result"
    }
   ],
   "source": [
    "bon_idx2fname"
   ]
  },
  {
   "cell_type": "code",
   "execution_count": 42,
   "metadata": {},
   "outputs": [
    {
     "data": {
      "text/plain": [
       "{0: \"L1-rig-pa'i-khu-byug_p302-324.txt\",\n",
       " 1: 'L2-rtsal-chen_p436-447་.txt',\n",
       " 2: 'L3-khyung-chen_p447-468.txt',\n",
       " 3: 'L4_byang-sems-bsgom-rdo-la-gser-zhun-p416-425.txt',\n",
       " 4: \"L5_nam-mkha'-che-rgyas-pa-yi-ge-med-pa_V8-p.468-473.txt\",\n",
       " 5: 'LL01_L14_rtse-mo-byung-rgyal_vol8-p480-491.txt',\n",
       " 6: \"LL02_་nam-mkha'-rgyal-po_vol8-v475-480.txt\",\n",
       " 7: 'LL03_L16_bde-ba-phra-bkod_V8-p.495-498.txt',\n",
       " 8: 'LL04_byang-chub-sems-tig.txt',\n",
       " 9: 'LL05_spyi-bcings-spyi-chings_Liljenberg-p268ff.txt',\n",
       " 10: \"LL06_L15_bde-ba-rab-'byams_vol8-p.473-475-not-sure.txt\",\n",
       " 11: \"LL07_L10_srog-gi-'khor-lo_v8.p491-494.txt\",\n",
       " 12: 'LL08_thig-le-drug-pa-NGB-vol33.txt',\n",
       " 13: 'LL09_spyi-gcod_vol8_p.498.txt',\n",
       " 14: 'LL10_yid-bzhin-nor-bu-431.txt',\n",
       " 15: \"LL11_kun-'dus-NGB-mtshams-brag-vol1-624-626་.txt\",\n",
       " 16: 'LL12_rje-btsan-dam-pa_NGB-vol34-p63-64.txt',\n",
       " 17: 'LL13-sgom-pa-don-grubdocx.txt'}"
      ]
     },
     "execution_count": 42,
     "metadata": {},
     "output_type": "execute_result"
    }
   ],
   "source": [
    "nyingma_idx2fname"
   ]
  },
  {
   "cell_type": "code",
   "execution_count": null,
   "metadata": {},
   "outputs": [],
   "source": []
  }
 ],
 "metadata": {
  "kernelspec": {
   "display_name": "Python 3",
   "language": "python",
   "name": "python3"
  },
  "language_info": {
   "codemirror_mode": {
    "name": "ipython",
    "version": 3
   },
   "file_extension": ".py",
   "mimetype": "text/x-python",
   "name": "python",
   "nbconvert_exporter": "python",
   "pygments_lexer": "ipython3",
   "version": "3.6.5"
  }
 },
 "nbformat": 4,
 "nbformat_minor": 2
}
