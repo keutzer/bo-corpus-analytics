{
 "cells": [
  {
   "cell_type": "code",
   "execution_count": 1,
   "metadata": {},
   "outputs": [],
   "source": [
    "import re\n",
    "import pickle"
   ]
  },
  {
   "cell_type": "code",
   "execution_count": 5,
   "metadata": {},
   "outputs": [],
   "source": [
    "with open('all_federalist_papers.txt', 'r') as f:\n",
    "    text = f.read()\n",
    "\n",
    "papers = re.split(r\"FEDERALIST No\\. \\d+\\n\\n\", text)[1:]\n",
    "\n",
    "authorship_lookup = {}\n",
    "bibliography = {}"
   ]
  },
  {
   "cell_type": "markdown",
   "metadata": {},
   "source": [
    "## Split into individual essays"
   ]
  },
  {
   "cell_type": "code",
   "execution_count": 6,
   "metadata": {},
   "outputs": [],
   "source": [
    "for i in range(85):\n",
    "    with open(\"raw_essays/federalist_no_{:02}.txt\".format(i+1), 'w') as f:\n",
    "        f.write(papers[i])"
   ]
  },
  {
   "cell_type": "code",
   "execution_count": 7,
   "metadata": {},
   "outputs": [],
   "source": [
    "for i in range(85):\n",
    "        \n",
    "    m = re.search(r\"(MADISON.*|HAMILTON.*|JAY.*)(\\n\\n)\", papers[i])\n",
    "\n",
    "    # Get and strip author name\n",
    "    author = m.group(1)\n",
    "    papers[i] = papers[i][:m.start()] + papers[i][m.end():]\n",
    "\n",
    "    authorship_lookup[i+1] = author\n",
    "    \n",
    "    if author in bibliography:\n",
    "        bibliography[author].append(i+1)\n",
    "    else:\n",
    "        bibliography[author] = [i+1]\n",
    "        \n",
    "with open(\"authorship_lookup\", 'wb') as f:\n",
    "    pickle.dump(authorship_lookup, f)\n",
    "    \n",
    "with open(\"bibliography\", 'wb') as f:\n",
    "    pickle.dump(bibliography, f)"
   ]
  },
  {
   "cell_type": "markdown",
   "metadata": {},
   "source": [
    "## Process each essay"
   ]
  },
  {
   "cell_type": "code",
   "execution_count": 8,
   "metadata": {},
   "outputs": [],
   "source": [
    "from collections import Counter\n",
    "import string"
   ]
  },
  {
   "cell_type": "code",
   "execution_count": 9,
   "metadata": {},
   "outputs": [],
   "source": [
    "t = str.maketrans('','',string.punctuation)\n",
    "for i in range(85):\n",
    "    words = [w.lower().translate(t) for w in papers[i].split()]\n",
    "    \n",
    "    with open(\"lower_no_punc/federalist_no_{:02}.txt\".format(i+1), 'w') as f:\n",
    "        f.write(' '.join(words))"
   ]
  },
  {
   "cell_type": "code",
   "execution_count": 11,
   "metadata": {},
   "outputs": [
    {
     "data": {
      "text/plain": [
       "{'HAMILTON': [1,\n",
       "  6,\n",
       "  7,\n",
       "  8,\n",
       "  9,\n",
       "  11,\n",
       "  12,\n",
       "  13,\n",
       "  15,\n",
       "  16,\n",
       "  17,\n",
       "  21,\n",
       "  22,\n",
       "  23,\n",
       "  24,\n",
       "  25,\n",
       "  26,\n",
       "  27,\n",
       "  28,\n",
       "  29,\n",
       "  30,\n",
       "  31,\n",
       "  32,\n",
       "  33,\n",
       "  34,\n",
       "  35,\n",
       "  36,\n",
       "  59,\n",
       "  60,\n",
       "  61,\n",
       "  65,\n",
       "  66,\n",
       "  67,\n",
       "  68,\n",
       "  69,\n",
       "  70,\n",
       "  71,\n",
       "  72,\n",
       "  73,\n",
       "  74,\n",
       "  75,\n",
       "  76,\n",
       "  77,\n",
       "  78,\n",
       "  79,\n",
       "  80,\n",
       "  81,\n",
       "  82,\n",
       "  83,\n",
       "  84,\n",
       "  85],\n",
       " 'JAY': [2, 3, 4, 5, 64],\n",
       " 'MADISON': [10,\n",
       "  14,\n",
       "  37,\n",
       "  38,\n",
       "  39,\n",
       "  40,\n",
       "  41,\n",
       "  42,\n",
       "  43,\n",
       "  44,\n",
       "  45,\n",
       "  46,\n",
       "  47,\n",
       "  48,\n",
       "  49,\n",
       "  50,\n",
       "  51,\n",
       "  52,\n",
       "  53,\n",
       "  54,\n",
       "  55,\n",
       "  56,\n",
       "  57,\n",
       "  58,\n",
       "  62,\n",
       "  63],\n",
       " 'MADISON, with HAMILTON': [18, 19, 20]}"
      ]
     },
     "execution_count": 11,
     "metadata": {},
     "output_type": "execute_result"
    }
   ],
   "source": [
    "bibliography"
   ]
  },
  {
   "cell_type": "code",
   "execution_count": null,
   "metadata": {},
   "outputs": [],
   "source": []
  }
 ],
 "metadata": {
  "kernelspec": {
   "display_name": "Python 3",
   "language": "python",
   "name": "python3"
  },
  "language_info": {
   "codemirror_mode": {
    "name": "ipython",
    "version": 3
   },
   "file_extension": ".py",
   "mimetype": "text/x-python",
   "name": "python",
   "nbconvert_exporter": "python",
   "pygments_lexer": "ipython3",
   "version": "3.6.5"
  }
 },
 "nbformat": 4,
 "nbformat_minor": 2
}
