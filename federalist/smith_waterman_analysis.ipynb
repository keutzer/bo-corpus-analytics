{
 "cells": [
  {
   "cell_type": "code",
   "execution_count": 1,
   "metadata": {},
   "outputs": [],
   "source": [
    "from smith_waterman import smith_waterman\n",
    "import pickle"
   ]
  },
  {
   "cell_type": "code",
   "execution_count": 2,
   "metadata": {},
   "outputs": [],
   "source": [
    "with open('bibliography', 'rb') as f:\n",
    "    bib = pickle.load(f)"
   ]
  },
  {
   "cell_type": "code",
   "execution_count": 3,
   "metadata": {},
   "outputs": [],
   "source": [
    "h_essays = []\n",
    "m_essays = []\n",
    "for i in bib['HAMILTON']:\n",
    "    with open('lower_no_punc/federalist_no_{:02}.txt'.format(i), 'r') as f:\n",
    "        text = f.read()\n",
    "        text = text.replace(\"to the people of the state of new york\", \"\")\n",
    "        h_essays.append(text.split())\n",
    "for i in bib['MADISON']:\n",
    "    with open('lower_no_punc/federalist_no_{:02}.txt'.format(i), 'r') as f:\n",
    "        text = f.read()\n",
    "        text = text.replace(\"to the people of the state of new york\", \"\")\n",
    "        m_essays.append(text.split())"
   ]
  },
  {
   "cell_type": "markdown",
   "metadata": {},
   "source": [
    "## Run Smith Waterman"
   ]
  },
  {
   "cell_type": "code",
   "execution_count": 11,
   "metadata": {},
   "outputs": [],
   "source": [
    "align = smith_waterman(h_essays[0], m_essays[0])"
   ]
  },
  {
   "cell_type": "code",
   "execution_count": 12,
   "metadata": {},
   "outputs": [
    {
     "data": {
      "text/plain": [
       "(['the', 'existence', 'of', 'the'], ['the', 'existence', 'of', 'the'])"
      ]
     },
     "execution_count": 12,
     "metadata": {},
     "output_type": "execute_result"
    }
   ],
   "source": [
    "align"
   ]
  },
  {
   "cell_type": "code",
   "execution_count": 13,
   "metadata": {},
   "outputs": [],
   "source": [
    "align = smith_waterman(h_essays[0], m_essays[0], gap_open=2, gap_ext=2)"
   ]
  },
  {
   "cell_type": "code",
   "execution_count": 14,
   "metadata": {},
   "outputs": [
    {
     "data": {
      "text/plain": [
       "(['the', 'existence', 'of', 'the'], ['the', 'existence', 'of', 'the'])"
      ]
     },
     "execution_count": 14,
     "metadata": {},
     "output_type": "execute_result"
    }
   ],
   "source": [
    "align"
   ]
  },
  {
   "cell_type": "code",
   "execution_count": 9,
   "metadata": {},
   "outputs": [],
   "source": [
    "align = smith_waterman(h_essays[0], m_essays[0], match=2, mismatch=-2, gap_open=1, gap_ext=1)"
   ]
  },
  {
   "cell_type": "code",
   "execution_count": 10,
   "metadata": {},
   "outputs": [
    {
     "data": {
      "text/plain": [
       "(['on', 'the', 'other', 'hand', '_', 'it'],\n",
       " ['on', 'the', 'other', 'hand', 'enables', 'it'])"
      ]
     },
     "execution_count": 10,
     "metadata": {},
     "output_type": "execute_result"
    }
   ],
   "source": [
    "align"
   ]
  },
  {
   "cell_type": "code",
   "execution_count": 15,
   "metadata": {},
   "outputs": [
    {
     "name": "stdout",
     "output_type": "stream",
     "text": [
      "to evince the justness of their opinions and _ to increase the number of their converts by the _ loudness of their declamations and the _ bitterness of their invectives an enlightened zeal for the energy and efficiency of _ government will be stigmatized as the offspring of a temper fond of despotic power and hostile to the principles of liberty an overscrupulous jealousy of danger to _ _ _ the _ rights of the people which is more commonly the fault of the head than of the _ heart will be represented as mere pretense and _ _ artifice the stale bait for popularity at the _ _ expense of the public good it will _ _ be forgotten on the one hand that jealousy is the usual concomitant of _ _ _ love and that the\n",
      "to _ the _ national the local and particular to _ the _ _ _ state legislatures the other point of _ difference is the greater number of _ _ _ _ _ _ _ citizens and extent of territory which may be brought within the compass of _ republican than of democratic government and _ it is this circumstance principally which renders factious combinations less to be dreaded in the former than in the _ _ _ _ latter the _ smaller the _ _ society the fewer probably will be _ the distinct parties and interests composing it the _ _ _ _ fewer the distinct parties and interests the _ more frequently will a majority be found of the same party and the smaller the _ number of individuals composing a majority and _ the\n"
     ]
    }
   ],
   "source": [
    "align = smith_waterman(h_essays[0], m_essays[0], match=4, mismatch=-1, gap_open=1, gap_ext=1)\n",
    "print(' '.join(align[0]))\n",
    "print(' '.join(align[1]))"
   ]
  },
  {
   "cell_type": "code",
   "execution_count": null,
   "metadata": {},
   "outputs": [],
   "source": []
  }
 ],
 "metadata": {
  "kernelspec": {
   "display_name": "Python 3",
   "language": "python",
   "name": "python3"
  },
  "language_info": {
   "codemirror_mode": {
    "name": "ipython",
    "version": 3
   },
   "file_extension": ".py",
   "mimetype": "text/x-python",
   "name": "python",
   "nbconvert_exporter": "python",
   "pygments_lexer": "ipython3",
   "version": "3.6.5"
  }
 },
 "nbformat": 4,
 "nbformat_minor": 2
}
