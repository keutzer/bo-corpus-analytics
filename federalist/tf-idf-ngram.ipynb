{
 "cells": [
  {
   "cell_type": "code",
   "execution_count": 115,
   "metadata": {},
   "outputs": [],
   "source": [
    "from collections import Counter, defaultdict\n",
    "from nltk.util import ngrams\n",
    "\n",
    "import math\n",
    "import matplotlib.pyplot as plt\n",
    "import pickle"
   ]
  },
  {
   "cell_type": "code",
   "execution_count": 2,
   "metadata": {},
   "outputs": [],
   "source": [
    "with open('bibliography', 'rb') as f:\n",
    "    bib = pickle.load(f)"
   ]
  },
  {
   "cell_type": "code",
   "execution_count": 3,
   "metadata": {},
   "outputs": [],
   "source": [
    "h_essays = []\n",
    "m_essays = []\n",
    "for i in bib['HAMILTON']:\n",
    "    with open('lower_no_punc/federalist_no_{:02}.txt'.format(i), 'r') as f:\n",
    "        h_essays.append(f.read().split())\n",
    "for i in bib['MADISON']:\n",
    "    with open('lower_no_punc/federalist_no_{:02}.txt'.format(i), 'r') as f:\n",
    "        m_essays.append(f.read().split())"
   ]
  },
  {
   "cell_type": "markdown",
   "metadata": {},
   "source": [
    "We measure the similarity between a query document and documents in an existing corpus by calculating the cosine similarity between tf-idf weight vectors of all 1-K grams.\n",
    "\n",
    "We use the standard term-frequency and inverse-document-frequency formulas from (https://en.wikipedia.org/wiki/Tf%E2%80%93idf)."
   ]
  },
  {
   "cell_type": "code",
   "execution_count": 164,
   "metadata": {},
   "outputs": [],
   "source": [
    "class Document():\n",
    "    def __init__(self, text, K):\n",
    "        self.terms = Counter()\n",
    "        self.num_terms = 0\n",
    "        \n",
    "        for n in range(1, K+1):\n",
    "            grams = list(ngrams(text, n))\n",
    "            self.num_terms += len(grams)\n",
    "            self.terms.update(grams)\n",
    "        \n",
    "        self.tf_dict = defaultdict(lambda: 0)\n",
    "        for term, count in self.terms.items():\n",
    "            self.tf_dict[term] = count / self.num_terms\n",
    "        \n",
    "    \n",
    "    def tf_idf(self, idf_dict):\n",
    "        tf_idf_dict = {}\n",
    "        for term, tf in self.tf_dict.items():\n",
    "            tf_idf_dict[term] = tf * idf_dict[term]\n",
    "        return tf_idf_dict\n",
    "    \n",
    "    \n",
    "    def show_significant(self, tf_idf_dict, n=5):\n",
    "        print(*sorted(tf_idf_dict.items(), key=lambda x: x[1], reverse=True)[:n], sep='\\n')\n",
    "\n",
    "\n",
    "class Corpus():\n",
    "    def __init__(self, texts, K=5, c=0):\n",
    "        self.K = K\n",
    "        self.doc_map = {i: texts[i] for i in range(len(texts))}\n",
    "        self.documents = [Document(t, K) for t in texts]\n",
    "        self.doc_sets = [set(d.terms.keys()) for d in self.documents]\n",
    "        self.all_terms = set().union(*self.doc_sets)\n",
    "        self.doc_freq = {}\n",
    "        for term in self.all_terms:\n",
    "            n_t = sum([1 for doc in self.doc_sets if term in doc])\n",
    "            self.doc_freq[term] = n_t\n",
    "        \n",
    "        N = len(self.doc_sets)\n",
    "        \n",
    "        # exp-len-weighted idf\n",
    "        self.idf_dict = defaultdict(lambda: math.log(N))\n",
    "        for term in self.all_terms:\n",
    "            self.idf_dict[term] = math.log(N / (self.doc_freq[term] + 1)) * math.exp(c * len(term))\n",
    "        \n",
    "    \n",
    "        self.tf_idf_vectors = [d.tf_idf(self.idf_dict) for d in self.documents]\n",
    "    \n",
    "    \n",
    "    def tf_idf(self, text):\n",
    "        doc = Document(text, self.K)\n",
    "        return doc.tf_idf(self.idf_dict)\n",
    "\n",
    "        \n",
    "    def _dot(self, A, B):\n",
    "        ret = 0\n",
    "        for a, x in A.items():\n",
    "            if a in B:\n",
    "                ret += B[a] * x\n",
    "        return ret\n",
    "    \n",
    "\n",
    "    def cos_sim(self, A, B):\n",
    "        inner_product = self._dot(A, B)\n",
    "        mag_A = sum([x ** 2 for x in A.values()])\n",
    "        mag_B = sum([x ** 2 for x in B.values()])\n",
    "        return inner_product / math.sqrt((mag_A * mag_B))\n",
    "    \n",
    "    \n",
    "    def search(self, text):\n",
    "        search_v = self.tf_idf(text)\n",
    "        cos_sims = [self.cos_sim(search_v, w) for w in self.tf_idf_vectors]\n",
    "        max_idx = max(enumerate(cos_sims), key=lambda x: x[1])\n",
    "        return cos_sims, max_idx\n",
    "    "
   ]
  },
  {
   "cell_type": "code",
   "execution_count": 166,
   "metadata": {},
   "outputs": [],
   "source": [
    "c5 = Corpus(m_essays)\n",
    "c5_half = Corpus(m_essays, c=0.5)\n",
    "c5_one = Corpus(m_essays, c=1)\n",
    "c10 = Corpus(m_essays, K=10)\n",
    "c10_half = Corpus(m_essays, K=10, c=0.5)\n",
    "c10_one = Corpus(m_essays, K=10, c=1)"
   ]
  },
  {
   "cell_type": "code",
   "execution_count": 167,
   "metadata": {},
   "outputs": [
    {
     "name": "stdout",
     "output_type": "stream",
     "text": [
      "c5\n",
      "(('faction',), 0.002103843769079475)\n",
      "(('of', 'faction'), 0.0009994307269734614)\n",
      "(('majority',), 0.0007580917249804454)\n",
      "(('number', 'of', 'citizens'), 0.0007425330949692262)\n",
      "(('faction', 'the'), 0.0006783337143699932)\n",
      "c10\n",
      "(('faction',), 0.0010527919605401838)\n",
      "(('of', 'faction'), 0.0005001286929850655)\n",
      "(('majority',), 0.0003793593826411658)\n",
      "(('number', 'of', 'citizens'), 0.00037157363313182956)\n",
      "(('faction', 'the'), 0.00033944739221988905)\n"
     ]
    }
   ],
   "source": [
    "print(\"c5\")\n",
    "c5.documents[0].show_significant(c5.tf_idf_vectors[0])\n",
    "print(\"c10\")\n",
    "c10.documents[0].show_significant(c10.tf_idf_vectors[0])"
   ]
  },
  {
   "cell_type": "code",
   "execution_count": 168,
   "metadata": {},
   "outputs": [
    {
     "name": "stdout",
     "output_type": "stream",
     "text": [
      "c5 half\n",
      "(('the', 'rights', 'of', 'other', 'citizens'), 0.006197847283990497)\n",
      "(('rights', 'of', 'other', 'citizens', 'or'), 0.004131898189326999)\n",
      "(('of', 'faction', 'the', 'one', 'by'), 0.004131898189326999)\n",
      "(('liberty', 'which', 'is', 'essential', 'to'), 0.004131898189326999)\n",
      "(('the', 'form', 'of', 'popular', 'government'), 0.004131898189326999)\n",
      "c10 half\n",
      "(('to', 'a', 'certain', 'number', 'in', 'order', 'to', 'guard', 'against', 'the'), 0.02518922991424256)\n",
      "(('to', 'a', 'certain', 'number', 'in', 'order', 'to', 'guard', 'against'), 0.01527804023753874)\n",
      "(('a', 'certain', 'number', 'in', 'order', 'to', 'guard', 'against', 'the'), 0.01527804023753874)\n",
      "(('the', 'same', 'subject', 'continued', 'the', 'union', 'as', 'a', 'safeguard', 'against'), 0.01259461495712128)\n",
      "(('same', 'subject', 'continued', 'the', 'union', 'as', 'a', 'safeguard', 'against', 'domestic'), 0.01259461495712128)\n"
     ]
    }
   ],
   "source": [
    "print(\"c5 half\")\n",
    "c5_half.documents[0].show_significant(c5_half.tf_idf_vectors[0])\n",
    "print(\"c10 half\")\n",
    "c10_half.documents[0].show_significant(c10_half.tf_idf_vectors[0])"
   ]
  },
  {
   "cell_type": "code",
   "execution_count": 169,
   "metadata": {},
   "outputs": [
    {
     "name": "stdout",
     "output_type": "stream",
     "text": [
      "c5 one\n",
      "(('the', 'rights', 'of', 'other', 'citizens'), 0.07550523710657667)\n",
      "(('rights', 'of', 'other', 'citizens', 'or'), 0.05033682473771778)\n",
      "(('of', 'faction', 'the', 'one', 'by'), 0.05033682473771778)\n",
      "(('liberty', 'which', 'is', 'essential', 'to'), 0.05033682473771778)\n",
      "(('the', 'form', 'of', 'popular', 'government'), 0.05033682473771778)\n",
      "c10 one\n",
      "(('to', 'a', 'certain', 'number', 'in', 'order', 'to', 'guard', 'against', 'the'), 3.7384131869338635)\n",
      "(('the', 'same', 'subject', 'continued', 'the', 'union', 'as', 'a', 'safeguard', 'against'), 1.8692065934669317)\n",
      "(('same', 'subject', 'continued', 'the', 'union', 'as', 'a', 'safeguard', 'against', 'domestic'), 1.8692065934669317)\n",
      "(('subject', 'continued', 'the', 'union', 'as', 'a', 'safeguard', 'against', 'domestic', 'faction'), 1.8692065934669317)\n",
      "(('continued', 'the', 'union', 'as', 'a', 'safeguard', 'against', 'domestic', 'faction', 'and'), 1.8692065934669317)\n"
     ]
    }
   ],
   "source": [
    "print(\"c5 one\")\n",
    "c5_one.documents[0].show_significant(c5_one.tf_idf_vectors[0])\n",
    "print(\"c10 one\")\n",
    "c10_one.documents[0].show_significant(c10_one.tf_idf_vectors[0])"
   ]
  },
  {
   "cell_type": "code",
   "execution_count": 154,
   "metadata": {},
   "outputs": [],
   "source": [
    "clean = h_essays[0]"
   ]
  },
  {
   "cell_type": "code",
   "execution_count": 155,
   "metadata": {},
   "outputs": [],
   "source": [
    "short_lift = \"it is of great importance in a republic not only\".split()\n",
    "medium_lift = \"it is of great importance in a republic not only to guard the society against the oppression of its rulers but to guard one part of the society against the injustice of the other part\".split()\n",
    "long_lift = \"it is of great importance in a republic not only to guard the society against the oppression of its rulers but to guard one part of the society against the injustice of the other part different interests necessarily exist in different classes of citizens if a majority be united by a common interest the rights of the minority will be insecure\".split()\n",
    "\n",
    "dirty_short = clean + short_lift\n",
    "dirty_medium = clean + medium_lift\n",
    "dirty_long = clean + long_lift"
   ]
  },
  {
   "cell_type": "code",
   "execution_count": 175,
   "metadata": {},
   "outputs": [
    {
     "name": "stdout",
     "output_type": "stream",
     "text": [
      "clean c=0\n",
      "max_idx: 1 score: 0.021908031060394503\n"
     ]
    },
    {
     "data": {
      "image/png": "[encoded data removed]",
      "text/plain": [
       "<matplotlib.figure.Figure at 0x159425978>"
      ]
     },
     "metadata": {},
     "output_type": "display_data"
    },
    {
     "name": "stdout",
     "output_type": "stream",
     "text": [
      "clean c=0.5\n",
      "max_idx: 10 score: 0.01997798586399663\n"
     ]
    },
    {
     "data": {
      "image/png": "[encoded data removed]",
      "text/plain": [
       "<matplotlib.figure.Figure at 0x159425fd0>"
      ]
     },
     "metadata": {},
     "output_type": "display_data"
    },
    {
     "name": "stdout",
     "output_type": "stream",
     "text": [
      "clean c=1\n",
      "max_idx: 10 score: 0.022651147679338693\n"
     ]
    },
    {
     "data": {
      "image/png": "[encoded data removed]",
      "text/plain": [
       "<matplotlib.figure.Figure at 0x185571ef0>"
      ]
     },
     "metadata": {},
     "output_type": "display_data"
    },
    {
     "data": {
      "text/plain": [
       "<matplotlib.figure.Figure at 0x166d248d0>"
      ]
     },
     "metadata": {},
     "output_type": "display_data"
    }
   ],
   "source": [
    "print(\"clean c=0\")\n",
    "cos_sims, max_idx = c5.search(clean)\n",
    "plt.hist(cos_sims)\n",
    "print(\"max_idx: {} score: {}\".format(max_idx[0], max_idx[1]))\n",
    "plt.show()\n",
    "\n",
    "plt.clf()\n",
    "\n",
    "print(\"clean c=0.5\")\n",
    "cos_sims, max_idx = c5_half.search(clean)\n",
    "plt.hist(cos_sims)\n",
    "print(\"max_idx: {} score: {}\".format(max_idx[0], max_idx[1]))\n",
    "plt.show()\n",
    "\n",
    "plt.clf()\n",
    "\n",
    "print(\"clean c=1\")\n",
    "cos_sims, max_idx = c5_one.search(clean)\n",
    "plt.hist(cos_sims)\n",
    "print(\"max_idx: {} score: {}\".format(max_idx[0], max_idx[1]))\n",
    "plt.show()\n",
    "\n",
    "plt.clf()"
   ]
  },
  {
   "cell_type": "code",
   "execution_count": 176,
   "metadata": {},
   "outputs": [
    {
     "name": "stdout",
     "output_type": "stream",
     "text": [
      "short lift c=0\n",
      "max_idx: 1 score: 0.022268048060485504\n"
     ]
    },
    {
     "data": {
      "image/png": "[encoded data removed]",
      "text/plain": [
       "<matplotlib.figure.Figure at 0x1313ccfd0>"
      ]
     },
     "metadata": {},
     "output_type": "display_data"
    },
    {
     "name": "stdout",
     "output_type": "stream",
     "text": [
      "short lift c=0.5\n",
      "max_idx: 16 score: 0.029447595633291867\n"
     ]
    },
    {
     "data": {
      "image/png": "[encoded data removed]",
      "text/plain": [
       "<matplotlib.figure.Figure at 0x1313cca58>"
      ]
     },
     "metadata": {},
     "output_type": "display_data"
    },
    {
     "name": "stdout",
     "output_type": "stream",
     "text": [
      "short lift c=1\n",
      "max_idx: 16 score: 0.041219383124844994\n"
     ]
    },
    {
     "data": {
      "image/png": "[encoded data removed]",
      "text/plain": [
       "<matplotlib.figure.Figure at 0x14f7cf780>"
      ]
     },
     "metadata": {},
     "output_type": "display_data"
    },
    {
     "data": {
      "text/plain": [
       "<matplotlib.figure.Figure at 0x14f7d0978>"
      ]
     },
     "metadata": {},
     "output_type": "display_data"
    }
   ],
   "source": [
    "print(\"short lift c=0\")\n",
    "cos_sims, max_idx = c5.search(dirty_short)\n",
    "plt.hist(cos_sims)\n",
    "print(\"max_idx: {} score: {}\".format(max_idx[0], max_idx[1]))\n",
    "plt.show()\n",
    "\n",
    "plt.clf()\n",
    "\n",
    "print(\"short lift c=0.5\")\n",
    "cos_sims, max_idx = c5_half.search(dirty_short)\n",
    "plt.hist(cos_sims)\n",
    "print(\"max_idx: {} score: {}\".format(max_idx[0], max_idx[1]))\n",
    "plt.show()\n",
    "\n",
    "plt.clf()\n",
    "\n",
    "print(\"short lift c=1\")\n",
    "cos_sims, max_idx = c5_one.search(dirty_short)\n",
    "plt.hist(cos_sims)\n",
    "print(\"max_idx: {} score: {}\".format(max_idx[0], max_idx[1]))\n",
    "plt.show()\n",
    "\n",
    "plt.clf()"
   ]
  },
  {
   "cell_type": "code",
   "execution_count": 178,
   "metadata": {},
   "outputs": [
    {
     "name": "stdout",
     "output_type": "stream",
     "text": [
      "medium lift c=0\n",
      "max_idx: 16 score: 0.027120500983632487\n"
     ]
    },
    {
     "data": {
      "image/png": "[encoded data removed]",
      "text/plain": [
       "<matplotlib.figure.Figure at 0x166ed0828>"
      ]
     },
     "metadata": {},
     "output_type": "display_data"
    },
    {
     "name": "stdout",
     "output_type": "stream",
     "text": [
      "medium lift c=0.5\n",
      "max_idx: 16 score: 0.0766013616486071\n"
     ]
    },
    {
     "data": {
      "image/png": "[encoded data removed]",
      "text/plain": [
       "<matplotlib.figure.Figure at 0x13178bef0>"
      ]
     },
     "metadata": {},
     "output_type": "display_data"
    },
    {
     "name": "stdout",
     "output_type": "stream",
     "text": [
      "medium lift c=1\n",
      "max_idx: 16 score: 0.10581103862368024\n"
     ]
    },
    {
     "data": {
      "image/png": "[encoded data removed]",
      "text/plain": [
       "<matplotlib.figure.Figure at 0x14f7c62b0>"
      ]
     },
     "metadata": {},
     "output_type": "display_data"
    },
    {
     "data": {
      "text/plain": [
       "<matplotlib.figure.Figure at 0x166b19f28>"
      ]
     },
     "metadata": {},
     "output_type": "display_data"
    }
   ],
   "source": [
    "print(\"medium lift c=0\")\n",
    "cos_sims, max_idx = c5.search(dirty_medium)\n",
    "plt.hist(cos_sims)\n",
    "print(\"max_idx: {} score: {}\".format(max_idx[0], max_idx[1]))\n",
    "plt.show()\n",
    "\n",
    "plt.clf()\n",
    "\n",
    "print(\"medium lift c=0.5\")\n",
    "cos_sims, max_idx = c5_half.search(dirty_medium)\n",
    "plt.hist(cos_sims)\n",
    "print(\"max_idx: {} score: {}\".format(max_idx[0], max_idx[1]))\n",
    "plt.show()\n",
    "\n",
    "plt.clf()\n",
    "\n",
    "print(\"medium lift c=1\")\n",
    "cos_sims, max_idx = c5_one.search(dirty_medium)\n",
    "plt.hist(cos_sims)\n",
    "print(\"max_idx: {} score: {}\".format(max_idx[0], max_idx[1]))\n",
    "plt.show()\n",
    "\n",
    "plt.clf()"
   ]
  },
  {
   "cell_type": "code",
   "execution_count": 179,
   "metadata": {},
   "outputs": [
    {
     "name": "stdout",
     "output_type": "stream",
     "text": [
      "long lift c=0\n",
      "max_idx: 16 score: 0.03932506306532064\n"
     ]
    },
    {
     "data": {
      "image/png": "[encoded data removed]",
      "text/plain": [
       "<matplotlib.figure.Figure at 0x1594c1470>"
      ]
     },
     "metadata": {},
     "output_type": "display_data"
    },
    {
     "name": "stdout",
     "output_type": "stream",
     "text": [
      "long lift c=0.5\n",
      "max_idx: 16 score: 0.11937235985080417\n"
     ]
    },
    {
     "data": {
      "image/png": "[encoded data removed]",
      "text/plain": [
       "<matplotlib.figure.Figure at 0x166d791d0>"
      ]
     },
     "metadata": {},
     "output_type": "display_data"
    },
    {
     "name": "stdout",
     "output_type": "stream",
     "text": [
      "long lift c=1\n",
      "max_idx: 16 score: 0.15504891270860052\n"
     ]
    },
    {
     "data": {
      "image/png": "[encoded data removed]",
      "text/plain": [
       "<matplotlib.figure.Figure at 0x12b5a7a58>"
      ]
     },
     "metadata": {},
     "output_type": "display_data"
    },
    {
     "data": {
      "text/plain": [
       "<matplotlib.figure.Figure at 0x122f222b0>"
      ]
     },
     "metadata": {},
     "output_type": "display_data"
    }
   ],
   "source": [
    "print(\"long lift c=0\")\n",
    "cos_sims, max_idx = c5.search(dirty_long)\n",
    "plt.hist(cos_sims)\n",
    "print(\"max_idx: {} score: {}\".format(max_idx[0], max_idx[1]))\n",
    "plt.show()\n",
    "\n",
    "plt.clf()\n",
    "\n",
    "print(\"long lift c=0.5\")\n",
    "cos_sims, max_idx = c5_half.search(dirty_long)\n",
    "plt.hist(cos_sims)\n",
    "print(\"max_idx: {} score: {}\".format(max_idx[0], max_idx[1]))\n",
    "plt.show()\n",
    "\n",
    "plt.clf()\n",
    "\n",
    "print(\"long lift c=1\")\n",
    "cos_sims, max_idx = c5_one.search(dirty_long)\n",
    "plt.hist(cos_sims)\n",
    "print(\"max_idx: {} score: {}\".format(max_idx[0], max_idx[1]))\n",
    "plt.show()\n",
    "\n",
    "plt.clf()"
   ]
  },
  {
   "cell_type": "code",
   "execution_count": null,
   "metadata": {},
   "outputs": [],
   "source": []
  }
 ],
 "metadata": {
  "kernelspec": {
   "display_name": "Python 3",
   "language": "python",
   "name": "python3"
  },
  "language_info": {
   "codemirror_mode": {
    "name": "ipython",
    "version": 3
   },
   "file_extension": ".py",
   "mimetype": "text/x-python",
   "name": "python",
   "nbconvert_exporter": "python",
   "pygments_lexer": "ipython3",
   "version": "3.6.5"
  }
 },
 "nbformat": 4,
 "nbformat_minor": 2
}
