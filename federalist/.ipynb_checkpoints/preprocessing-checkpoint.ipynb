{
 "cells": [
  {
   "cell_type": "code",
   "execution_count": 43,
   "metadata": {},
   "outputs": [],
   "source": [
    "import re\n",
    "import pickle"
   ]
  },
  {
   "cell_type": "code",
   "execution_count": 44,
   "metadata": {},
   "outputs": [],
   "source": [
    "with open('all_federalist_papers.txt', 'r') as f:\n",
    "    text = f.read()\n",
    "\n",
    "papers = re.split(r\"FEDERALIST No\\. \\d+\\n\\n\", text)[1:]\n",
    "\n",
    "authorship = {}"
   ]
  },
  {
   "cell_type": "markdown",
   "metadata": {},
   "source": [
    "## Split into individual essays"
   ]
  },
  {
   "cell_type": "code",
   "execution_count": 46,
   "metadata": {},
   "outputs": [],
   "source": [
    "for i in range(85):\n",
    "    m = re.search(r\"(MADISON.*|HAMILTON.*|JAY.*)(\\n\\n)\", papers[i])\n",
    "\n",
    "    # Get and strip author name\n",
    "    author = m.group(1)\n",
    "    papers[i] = papers[i][:m.start()] + papers[i][m.end():]\n",
    "\n",
    "    authorship[i+1] = author\n",
    "    \n",
    "    with open(\"raw_essays/federalist_no_{:02}.txt\".format(i+1), 'w') as f:\n",
    "        f.write(papers[i])\n",
    "        \n",
    "with open(\"authorship_dict\", 'wb') as f:\n",
    "    pickle.dump(authorship, f)"
   ]
  },
  {
   "cell_type": "markdown",
   "metadata": {},
   "source": [
    "## Process each essay"
   ]
  },
  {
   "cell_type": "code",
   "execution_count": 47,
   "metadata": {},
   "outputs": [],
   "source": [
    "from collections import Counter\n",
    "import string"
   ]
  },
  {
   "cell_type": "code",
   "execution_count": 50,
   "metadata": {},
   "outputs": [],
   "source": [
    "t = str.maketrans('','',string.punctuation)\n",
    "for i in range(85):\n",
    "    words = [w.lower().translate(t) for w in papers[i].split()]\n",
    "    \n",
    "    with open(\"lower_no_punc/federalist_no_{:02}.txt\".format(i+1), 'w') as f:\n",
    "        f.write(' '.join(words))"
   ]
  },
  {
   "cell_type": "code",
   "execution_count": null,
   "metadata": {},
   "outputs": [],
   "source": []
  }
 ],
 "metadata": {
  "kernelspec": {
   "display_name": "Python 3",
   "language": "python",
   "name": "python3"
  },
  "language_info": {
   "codemirror_mode": {
    "name": "ipython",
    "version": 3
   },
   "file_extension": ".py",
   "mimetype": "text/x-python",
   "name": "python",
   "nbconvert_exporter": "python",
   "pygments_lexer": "ipython3",
   "version": "3.6.5"
  }
 },
 "nbformat": 4,
 "nbformat_minor": 2
}
